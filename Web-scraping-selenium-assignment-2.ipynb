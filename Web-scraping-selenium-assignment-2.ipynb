{
 "cells": [
  {
   "cell_type": "code",
   "execution_count": 1,
   "id": "223c9d82",
   "metadata": {},
   "outputs": [
    {
     "name": "stdout",
     "output_type": "stream",
     "text": [
      "Requirement already satisfied: selenium in c:\\anaconda\\lib\\site-packages (3.141.0)Note: you may need to restart the kernel to use updated packages.\n",
      "Requirement already satisfied: urllib3 in c:\\anaconda\\lib\\site-packages (from selenium) (1.26.7)\n",
      "\n"
     ]
    }
   ],
   "source": [
    "pip install selenium"
   ]
  },
  {
   "cell_type": "markdown",
   "id": "5858a238",
   "metadata": {},
   "source": [
    "Q1: Write a python program to scrape data for “Data Analyst” Job position in “Bangalore” location. You\n",
    "have to scrape the job-title, job-location, company_name, experience_required. You have to scrape first 10\n",
    "jobs data.\n",
    "This task will be done in following steps:\n",
    "1. First get the webpage https://www.naukri.com/\n",
    "2. Enter “Data Analyst” in “Skill, Designations, Companies” field and enter “Bangalore” in “enter the\n",
    "location” field.\n",
    "3. Then click the search button.\n",
    "4. Then scrape the data for the first 10 jobs results you get.\n",
    "5. Finally create a dataframe of the scraped data.\n",
    "Note: All of the above steps have to be done in code. No step is to be done manually."
   ]
  },
  {
   "cell_type": "code",
   "execution_count": 1,
   "id": "afd04cc8",
   "metadata": {},
   "outputs": [],
   "source": [
    "import selenium\n",
    "import pandas as pd\n",
    "from selenium import webdriver\n",
    "import warnings\n",
    "warnings.filterwarnings(\"ignore\")\n",
    "import time"
   ]
  },
  {
   "cell_type": "code",
   "execution_count": 29,
   "id": "12dac6c5",
   "metadata": {},
   "outputs": [],
   "source": [
    "driver = webdriver.Chrome(r\"C:\\Users\\SSIM STUDENT\\Desktop\\job\\DA\\chromedriver.exe\")\n",
    "time.sleep(0)"
   ]
  },
  {
   "cell_type": "code",
   "execution_count": 30,
   "id": "b25bfe10",
   "metadata": {},
   "outputs": [],
   "source": [
    "driver.get('https://www.naukri.com/')"
   ]
  },
  {
   "cell_type": "code",
   "execution_count": 31,
   "id": "e2367519",
   "metadata": {},
   "outputs": [],
   "source": [
    "search_field_designation=driver.find_element_by_class_name(\"suggestor-input \")\n",
    "search_field_designation.send_keys(\"Data Analyst\")"
   ]
  },
  {
   "cell_type": "code",
   "execution_count": 32,
   "id": "575fc1fc",
   "metadata": {},
   "outputs": [],
   "source": [
    "search_field_location=driver.find_element_by_xpath('/html/body/div/div[2]/div[3]/div/div/div[5]/div/div/div/input')\n",
    "search_field_location.send_keys(\"Bangalore\")"
   ]
  },
  {
   "cell_type": "code",
   "execution_count": 33,
   "id": "a609725a",
   "metadata": {},
   "outputs": [],
   "source": [
    "search_button = driver.find_element_by_xpath(\"/html/body/div/div[2]/div[3]/div/div/div[6]\")\n",
    "search_button.click()"
   ]
  },
  {
   "cell_type": "code",
   "execution_count": 34,
   "id": "f437f9ca",
   "metadata": {},
   "outputs": [],
   "source": [
    "Job_Role=[]\n",
    "Comp_names=[]\n",
    "Experience_list=[]\n",
    "Location_list=[]"
   ]
  },
  {
   "cell_type": "code",
   "execution_count": 35,
   "id": "73320193",
   "metadata": {},
   "outputs": [
    {
     "data": {
      "text/plain": [
       "[<selenium.webdriver.remote.webelement.WebElement (session=\"adc8440dcee49d0d28ed94f859eef41b\", element=\"74fdc47c-f05b-4eed-82da-4559c4076c7c\")>,\n",
       " <selenium.webdriver.remote.webelement.WebElement (session=\"adc8440dcee49d0d28ed94f859eef41b\", element=\"e6ee8b95-0635-4e96-8ae8-1adabe4b99fb\")>]"
      ]
     },
     "execution_count": 35,
     "metadata": {},
     "output_type": "execute_result"
    }
   ],
   "source": [
    "title_tags=driver.find_elements_by_xpath(\"//a[@class='title fw500 ellipsis']\")\n",
    "title_tags[0:2]"
   ]
  },
  {
   "cell_type": "code",
   "execution_count": 36,
   "id": "c56fd863",
   "metadata": {},
   "outputs": [
    {
     "data": {
      "text/plain": [
       "['Business Data Analyst', 'EY GDS Data Analyst-Finland based project']"
      ]
     },
     "execution_count": 36,
     "metadata": {},
     "output_type": "execute_result"
    }
   ],
   "source": [
    "for i in title_tags:\n",
    "    title=i.text\n",
    "    Job_Role.append(title)\n",
    "Job_Role[0:2]"
   ]
  },
  {
   "cell_type": "code",
   "execution_count": 37,
   "id": "e3874028",
   "metadata": {},
   "outputs": [],
   "source": [
    "Jl= Job_Role[0:10]"
   ]
  },
  {
   "cell_type": "code",
   "execution_count": 38,
   "id": "d4f69ec7",
   "metadata": {},
   "outputs": [
    {
     "data": {
      "text/plain": [
       "[<selenium.webdriver.remote.webelement.WebElement (session=\"adc8440dcee49d0d28ed94f859eef41b\", element=\"8886a76d-eeb7-4405-9eab-7d13c57ecbd8\")>,\n",
       " <selenium.webdriver.remote.webelement.WebElement (session=\"adc8440dcee49d0d28ed94f859eef41b\", element=\"ed9ac465-ae63-4c2b-8250-f2577368ba98\")>]"
      ]
     },
     "execution_count": 38,
     "metadata": {},
     "output_type": "execute_result"
    }
   ],
   "source": [
    "Company_tags=driver.find_elements_by_xpath(\"//a[@class='subTitle ellipsis fleft']\")\n",
    "Company_tags[0:2]"
   ]
  },
  {
   "cell_type": "code",
   "execution_count": 39,
   "id": "e88a22d9",
   "metadata": {},
   "outputs": [
    {
     "data": {
      "text/plain": [
       "['NXP Semiconductors', 'EY']"
      ]
     },
     "execution_count": 39,
     "metadata": {},
     "output_type": "execute_result"
    }
   ],
   "source": [
    "for i in Company_tags:\n",
    "    company_lint=i.text\n",
    "    Comp_names.append(company_lint)\n",
    "Comp_names[0:2]"
   ]
  },
  {
   "cell_type": "code",
   "execution_count": 40,
   "id": "0b6ed552",
   "metadata": {},
   "outputs": [],
   "source": [
    "Cl=Comp_names[0:10]"
   ]
  },
  {
   "cell_type": "code",
   "execution_count": 41,
   "id": "48aaf8df",
   "metadata": {},
   "outputs": [
    {
     "data": {
      "text/plain": [
       "[<selenium.webdriver.remote.webelement.WebElement (session=\"adc8440dcee49d0d28ed94f859eef41b\", element=\"1e49ba67-06fe-4f1b-9424-749ee14fbe28\")>,\n",
       " <selenium.webdriver.remote.webelement.WebElement (session=\"adc8440dcee49d0d28ed94f859eef41b\", element=\"91b2a65a-4fa8-4415-b014-23ba6e115ef5\")>]"
      ]
     },
     "execution_count": 41,
     "metadata": {},
     "output_type": "execute_result"
    }
   ],
   "source": [
    "Experience_lists=driver.find_elements_by_xpath(\"//li[@class='fleft grey-text br2 placeHolderLi experience']/span\")\n",
    "Experience_lists[0:2]"
   ]
  },
  {
   "cell_type": "code",
   "execution_count": 42,
   "id": "47a91894",
   "metadata": {},
   "outputs": [
    {
     "data": {
      "text/plain": [
       "['2-5 Yrs', '0-1 Yrs']"
      ]
     },
     "execution_count": 42,
     "metadata": {},
     "output_type": "execute_result"
    }
   ],
   "source": [
    "for i in Experience_lists:\n",
    "    Experience_lint=i.text\n",
    "    Experience_list.append(Experience_lint)\n",
    "Experience_list[0:2]"
   ]
  },
  {
   "cell_type": "code",
   "execution_count": 43,
   "id": "8a6b012f",
   "metadata": {},
   "outputs": [],
   "source": [
    "El=Experience_list[0:10]"
   ]
  },
  {
   "cell_type": "code",
   "execution_count": 44,
   "id": "b8163acc",
   "metadata": {},
   "outputs": [
    {
     "data": {
      "text/plain": [
       "[<selenium.webdriver.remote.webelement.WebElement (session=\"adc8440dcee49d0d28ed94f859eef41b\", element=\"b950945e-fdad-4759-8e75-660fe22a0e07\")>,\n",
       " <selenium.webdriver.remote.webelement.WebElement (session=\"adc8440dcee49d0d28ed94f859eef41b\", element=\"808820c5-d98c-4d5e-a437-abd53e8c8109\")>]"
      ]
     },
     "execution_count": 44,
     "metadata": {},
     "output_type": "execute_result"
    }
   ],
   "source": [
    "Location_lists=driver.find_elements_by_xpath(\"//li[@class='fleft grey-text br2 placeHolderLi location']/span\")\n",
    "Location_lists[0:2]"
   ]
  },
  {
   "cell_type": "code",
   "execution_count": 45,
   "id": "22c7575b",
   "metadata": {},
   "outputs": [
    {
     "data": {
      "text/plain": [
       "['Bangalore/Bengaluru', 'Bangalore/Bengaluru']"
      ]
     },
     "execution_count": 45,
     "metadata": {},
     "output_type": "execute_result"
    }
   ],
   "source": [
    "for i in Location_lists:\n",
    "    Location_lint=i.text\n",
    "    Location_list.append(Location_lint)\n",
    "Location_list[0:2]"
   ]
  },
  {
   "cell_type": "code",
   "execution_count": 46,
   "id": "83f6a743",
   "metadata": {},
   "outputs": [],
   "source": [
    "Ll=Location_list[0:10]"
   ]
  },
  {
   "cell_type": "code",
   "execution_count": 47,
   "id": "89330af6",
   "metadata": {},
   "outputs": [
    {
     "data": {
      "text/plain": [
       "(10, 10, 10, 10)"
      ]
     },
     "execution_count": 47,
     "metadata": {},
     "output_type": "execute_result"
    }
   ],
   "source": [
    "len(Jl),len(Cl),len(El),len(Ll)"
   ]
  },
  {
   "cell_type": "code",
   "execution_count": 48,
   "id": "83848dd5",
   "metadata": {},
   "outputs": [],
   "source": [
    "jobs=pd.DataFrame({'title':Jl,'company':Cl,'Experience_required':El,'location':Ll})"
   ]
  },
  {
   "cell_type": "code",
   "execution_count": 49,
   "id": "dc9f71ea",
   "metadata": {},
   "outputs": [
    {
     "data": {
      "text/html": [
       "<div>\n",
       "<style scoped>\n",
       "    .dataframe tbody tr th:only-of-type {\n",
       "        vertical-align: middle;\n",
       "    }\n",
       "\n",
       "    .dataframe tbody tr th {\n",
       "        vertical-align: top;\n",
       "    }\n",
       "\n",
       "    .dataframe thead th {\n",
       "        text-align: right;\n",
       "    }\n",
       "</style>\n",
       "<table border=\"1\" class=\"dataframe\">\n",
       "  <thead>\n",
       "    <tr style=\"text-align: right;\">\n",
       "      <th></th>\n",
       "      <th>title</th>\n",
       "      <th>company</th>\n",
       "      <th>Experience_required</th>\n",
       "      <th>location</th>\n",
       "    </tr>\n",
       "  </thead>\n",
       "  <tbody>\n",
       "    <tr>\n",
       "      <th>0</th>\n",
       "      <td>Business Data Analyst</td>\n",
       "      <td>NXP Semiconductors</td>\n",
       "      <td>2-5 Yrs</td>\n",
       "      <td>Bangalore/Bengaluru</td>\n",
       "    </tr>\n",
       "    <tr>\n",
       "      <th>1</th>\n",
       "      <td>EY GDS Data Analyst-Finland based project</td>\n",
       "      <td>EY</td>\n",
       "      <td>0-1 Yrs</td>\n",
       "      <td>Bangalore/Bengaluru</td>\n",
       "    </tr>\n",
       "    <tr>\n",
       "      <th>2</th>\n",
       "      <td>Data Analyst - Data and Analytics</td>\n",
       "      <td>Intel</td>\n",
       "      <td>3-6 Yrs</td>\n",
       "      <td>Bangalore/Bengaluru</td>\n",
       "    </tr>\n",
       "    <tr>\n",
       "      <th>3</th>\n",
       "      <td>Data Analyst - Data and Analytics</td>\n",
       "      <td>Intel</td>\n",
       "      <td>3-6 Yrs</td>\n",
       "      <td>Bangalore/Bengaluru</td>\n",
       "    </tr>\n",
       "    <tr>\n",
       "      <th>4</th>\n",
       "      <td>Data Analyst (CSD)</td>\n",
       "      <td>Siemens</td>\n",
       "      <td>2-6 Yrs</td>\n",
       "      <td>Bangalore/Bengaluru</td>\n",
       "    </tr>\n",
       "    <tr>\n",
       "      <th>5</th>\n",
       "      <td>Data Analyst - Data Science, 3 To 5 Years</td>\n",
       "      <td>Rise Finconnect Private Limited</td>\n",
       "      <td>2-6 Yrs</td>\n",
       "      <td>Bangalore/Bengaluru</td>\n",
       "    </tr>\n",
       "    <tr>\n",
       "      <th>6</th>\n",
       "      <td>Data Analyst / Business Analyst</td>\n",
       "      <td>METRO Cash &amp; Carry</td>\n",
       "      <td>3-8 Yrs</td>\n",
       "      <td>Bangalore/Bengaluru</td>\n",
       "    </tr>\n",
       "    <tr>\n",
       "      <th>7</th>\n",
       "      <td>Data Analyst</td>\n",
       "      <td>Cigna TTK</td>\n",
       "      <td>2-4 Yrs</td>\n",
       "      <td>Bangalore/Bengaluru</td>\n",
       "    </tr>\n",
       "    <tr>\n",
       "      <th>8</th>\n",
       "      <td>SAS/SQL - Healthcare Data Analyst - Bangalore</td>\n",
       "      <td>Genpact</td>\n",
       "      <td>7-10 Yrs</td>\n",
       "      <td>Bangalore/Bengaluru</td>\n",
       "    </tr>\n",
       "    <tr>\n",
       "      <th>9</th>\n",
       "      <td>Business &amp; Data Analyst - Alteryx (London)</td>\n",
       "      <td>Imaginative Brains LLP</td>\n",
       "      <td>5-10 Yrs</td>\n",
       "      <td>Bangalore/Bengaluru, Delhi / NCR, Mumbai (All ...</td>\n",
       "    </tr>\n",
       "  </tbody>\n",
       "</table>\n",
       "</div>"
      ],
      "text/plain": [
       "                                           title  \\\n",
       "0                          Business Data Analyst   \n",
       "1      EY GDS Data Analyst-Finland based project   \n",
       "2              Data Analyst - Data and Analytics   \n",
       "3              Data Analyst - Data and Analytics   \n",
       "4                             Data Analyst (CSD)   \n",
       "5      Data Analyst - Data Science, 3 To 5 Years   \n",
       "6                Data Analyst / Business Analyst   \n",
       "7                                   Data Analyst   \n",
       "8  SAS/SQL - Healthcare Data Analyst - Bangalore   \n",
       "9     Business & Data Analyst - Alteryx (London)   \n",
       "\n",
       "                           company Experience_required  \\\n",
       "0               NXP Semiconductors             2-5 Yrs   \n",
       "1                               EY             0-1 Yrs   \n",
       "2                            Intel             3-6 Yrs   \n",
       "3                            Intel             3-6 Yrs   \n",
       "4                          Siemens             2-6 Yrs   \n",
       "5  Rise Finconnect Private Limited             2-6 Yrs   \n",
       "6               METRO Cash & Carry             3-8 Yrs   \n",
       "7                        Cigna TTK             2-4 Yrs   \n",
       "8                          Genpact            7-10 Yrs   \n",
       "9           Imaginative Brains LLP            5-10 Yrs   \n",
       "\n",
       "                                            location  \n",
       "0                                Bangalore/Bengaluru  \n",
       "1                                Bangalore/Bengaluru  \n",
       "2                                Bangalore/Bengaluru  \n",
       "3                                Bangalore/Bengaluru  \n",
       "4                                Bangalore/Bengaluru  \n",
       "5                                Bangalore/Bengaluru  \n",
       "6                                Bangalore/Bengaluru  \n",
       "7                                Bangalore/Bengaluru  \n",
       "8                                Bangalore/Bengaluru  \n",
       "9  Bangalore/Bengaluru, Delhi / NCR, Mumbai (All ...  "
      ]
     },
     "execution_count": 49,
     "metadata": {},
     "output_type": "execute_result"
    }
   ],
   "source": [
    "jobs"
   ]
  },
  {
   "cell_type": "markdown",
   "id": "7ead5128",
   "metadata": {},
   "source": [
    "Q4:Scrape data of first 100 sunglasses listings on flipkart.com. You have to scrape four attributes:\n",
    "1. Brand\n",
    "2. Product Description\n",
    "3. Price\n",
    "The attributes which you have to scrape is ticked marked in the below image.\n",
    "To scrape the data you have to go through following steps:\n",
    "1. Go to Flipkart webpage by url : https://www.flipkart.com/\n",
    "2. Enter “sunglasses” in the search field where “search for products, brands and more” is written and\n",
    "click the search icon\n",
    "3. After that you will reach to the page having a lot of sunglasses. From this page you can scrap the\n",
    "required data as usual.\n",
    "4. After scraping data from the first page, go to the “Next” Button at the bottom other page , then\n",
    "click on it.\n",
    "5. Now scrape data from this page as usual\n",
    "6. Repeat this until you get data for 100 sunglasses.\n",
    "Note: That all of the above steps have to be done by coding only and not manually."
   ]
  },
  {
   "cell_type": "code",
   "execution_count": 50,
   "id": "ab117ee5",
   "metadata": {},
   "outputs": [],
   "source": [
    "driver = webdriver.Chrome(r\"C:\\Users\\SSIM STUDENT\\Desktop\\job\\DA\\chromedriver.exe\")\n",
    "time.sleep(2)"
   ]
  },
  {
   "cell_type": "code",
   "execution_count": 51,
   "id": "5229af45",
   "metadata": {},
   "outputs": [],
   "source": [
    "driver.get('https://www.flipkart.com/')"
   ]
  },
  {
   "cell_type": "code",
   "execution_count": 52,
   "id": "022eae49",
   "metadata": {},
   "outputs": [],
   "source": [
    "button = driver.find_element_by_xpath('//button[@class=\"_2KpZ6l _2doB4z\"]')\n",
    "button.click()"
   ]
  },
  {
   "cell_type": "code",
   "execution_count": 53,
   "id": "58218729",
   "metadata": {},
   "outputs": [],
   "source": [
    "field_desi = driver.find_element_by_class_name(\"_3704LK\")\n",
    "field_desi.send_keys('SunGlasses')"
   ]
  },
  {
   "cell_type": "code",
   "execution_count": 54,
   "id": "2dc58bda",
   "metadata": {},
   "outputs": [],
   "source": [
    "button = driver.find_element_by_xpath(\"/html/body/div[1]/div/div[1]/div[1]/div[2]/div[2]/form/div/button\")\n",
    "button.click()"
   ]
  },
  {
   "cell_type": "code",
   "execution_count": 55,
   "id": "a08bd1f7",
   "metadata": {},
   "outputs": [
    {
     "data": {
      "text/plain": [
       "[<selenium.webdriver.remote.webelement.WebElement (session=\"67ba563df7da0a000a1a1a0120112859\", element=\"6e3755fa-d2c8-43c2-a6c7-d9ae5f5fc67f\")>,\n",
       " <selenium.webdriver.remote.webelement.WebElement (session=\"67ba563df7da0a000a1a1a0120112859\", element=\"80972562-9997-46f2-b77f-9a1d7184c6ef\")>]"
      ]
     },
     "execution_count": 55,
     "metadata": {},
     "output_type": "execute_result"
    }
   ],
   "source": [
    "brand = driver.find_elements_by_class_name(\"_2WkVRV\")\n",
    "brand[0:2]"
   ]
  },
  {
   "cell_type": "code",
   "execution_count": 56,
   "id": "8a3ddecd",
   "metadata": {},
   "outputs": [],
   "source": [
    "brands=[]"
   ]
  },
  {
   "cell_type": "code",
   "execution_count": 57,
   "id": "b6732423",
   "metadata": {},
   "outputs": [],
   "source": [
    "for i in brand :\n",
    "    brands.append(i.text)"
   ]
  },
  {
   "cell_type": "code",
   "execution_count": 58,
   "id": "97afca8f",
   "metadata": {},
   "outputs": [],
   "source": [
    "button = driver.find_element_by_class_name(\"_1LKTO3\")\n",
    "button.click()\n",
    "time.sleep(5)"
   ]
  },
  {
   "cell_type": "code",
   "execution_count": 59,
   "id": "22ca7946",
   "metadata": {},
   "outputs": [
    {
     "data": {
      "text/plain": [
       "[<selenium.webdriver.remote.webelement.WebElement (session=\"67ba563df7da0a000a1a1a0120112859\", element=\"ff9a9488-ad92-4c29-85e7-1750fb5fd9a1\")>,\n",
       " <selenium.webdriver.remote.webelement.WebElement (session=\"67ba563df7da0a000a1a1a0120112859\", element=\"511e1c40-086a-4149-81e6-d558b64ad484\")>]"
      ]
     },
     "execution_count": 59,
     "metadata": {},
     "output_type": "execute_result"
    }
   ],
   "source": [
    "brand = driver.find_elements_by_class_name(\"_2WkVRV\")\n",
    "brand[0:2]"
   ]
  },
  {
   "cell_type": "code",
   "execution_count": 60,
   "id": "4830f0a9",
   "metadata": {},
   "outputs": [
    {
     "data": {
      "text/plain": [
       "['Mi', 'Mi']"
      ]
     },
     "execution_count": 60,
     "metadata": {},
     "output_type": "execute_result"
    }
   ],
   "source": [
    "for i in brand :\n",
    "    brands.append(i.text)\n",
    "brands[0:2]"
   ]
  },
  {
   "cell_type": "code",
   "execution_count": 61,
   "id": "a7589b8c",
   "metadata": {},
   "outputs": [],
   "source": [
    "button = driver.find_element_by_class_name(\"_1LKTO3\")\n",
    "button.click()\n",
    "time.sleep(5)"
   ]
  },
  {
   "cell_type": "code",
   "execution_count": 62,
   "id": "f8c1a8b0",
   "metadata": {},
   "outputs": [
    {
     "data": {
      "text/plain": [
       "[]"
      ]
     },
     "execution_count": 62,
     "metadata": {},
     "output_type": "execute_result"
    }
   ],
   "source": [
    "brand = driver.find_elements_by_class_name(\"_2WkVRV\")\n",
    "brand[0:2]"
   ]
  },
  {
   "cell_type": "code",
   "execution_count": null,
   "id": "64a7b1f4",
   "metadata": {},
   "outputs": [],
   "source": [
    "for i in brand :\n",
    "    brands.append(i.text)\n",
    "brands[0:2]"
   ]
  },
  {
   "cell_type": "code",
   "execution_count": null,
   "id": "f91b0864",
   "metadata": {},
   "outputs": [],
   "source": [
    "len(brands)"
   ]
  },
  {
   "cell_type": "code",
   "execution_count": null,
   "id": "b0677eab",
   "metadata": {},
   "outputs": [],
   "source": [
    "des = driver.find_elements_by_class_name(\"IRpwTa\")\n",
    "des[0:2]"
   ]
  },
  {
   "cell_type": "code",
   "execution_count": null,
   "id": "cb225929",
   "metadata": {},
   "outputs": [],
   "source": [
    "product=[]\n",
    "for i in des :\n",
    "    product.append(i.text)\n",
    "product[0:2]"
   ]
  },
  {
   "cell_type": "code",
   "execution_count": null,
   "id": "56d9b23e",
   "metadata": {},
   "outputs": [],
   "source": [
    "len(product)"
   ]
  },
  {
   "cell_type": "code",
   "execution_count": null,
   "id": "c721ba32",
   "metadata": {},
   "outputs": [],
   "source": [
    "button = driver.find_element_by_class_name(\"_1LKTO3\")\n",
    "button.click()\n",
    "time.sleep(5)"
   ]
  },
  {
   "cell_type": "code",
   "execution_count": null,
   "id": "14e736b9",
   "metadata": {},
   "outputs": [],
   "source": [
    "des = driver.find_elements_by_class_name(\"IRpwTa\")\n",
    "des[0:2]"
   ]
  },
  {
   "cell_type": "code",
   "execution_count": null,
   "id": "44335846",
   "metadata": {},
   "outputs": [],
   "source": [
    "for i in des :\n",
    "    product.append(i.text)\n",
    "product[0:2]"
   ]
  },
  {
   "cell_type": "code",
   "execution_count": null,
   "id": "12c64a68",
   "metadata": {},
   "outputs": [],
   "source": [
    "len(product)"
   ]
  },
  {
   "cell_type": "code",
   "execution_count": null,
   "id": "1a3c2cdc",
   "metadata": {},
   "outputs": [],
   "source": [
    "button = driver.find_element_by_class_name(\"_1LKTO3\")\n",
    "button.click()\n",
    "time.sleep(5)"
   ]
  },
  {
   "cell_type": "code",
   "execution_count": null,
   "id": "9f74bd3a",
   "metadata": {},
   "outputs": [],
   "source": [
    "des = driver.find_elements_by_class_name(\"IRpwTa\")\n",
    "des[0:2]"
   ]
  },
  {
   "cell_type": "code",
   "execution_count": null,
   "id": "96049117",
   "metadata": {},
   "outputs": [],
   "source": [
    "for i in des :\n",
    "    product.append(i.text)\n",
    "product[0:2]"
   ]
  },
  {
   "cell_type": "code",
   "execution_count": null,
   "id": "a55a6f96",
   "metadata": {},
   "outputs": [],
   "source": [
    "len(product)"
   ]
  },
  {
   "cell_type": "code",
   "execution_count": null,
   "id": "c8ad54e6",
   "metadata": {},
   "outputs": [],
   "source": [
    "pri =  driver.find_elements_by_class_name(\"_3bPFwb\")\n",
    "pri[0:2]"
   ]
  },
  {
   "cell_type": "code",
   "execution_count": null,
   "id": "621bff3c",
   "metadata": {},
   "outputs": [],
   "source": [
    "price=[]\n",
    "for i in pri:\n",
    "    price.append(i.text)\n",
    "price[0:2]"
   ]
  },
  {
   "cell_type": "code",
   "execution_count": null,
   "id": "c109db7e",
   "metadata": {},
   "outputs": [],
   "source": [
    "pr =  driver.find_elements_by_class_name(\"_3bPFwb\")\n",
    "pr[0:2]"
   ]
  },
  {
   "cell_type": "code",
   "execution_count": null,
   "id": "672fdb1d",
   "metadata": {},
   "outputs": [],
   "source": [
    "price=[]\n",
    "for i in pri:\n",
    "    price.append(i.text.split()[0].replace('₹','  /-'))\n",
    "price [0:2]"
   ]
  },
  {
   "cell_type": "code",
   "execution_count": null,
   "id": "f74823e1",
   "metadata": {},
   "outputs": [],
   "source": [
    "len(price)"
   ]
  },
  {
   "cell_type": "code",
   "execution_count": null,
   "id": "2154650c",
   "metadata": {},
   "outputs": [],
   "source": [
    "button = driver.find_element_by_class_name(\"_1LKTO3\")\n",
    "button.click()\n",
    "time.sleep(5)\n",
    "pri =  driver.find_elements_by_class_name(\"_3bPFwb\")\n",
    "pri[0:2]"
   ]
  },
  {
   "cell_type": "code",
   "execution_count": null,
   "id": "472d03e3",
   "metadata": {},
   "outputs": [],
   "source": [
    "for i in pri:\n",
    "    price.append(i.text.split()[0].replace('₹','  /-'))\n",
    "price[0:2]"
   ]
  },
  {
   "cell_type": "code",
   "execution_count": null,
   "id": "09d063e6",
   "metadata": {},
   "outputs": [],
   "source": [
    "button = driver.find_element_by_class_name(\"_1LKTO3\")\n",
    "button.click()\n",
    "time.sleep(5)\n",
    "pri =  driver.find_elements_by_class_name(\"_3bPFwb\")\n",
    "pri[0:2]"
   ]
  },
  {
   "cell_type": "code",
   "execution_count": null,
   "id": "97abac26",
   "metadata": {},
   "outputs": [],
   "source": [
    "for i in pri:\n",
    "    price.append(i.text.split()[0].replace('₹','  /-'))\n",
    "price[0:2]"
   ]
  },
  {
   "cell_type": "code",
   "execution_count": null,
   "id": "7a9ba8af",
   "metadata": {},
   "outputs": [],
   "source": [
    "len(price)"
   ]
  },
  {
   "cell_type": "code",
   "execution_count": null,
   "id": "7e065c84",
   "metadata": {},
   "outputs": [],
   "source": [
    "Pr=price[0:100]"
   ]
  },
  {
   "cell_type": "code",
   "execution_count": null,
   "id": "990462da",
   "metadata": {},
   "outputs": [],
   "source": [
    "len(Pr)"
   ]
  },
  {
   "cell_type": "code",
   "execution_count": null,
   "id": "dad798fc",
   "metadata": {},
   "outputs": [],
   "source": [
    "Pd=product[0:100]"
   ]
  },
  {
   "cell_type": "code",
   "execution_count": null,
   "id": "03187bfb",
   "metadata": {},
   "outputs": [],
   "source": [
    "Br=brands[0:100]"
   ]
  },
  {
   "cell_type": "code",
   "execution_count": null,
   "id": "1e1c3338",
   "metadata": {},
   "outputs": [],
   "source": [
    "len(Pr),len(Pd),len(Br)"
   ]
  },
  {
   "cell_type": "code",
   "execution_count": null,
   "id": "3cba0dd1",
   "metadata": {},
   "outputs": [],
   "source": [
    "Sunglass=pd.DataFrame({'Brand':Br,'ProductDescription':Pd,'Cost':Pr})\n",
    "Sunglass"
   ]
  },
  {
   "cell_type": "markdown",
   "id": "8f8ca9d0",
   "metadata": {},
   "source": [
    "Q5: Scrape 100 reviews data from flipkart.com for iphone11 phone. This task will be done in following steps:\n",
    "\n",
    "First get the webpage https://www.flipkart.com/\n",
    "Enter “iphone 11” in “Search” field .\n",
    "Then click the search button. You will reach to the below shown webpage . As shown in the above page you have to scrape the tick marked attributes.These are:\n",
    "Rating\n",
    "Review summary\n",
    "Full review\n",
    "You have to scrape this data for first 100 reviews."
   ]
  },
  {
   "cell_type": "code",
   "execution_count": null,
   "id": "8f416e97",
   "metadata": {},
   "outputs": [],
   "source": [
    "driver = webdriver.Chrome(r\"C:\\Users\\SSIM STUDENT\\Desktop\\job\\DA\\chromedriver.exe\")\n",
    "time.sleep(2)\n",
    "driver.get('https://www.flipkart.com/')"
   ]
  },
  {
   "cell_type": "code",
   "execution_count": null,
   "id": "f31851e9",
   "metadata": {},
   "outputs": [],
   "source": [
    "button = driver.find_element_by_xpath(\"/html/body/div[2]/div/div/button\")\n",
    "button.click()"
   ]
  },
  {
   "cell_type": "code",
   "execution_count": null,
   "id": "3636ca6b",
   "metadata": {},
   "outputs": [],
   "source": [
    "search = driver.find_element_by_class_name('_3704LK')\n",
    "search.send_keys('iphone 11')"
   ]
  },
  {
   "cell_type": "code",
   "execution_count": null,
   "id": "24baccff",
   "metadata": {},
   "outputs": [],
   "source": [
    "button = driver.find_element_by_class_name(\"L0Z3Pu\")\n",
    "button.click()"
   ]
  },
  {
   "cell_type": "code",
   "execution_count": null,
   "id": "3fcbabfb",
   "metadata": {},
   "outputs": [],
   "source": [
    "Rating = []\n",
    "Reiviewsumm = []\n",
    "FullReiview = []"
   ]
  },
  {
   "cell_type": "code",
   "execution_count": null,
   "id": "ff801be8",
   "metadata": {},
   "outputs": [],
   "source": [
    "ra =  driver.find_elements_by_class_name(\"_3LWZlK\")\n",
    "ra[0:2]"
   ]
  },
  {
   "cell_type": "code",
   "execution_count": null,
   "id": "0a8e3cee",
   "metadata": {},
   "outputs": [],
   "source": [
    "for i in ra:\n",
    "    Rating.append(i.text)\n",
    "Rating[0:2]"
   ]
  },
  {
   "cell_type": "code",
   "execution_count": null,
   "id": "44a41f08",
   "metadata": {},
   "outputs": [],
   "source": [
    "len(Rating)"
   ]
  },
  {
   "cell_type": "code",
   "execution_count": null,
   "id": "1c832dba",
   "metadata": {},
   "outputs": [],
   "source": [
    "rs = driver.find_elements_by_class_name('_2_R_DZ')\n",
    "rs[0:2]"
   ]
  },
  {
   "cell_type": "code",
   "execution_count": null,
   "id": "b9ccaa20",
   "metadata": {},
   "outputs": [],
   "source": [
    "for i in rs:\n",
    "    Reiviewsumm.append(i.text)\n",
    "Reiviewsumm[0:2]"
   ]
  },
  {
   "cell_type": "code",
   "execution_count": null,
   "id": "819870dd",
   "metadata": {},
   "outputs": [],
   "source": [
    "len(Reiviewsumm)"
   ]
  },
  {
   "cell_type": "code",
   "execution_count": null,
   "id": "22d01b2b",
   "metadata": {},
   "outputs": [],
   "source": [
    "button = driver.find_element_by_class_name(\"_2_R_DZ\")\n",
    "button.click()"
   ]
  },
  {
   "cell_type": "code",
   "execution_count": null,
   "id": "ad224c00",
   "metadata": {},
   "outputs": [],
   "source": [
    "button = driver.find_element_by_xpath(\"/html/body/div[1]/div/div[3]/div[1]/div[2]/div[9]/div[6]/div/a/div\")\n",
    "button.click()"
   ]
  },
  {
   "cell_type": "code",
   "execution_count": null,
   "id": "6f660f4e",
   "metadata": {},
   "outputs": [],
   "source": [
    "fr = driver.find_element_by_xpath('/html/body/div[1]/div/div[3]/div[1]/div[2]/div[9]/div[6]/div/div[4]/div[1]/div/div/div[2]/div')\n",
    "fr"
   ]
  },
  {
   "cell_type": "markdown",
   "id": "16298ab9",
   "metadata": {},
   "source": [
    "Q6: Scrape data for first 100 sneakers you find when you visit flipkart.com and search for “sneakers” in the\n",
    "search field.\n",
    "You have to scrape 4 attributes of each sneaker:\n",
    "1. Brand\n",
    "2. Product Description\n",
    "3. Price\n",
    "As shown in the below image, you have to scrape the tick marked attributes."
   ]
  },
  {
   "cell_type": "code",
   "execution_count": null,
   "id": "f5a38dce",
   "metadata": {},
   "outputs": [],
   "source": [
    "driver = webdriver.Chrome(r\"C:\\Users\\SSIM STUDENT\\Desktop\\job\\DA\\chromedriver.exe\")\n",
    "time.sleep(2)\n",
    "driver.get('https://www.flipkart.com/')"
   ]
  },
  {
   "cell_type": "code",
   "execution_count": null,
   "id": "06ba8ac1",
   "metadata": {},
   "outputs": [],
   "source": [
    "button = driver.find_element_by_xpath(\"/html/body/div[2]/div/div/button\")\n",
    "button.click()"
   ]
  },
  {
   "cell_type": "code",
   "execution_count": null,
   "id": "06956c70",
   "metadata": {},
   "outputs": [],
   "source": [
    "search = driver.find_element_by_class_name('_3704LK')\n",
    "search.send_keys('sneakers')"
   ]
  },
  {
   "cell_type": "code",
   "execution_count": null,
   "id": "22076189",
   "metadata": {},
   "outputs": [],
   "source": [
    "button = driver.find_element_by_class_name(\"L0Z3Pu\")\n",
    "button.click()"
   ]
  },
  {
   "cell_type": "code",
   "execution_count": null,
   "id": "508ab533",
   "metadata": {},
   "outputs": [],
   "source": [
    "brand=[]\n",
    "\n",
    "br =  driver.find_elements_by_class_name(\"_2WkVRV\")\n",
    "br[0:2]"
   ]
  },
  {
   "cell_type": "code",
   "execution_count": null,
   "id": "80a3a512",
   "metadata": {},
   "outputs": [],
   "source": [
    "for i in br:\n",
    "    brand.append(i.text)\n",
    "brand[0:2]"
   ]
  },
  {
   "cell_type": "code",
   "execution_count": null,
   "id": "6875cbd5",
   "metadata": {},
   "outputs": [],
   "source": [
    "product =[]\n",
    "pd=  driver.find_elements_by_class_name(\"IRpwTa\")\n",
    "pd[0:2]"
   ]
  },
  {
   "cell_type": "code",
   "execution_count": null,
   "id": "b1212c6a",
   "metadata": {},
   "outputs": [],
   "source": [
    "for i in pd:\n",
    "    product.append(i.text)\n",
    "product[0:2]"
   ]
  },
  {
   "cell_type": "code",
   "execution_count": null,
   "id": "4183b134",
   "metadata": {},
   "outputs": [],
   "source": [
    "price=[]\n",
    "ct=driver.find_element_by_class_name(\"_3bPFwb\")\n",
    "ct"
   ]
  },
  {
   "cell_type": "code",
   "execution_count": null,
   "id": "94796aa4",
   "metadata": {},
   "outputs": [],
   "source": [
    "ct.text.split()[0].replace('₹','  ')"
   ]
  },
  {
   "cell_type": "code",
   "execution_count": null,
   "id": "5965a2c7",
   "metadata": {},
   "outputs": [],
   "source": [
    "ct.text.split()[0].replace('₹','  ').split()[0]"
   ]
  },
  {
   "cell_type": "code",
   "execution_count": null,
   "id": "92abd27e",
   "metadata": {},
   "outputs": [],
   "source": [
    "p=driver.find_element_by_xpath('/html/body/div[1]/div/div[3]/div[1]/div[2]/div[2]/div/div[1]/div/div[2]/a[2]/div/div[3]/span')\n",
    "p[0:2]"
   ]
  },
  {
   "cell_type": "code",
   "execution_count": null,
   "id": "cee3013a",
   "metadata": {},
   "outputs": [],
   "source": [
    "p.text.split()[0]"
   ]
  },
  {
   "cell_type": "code",
   "execution_count": null,
   "id": "6cc96cea",
   "metadata": {},
   "outputs": [],
   "source": [
    "price =[]\n",
    "ct=driver.find_elements_by_class_name(\"_3bPFwb\")\n",
    "ct[0:2]"
   ]
  },
  {
   "cell_type": "code",
   "execution_count": null,
   "id": "d5fde962",
   "metadata": {},
   "outputs": [],
   "source": [
    "for i in ct:\n",
    "    price.append(i.text.split()[0].replace('₹','  ').split()[0])\n",
    "price[0:2]"
   ]
  },
  {
   "cell_type": "code",
   "execution_count": null,
   "id": "439e6f1b",
   "metadata": {},
   "outputs": [],
   "source": [
    "discount =[]\n",
    "p=driver.find_elements_by_xpath('//div[@class=\"_3Ay6Sb\"]')\n",
    "p[0:2]"
   ]
  },
  {
   "cell_type": "code",
   "execution_count": null,
   "id": "94b426d9",
   "metadata": {},
   "outputs": [],
   "source": [
    "for i in p:\n",
    "    discount.append(i.text.split()[0])\n",
    "discount[0:2]\n"
   ]
  },
  {
   "cell_type": "code",
   "execution_count": null,
   "id": "484c43c4",
   "metadata": {},
   "outputs": [],
   "source": [
    "print(len(discount),len(price),len(product),len(brand))"
   ]
  },
  {
   "cell_type": "code",
   "execution_count": null,
   "id": "a97cb0ff",
   "metadata": {},
   "outputs": [],
   "source": [
    "Sneakers=pd.DataFrame({'Brand':brand,'Product Description':product,'Cost':price,'Discount %':discount})\n",
    "Sneakers"
   ]
  },
  {
   "cell_type": "markdown",
   "id": "a00a88fd",
   "metadata": {},
   "source": [
    "Q7: Go to the link - https://www.myntra.com/shoes Set second Price filter and Color filter to “Black”, as shown in the below image And then scrape First 100 shoes data you get. The data should include “Brand” of the shoes , Short Shoe description, price of the shoe as shown in the below image. Note: Applying the filter and scraping the data, everything should be done through code only and there should not be any manual step."
   ]
  },
  {
   "cell_type": "code",
   "execution_count": 14,
   "id": "65bf5858",
   "metadata": {},
   "outputs": [],
   "source": [
    "driver = webdriver.Chrome(r\"C:\\Users\\SSIM STUDENT\\Desktop\\job\\DA\\chromedriver.exe\")\n",
    "time.sleep(2)\n",
    "driver.get('https://www.myntra.com/shoes')"
   ]
  },
  {
   "cell_type": "code",
   "execution_count": 12,
   "id": "dc2017f6",
   "metadata": {},
   "outputs": [],
   "source": [
    "button = driver.find_element_by_xpath(\"/html/body/div[2]/div/div[1]/main/div[3]/div[1]/section/div/div[5]/ul/li[2]/label\")\n",
    "button.click()"
   ]
  },
  {
   "cell_type": "code",
   "execution_count": 13,
   "id": "4c3785ed",
   "metadata": {},
   "outputs": [],
   "source": [
    "button = driver.find_element_by_xpath(\"/html/body/div[2]/div/div[1]/main/div[3]/div[1]/section/div/div[6]/ul/li[1]/label\")\n",
    "button.click()"
   ]
  },
  {
   "cell_type": "code",
   "execution_count": null,
   "id": "9bdd8372",
   "metadata": {},
   "outputs": [],
   "source": [
    "br=driver.find_element_by_class_name('product-brand')\n",
    "br"
   ]
  },
  {
   "cell_type": "code",
   "execution_count": null,
   "id": "2e42c9dc",
   "metadata": {},
   "outputs": [],
   "source": [
    "br=driver.find_elements_by_class_name('product-brand')\n",
    "br[0:2]"
   ]
  },
  {
   "cell_type": "code",
   "execution_count": null,
   "id": "1b6be2e4",
   "metadata": {},
   "outputs": [],
   "source": [
    "Brand1=[]\n",
    "for i in br:\n",
    "    Brand1.append(i.text)\n",
    "Brand[0:2]"
   ]
  },
  {
   "cell_type": "code",
   "execution_count": null,
   "id": "c5ac932e",
   "metadata": {},
   "outputs": [],
   "source": [
    "len(Brand1)"
   ]
  },
  {
   "cell_type": "code",
   "execution_count": null,
   "id": "79f9c0f3",
   "metadata": {},
   "outputs": [],
   "source": [
    "s = driver.find_elements_by_xpath('//h4[@class=\"product-product\"]')\n",
    "s[0:2]"
   ]
  },
  {
   "cell_type": "code",
   "execution_count": null,
   "id": "96dfae6e",
   "metadata": {},
   "outputs": [],
   "source": [
    "ssd = []\n",
    "ss = driver.find_element_by_xpath('//h4[@class=\"product-product\"]')\n",
    "ss"
   ]
  },
  {
   "cell_type": "code",
   "execution_count": null,
   "id": "1eb3af2d",
   "metadata": {},
   "outputs": [],
   "source": [
    "for i in s:\n",
    "    ssd.append(i.text)\n",
    "ssd[0:2]"
   ]
  },
  {
   "cell_type": "code",
   "execution_count": null,
   "id": "6ce8335b",
   "metadata": {},
   "outputs": [],
   "source": [
    "len(ssd)"
   ]
  },
  {
   "cell_type": "code",
   "execution_count": null,
   "id": "d08e4db1",
   "metadata": {},
   "outputs": [],
   "source": [
    "price1=[]\n",
    "cost=driver.find_elements_by_class_name('product-price')\n",
    "cost[0:2]"
   ]
  },
  {
   "cell_type": "code",
   "execution_count": null,
   "id": "dfd98303",
   "metadata": {},
   "outputs": [],
   "source": [
    "for i in cost:\n",
    "    price1.append(i.text)\n",
    "price1[0:2]"
   ]
  },
  {
   "cell_type": "code",
   "execution_count": null,
   "id": "8f7bd0c1",
   "metadata": {},
   "outputs": [],
   "source": [
    "len(price)"
   ]
  },
  {
   "cell_type": "code",
   "execution_count": null,
   "id": "3d20a43c",
   "metadata": {},
   "outputs": [],
   "source": [
    "button = driver.find_element_by_xpath('/html/body/div[2]/div/div[1]/main/div[3]/div[2]/div/div[2]/section/div[2]/ul/li[12]/a')\n",
    "button.click()"
   ]
  },
  {
   "cell_type": "code",
   "execution_count": null,
   "id": "947f7e8f",
   "metadata": {},
   "outputs": [],
   "source": [
    "b=driver.find_elements_by_class_name('product-brand')\n",
    "b[0:2]"
   ]
  },
  {
   "cell_type": "code",
   "execution_count": null,
   "id": "b406e888",
   "metadata": {},
   "outputs": [],
   "source": [
    "for i in b:\n",
    "    Brand1.append(i.text)\n",
    "Brand1[0:2]"
   ]
  },
  {
   "cell_type": "code",
   "execution_count": null,
   "id": "28995b2f",
   "metadata": {},
   "outputs": [],
   "source": [
    "len(Brand1)\n"
   ]
  },
  {
   "cell_type": "code",
   "execution_count": null,
   "id": "16327b00",
   "metadata": {},
   "outputs": [],
   "source": [
    "s = driver.find_elements_by_xpath('//h4[@class=\"product-product\"]')\n",
    "s[0:2]"
   ]
  },
  {
   "cell_type": "code",
   "execution_count": null,
   "id": "eccfb7d3",
   "metadata": {},
   "outputs": [],
   "source": [
    "for i in s:\n",
    "    ssd.append(i.text)\n",
    "ssd[0:2]"
   ]
  },
  {
   "cell_type": "code",
   "execution_count": null,
   "id": "8a2e2fc6",
   "metadata": {},
   "outputs": [],
   "source": [
    "len(ssd)"
   ]
  },
  {
   "cell_type": "code",
   "execution_count": null,
   "id": "5220a472",
   "metadata": {},
   "outputs": [],
   "source": [
    "cost=driver.find_elements_by_class_name('product-price')\n",
    "cost[0:2]"
   ]
  },
  {
   "cell_type": "code",
   "execution_count": null,
   "id": "8ad9b943",
   "metadata": {},
   "outputs": [],
   "source": [
    "for i in cost:\n",
    "    price1.append(i.text)\n",
    "price1[0:2]"
   ]
  },
  {
   "cell_type": "code",
   "execution_count": null,
   "id": "300c9d9c",
   "metadata": {},
   "outputs": [],
   "source": [
    "len(Brand1),len(ssd),len(price1)"
   ]
  },
  {
   "cell_type": "code",
   "execution_count": null,
   "id": "f18632b7",
   "metadata": {},
   "outputs": [],
   "source": [
    "df=pd.DataFrame({'Brand':Brand1,'ShortDescription':ssd,'Price':price1})\n",
    "df"
   ]
  },
  {
   "cell_type": "markdown",
   "id": "92286b63",
   "metadata": {},
   "source": [
    "Q8: Go to webpage https://www.amazon.in/ Enter “Laptop” in the search field and then click the search icon. Then set CPU Type filter to “Intel Core i7” as shown in the below image: After setting the filters scrape first 10 laptops data. You have to scrape 3 attributesfor each laptop:\n",
    "\n",
    "1.Title\n",
    "2.Ratings\n",
    "3.Price Note: All the steps required during scraping should be done through code only and not manually."
   ]
  },
  {
   "cell_type": "code",
   "execution_count": 4,
   "id": "10aade56",
   "metadata": {},
   "outputs": [],
   "source": [
    "driver = webdriver.Chrome(r\"C:\\Users\\SSIM STUDENT\\Desktop\\job\\DA\\chromedriver.exe\")\n",
    "time.sleep(2)"
   ]
  },
  {
   "cell_type": "code",
   "execution_count": 5,
   "id": "e030312a",
   "metadata": {},
   "outputs": [],
   "source": [
    "driver.get('https://www.amazon.in/')"
   ]
  },
  {
   "cell_type": "code",
   "execution_count": 6,
   "id": "e740df6d",
   "metadata": {},
   "outputs": [],
   "source": [
    "search = driver.find_element_by_xpath('/html/body/div[1]/header/div/div[1]/div[2]/div/form/div[2]/div[1]/input')\n",
    "search.send_keys('Laptop')"
   ]
  },
  {
   "cell_type": "code",
   "execution_count": 7,
   "id": "32b7933c",
   "metadata": {},
   "outputs": [],
   "source": [
    "button = driver.find_element_by_xpath(\"/html/body/div[1]/header/div/div[1]/div[2]/div/form/div[3]/div/span/input\")\n",
    "button.click()"
   ]
  },
  {
   "cell_type": "code",
   "execution_count": 8,
   "id": "22e7f2c5",
   "metadata": {},
   "outputs": [],
   "source": [
    "fil = driver.find_element_by_xpath('/html/body/div[1]/div[2]/div[1]/div[2]/div/div[3]/span/div[1]/div/div/div[6]/ul[4]/li[14]/span/a/div/label/i')\n",
    "fil.click()"
   ]
  },
  {
   "cell_type": "code",
   "execution_count": 9,
   "id": "0b49cc89",
   "metadata": {},
   "outputs": [
    {
     "data": {
      "text/plain": [
       "<selenium.webdriver.remote.webelement.WebElement (session=\"a9de30d6020b11cfaa289f99322e4fee\", element=\"25b83f62-6e69-40c9-ab24-4f8718092299\")>"
      ]
     },
     "execution_count": 9,
     "metadata": {},
     "output_type": "execute_result"
    }
   ],
   "source": [
    "tit=driver.find_element_by_xpath('//h2[@class=\"a-size-mini a-spacing-none a-color-base s-line-clamp-2\"]')\n",
    "tit"
   ]
  },
  {
   "cell_type": "code",
   "execution_count": 10,
   "id": "14d40720",
   "metadata": {},
   "outputs": [
    {
     "data": {
      "text/plain": [
       "'Lenovo IdeaPad 5 Pro 11th Gen Intel Core i7 14 inches QHD IPS Thin and Light Laptop (16GB/512GB SSD/Iris Xe Graphics/Windows 11/Office 2021/Backlit/300Nits/Storm Grey/1.41Kg), 82L3006YIN'"
      ]
     },
     "execution_count": 10,
     "metadata": {},
     "output_type": "execute_result"
    }
   ],
   "source": [
    "tit.text"
   ]
  },
  {
   "cell_type": "code",
   "execution_count": 22,
   "id": "7c8e8a2a",
   "metadata": {},
   "outputs": [
    {
     "data": {
      "text/plain": [
       "[<selenium.webdriver.remote.webelement.WebElement (session=\"a9de30d6020b11cfaa289f99322e4fee\", element=\"25b83f62-6e69-40c9-ab24-4f8718092299\")>]"
      ]
     },
     "execution_count": 22,
     "metadata": {},
     "output_type": "execute_result"
    }
   ],
   "source": [
    "tit=driver.find_elements_by_xpath('//h2[@class=\"a-size-mini a-spacing-none a-color-base s-line-clamp-2\"]')\n",
    "title=tit[0:1]\n",
    "title"
   ]
  },
  {
   "cell_type": "code",
   "execution_count": 13,
   "id": "59f9883f",
   "metadata": {},
   "outputs": [
    {
     "data": {
      "text/plain": [
       "['Lenovo IdeaPad 5 Pro 11th Gen Intel Core i7 14 inches QHD IPS Thin and Light Laptop (16GB/512GB SSD/Iris Xe Graphics/Windows 11/Office 2021/Backlit/300Nits/Storm Grey/1.41Kg), 82L3006YIN',\n",
       " 'Lenovo Yoga 9 11th Gen Intel Core i7 14\" 4K Ultra HD IPS Touchscreen 2-in-1 Convertible Laptop(16GB/1TB SSD/Windows 11/MS Office 2021/Fingerprint Reader/Shadow Black/Leather Surface/1.44Kg),82BG00BSIN']"
      ]
     },
     "execution_count": 13,
     "metadata": {},
     "output_type": "execute_result"
    }
   ],
   "source": [
    "Title=[]\n",
    "for i in title:\n",
    "    Title.append(i.text)\n",
    "Title[0:2]"
   ]
  },
  {
   "cell_type": "code",
   "execution_count": 17,
   "id": "3e5e115b",
   "metadata": {},
   "outputs": [
    {
     "data": {
      "text/plain": [
       "[<selenium.webdriver.remote.webelement.WebElement (session=\"a9de30d6020b11cfaa289f99322e4fee\", element=\"45e225cb-1e50-4dcb-bc2d-c237554e56ed\")>]"
      ]
     },
     "execution_count": 17,
     "metadata": {},
     "output_type": "execute_result"
    }
   ],
   "source": [
    "ratee = driver.find_elements_by_xpath('/html/body/div[1]/div[2]/div[1]/div[1]/div/span[3]/div[2]/div[3]/div/div/div/div/div/div/div/div[2]/div/div/div[2]/div/span[1]/span/a/i[1]')\n",
    "ratee"
   ]
  },
  {
   "cell_type": "code",
   "execution_count": 18,
   "id": "543a7329",
   "metadata": {},
   "outputs": [
    {
     "data": {
      "text/plain": [
       "['']"
      ]
     },
     "execution_count": 18,
     "metadata": {},
     "output_type": "execute_result"
    }
   ],
   "source": [
    "Rating=[]\n",
    "for i in ratee:\n",
    "    Rating.append(i.text)\n",
    "Rating"
   ]
  },
  {
   "cell_type": "code",
   "execution_count": 19,
   "id": "5074dfad",
   "metadata": {},
   "outputs": [
    {
     "data": {
      "text/plain": [
       "''"
      ]
     },
     "execution_count": 19,
     "metadata": {},
     "output_type": "execute_result"
    }
   ],
   "source": [
    "rating.text"
   ]
  },
  {
   "cell_type": "code",
   "execution_count": 20,
   "id": "6d3b2f94",
   "metadata": {},
   "outputs": [
    {
     "data": {
      "text/plain": [
       "(10, 1)"
      ]
     },
     "execution_count": 20,
     "metadata": {},
     "output_type": "execute_result"
    }
   ],
   "source": [
    "len(Title),len(Rating)"
   ]
  },
  {
   "cell_type": "code",
   "execution_count": 23,
   "id": "6f7ddb8f",
   "metadata": {},
   "outputs": [
    {
     "data": {
      "text/html": [
       "<div>\n",
       "<style scoped>\n",
       "    .dataframe tbody tr th:only-of-type {\n",
       "        vertical-align: middle;\n",
       "    }\n",
       "\n",
       "    .dataframe tbody tr th {\n",
       "        vertical-align: top;\n",
       "    }\n",
       "\n",
       "    .dataframe thead th {\n",
       "        text-align: right;\n",
       "    }\n",
       "</style>\n",
       "<table border=\"1\" class=\"dataframe\">\n",
       "  <thead>\n",
       "    <tr style=\"text-align: right;\">\n",
       "      <th></th>\n",
       "      <th>Title</th>\n",
       "      <th>Rating</th>\n",
       "    </tr>\n",
       "  </thead>\n",
       "  <tbody>\n",
       "    <tr>\n",
       "      <th>0</th>\n",
       "      <td>&lt;selenium.webdriver.remote.webelement.WebEleme...</td>\n",
       "      <td></td>\n",
       "    </tr>\n",
       "  </tbody>\n",
       "</table>\n",
       "</div>"
      ],
      "text/plain": [
       "                                               Title Rating\n",
       "0  <selenium.webdriver.remote.webelement.WebEleme...       "
      ]
     },
     "execution_count": 23,
     "metadata": {},
     "output_type": "execute_result"
    }
   ],
   "source": [
    "df=pd.DataFrame({'Title':title,'Rating':Rating})\n",
    "df"
   ]
  },
  {
   "cell_type": "markdown",
   "id": "a487a364",
   "metadata": {},
   "source": [
    "Q9: Write a python program to scrape data for first 10 job results for Data Scientist Designation in Noida location. You have to scrape company name, No. of days ago when job was posted, Rating of the company. This task will be done in following steps:\n",
    "\n",
    "1.First get the webpage https://www.ambitionbox.com/\n",
    "2.Click on the Job option as shown in the image\n",
    "3.After reaching to the next webpage, In place of “Search by Designations, Companies, Skills” enter “Data Scientist” and click on search button.\n",
    "4.You will reach to the following web page click on location and in place of “Search location” enter “Noida” and select location “Noida”.\n",
    "5.Then scrape the data for the first 10 jobs results you get on the above shown page.\n",
    "6.Finally create a dataframe of the scraped data. Note: All the steps required during scraping should be done through code only and not manually."
   ]
  },
  {
   "cell_type": "code",
   "execution_count": 25,
   "id": "11369127",
   "metadata": {},
   "outputs": [],
   "source": [
    "driver = webdriver.Chrome(r\"C:\\Users\\SSIM STUDENT\\Desktop\\job\\DA\\chromedriver.exe\")\n",
    "time.sleep(2)\n",
    "driver.get('https://www.ambitionbox.com/')"
   ]
  },
  {
   "cell_type": "code",
   "execution_count": 26,
   "id": "a4aaffa9",
   "metadata": {},
   "outputs": [],
   "source": [
    "button = driver.find_element_by_xpath(\"/html/body/div[1]/nav/nav/a[6]\")\n",
    "button.click()"
   ]
  },
  {
   "cell_type": "code",
   "execution_count": 27,
   "id": "2da780f0",
   "metadata": {},
   "outputs": [],
   "source": [
    "search = driver.find_element_by_xpath('/html/body/div/div/div/div[2]/div[1]/div[1]/div/div/div/div/span/input')\n",
    "search.send_keys('Data Scientist')"
   ]
  },
  {
   "cell_type": "code",
   "execution_count": 28,
   "id": "e40ab56c",
   "metadata": {},
   "outputs": [],
   "source": [
    "button = driver.find_element_by_xpath(\"/html/body/div/div/div/div[2]/div[1]/div[1]/div/div/div/button\")\n",
    "button.click()"
   ]
  },
  {
   "cell_type": "code",
   "execution_count": 29,
   "id": "fc76b0f2",
   "metadata": {},
   "outputs": [],
   "source": [
    "button = driver.find_element_by_xpath(\"/html/body/div/div/div/div[2]/div[1]/div[2]/div[1]/div/div/div/div[2]/div[1]/p\")\n",
    "button.click()"
   ]
  },
  {
   "cell_type": "code",
   "execution_count": 30,
   "id": "87e0ca6f",
   "metadata": {},
   "outputs": [],
   "source": [
    "button = driver.find_element_by_xpath(\"/html/body/div/div/div/div[2]/div[1]/div[2]/div[1]/div/div/div/div[2]/div[2]/div/div[3]/div[1]/div[5]/div/label\")\n",
    "button.click()"
   ]
  },
  {
   "cell_type": "code",
   "execution_count": 31,
   "id": "5b66ec01",
   "metadata": {},
   "outputs": [
    {
     "data": {
      "text/plain": [
       "'Principal Data Scientist'"
      ]
     },
     "execution_count": 31,
     "metadata": {},
     "output_type": "execute_result"
    }
   ],
   "source": [
    "tit=driver.find_element_by_xpath('//a[@class=\"title noclick\"]')\n",
    "tit\n",
    "tit.text"
   ]
  },
  {
   "cell_type": "code",
   "execution_count": 33,
   "id": "030bd73f",
   "metadata": {},
   "outputs": [
    {
     "data": {
      "text/plain": [
       "[<selenium.webdriver.remote.webelement.WebElement (session=\"74a775b3a73a774f97b7ad034667ca67\", element=\"2fcc52c7-b2f0-43fa-8ed3-6dec5913bff5\")>,\n",
       " <selenium.webdriver.remote.webelement.WebElement (session=\"74a775b3a73a774f97b7ad034667ca67\", element=\"27a1af77-9b61-4521-8f95-ec8341d51178\")>]"
      ]
     },
     "execution_count": 33,
     "metadata": {},
     "output_type": "execute_result"
    }
   ],
   "source": [
    "title=driver.find_elements_by_xpath('//a[@class=\"title noclick\"]')\n",
    "title[0:2]"
   ]
  },
  {
   "cell_type": "code",
   "execution_count": 34,
   "id": "acd3c87f",
   "metadata": {},
   "outputs": [
    {
     "data": {
      "text/plain": [
       "['Principal Data Scientist',\n",
       " 'Data Scientist',\n",
       " 'Data Scientist',\n",
       " 'Job Opening For Data Scientist position with Wipro - Bangalore',\n",
       " 'Lead Data Scientist - OptumLabs',\n",
       " 'Urgent hiring_Data Scientist_Tata Consultancy Services(Tcs)',\n",
       " 'Urgent hiring_Data Scientist_Tata Consultancy Services(Tcs)Pan India',\n",
       " 'Senior Marketing Data Scientist',\n",
       " 'Senior Data Scientist',\n",
       " 'Immediate opening For Data Scientist @ Bangalore/Hyderabad /Mumbai']"
      ]
     },
     "execution_count": 34,
     "metadata": {},
     "output_type": "execute_result"
    }
   ],
   "source": [
    "JOB=[]\n",
    "for i in title:\n",
    "    JOB.append(i.text)\n",
    "JOB"
   ]
  },
  {
   "cell_type": "code",
   "execution_count": 35,
   "id": "3cb9121e",
   "metadata": {},
   "outputs": [
    {
     "data": {
      "text/plain": [
       "<selenium.webdriver.remote.webelement.WebElement (session=\"74a775b3a73a774f97b7ad034667ca67\", element=\"10f7984b-17d1-49ef-800f-2559920d9aff\")>"
      ]
     },
     "execution_count": 35,
     "metadata": {},
     "output_type": "execute_result"
    }
   ],
   "source": [
    "comp=driver.find_element_by_xpath('//p[@class=\"company body-medium\"]')\n",
    "comp"
   ]
  },
  {
   "cell_type": "code",
   "execution_count": 36,
   "id": "fa3bcd1c",
   "metadata": {},
   "outputs": [
    {
     "data": {
      "text/plain": [
       "'Sanofi India Ltd'"
      ]
     },
     "execution_count": 36,
     "metadata": {},
     "output_type": "execute_result"
    }
   ],
   "source": [
    "comp.text"
   ]
  },
  {
   "cell_type": "code",
   "execution_count": 38,
   "id": "e6e5a684",
   "metadata": {},
   "outputs": [
    {
     "data": {
      "text/plain": [
       "[<selenium.webdriver.remote.webelement.WebElement (session=\"74a775b3a73a774f97b7ad034667ca67\", element=\"10f7984b-17d1-49ef-800f-2559920d9aff\")>,\n",
       " <selenium.webdriver.remote.webelement.WebElement (session=\"74a775b3a73a774f97b7ad034667ca67\", element=\"856734aa-2548-4e7c-bc2a-af876981828e\")>]"
      ]
     },
     "execution_count": 38,
     "metadata": {},
     "output_type": "execute_result"
    }
   ],
   "source": [
    "company=driver.find_elements_by_xpath('//p[@class=\"company body-medium\"]')\n",
    "company[0:2]\n"
   ]
  },
  {
   "cell_type": "code",
   "execution_count": 44,
   "id": "c201197a",
   "metadata": {},
   "outputs": [
    {
     "data": {
      "text/plain": [
       "['Sanofi India Ltd', 'GENPACT India Private Limited']"
      ]
     },
     "execution_count": 44,
     "metadata": {},
     "output_type": "execute_result"
    }
   ],
   "source": [
    "NamE=[]\n",
    "for i in company:\n",
    "    NamE.append(i.text)\n",
    "NamE[0:2]"
   ]
  },
  {
   "cell_type": "code",
   "execution_count": 45,
   "id": "e4c4e5cc",
   "metadata": {},
   "outputs": [
    {
     "data": {
      "text/plain": [
       "'5-8 years'"
      ]
     },
     "execution_count": 45,
     "metadata": {},
     "output_type": "execute_result"
    }
   ],
   "source": [
    "exep=driver.find_element_by_xpath('//div[@class=\"entity\"]/p[1]')\n",
    "exep\n",
    "exep.text"
   ]
  },
  {
   "cell_type": "code",
   "execution_count": 47,
   "id": "8aaab246",
   "metadata": {},
   "outputs": [
    {
     "data": {
      "text/plain": [
       "[<selenium.webdriver.remote.webelement.WebElement (session=\"74a775b3a73a774f97b7ad034667ca67\", element=\"7a7a6e39-5aff-4d5e-8f83-00a30dd1832f\")>,\n",
       " <selenium.webdriver.remote.webelement.WebElement (session=\"74a775b3a73a774f97b7ad034667ca67\", element=\"de5ef627-2dde-45d7-a167-da4ac7823c34\")>]"
      ]
     },
     "execution_count": 47,
     "metadata": {},
     "output_type": "execute_result"
    }
   ],
   "source": [
    "exep_req=driver.find_elements_by_xpath('//div[@class=\"entity\"]/p[1]')\n",
    "exep_req[0:2]"
   ]
  },
  {
   "cell_type": "code",
   "execution_count": 49,
   "id": "2ffe72e3",
   "metadata": {},
   "outputs": [
    {
     "data": {
      "text/plain": [
       "['5-8 years', 'Not Disclosed']"
      ]
     },
     "execution_count": 49,
     "metadata": {},
     "output_type": "execute_result"
    }
   ],
   "source": [
    "EXE=[]\n",
    "for i in exep_req:\n",
    "    EXE.append(i.text)\n",
    "EXE[0:2]"
   ]
  },
  {
   "cell_type": "code",
   "execution_count": 51,
   "id": "6a984564",
   "metadata": {},
   "outputs": [
    {
     "data": {
      "text/plain": [
       "32"
      ]
     },
     "execution_count": 51,
     "metadata": {},
     "output_type": "execute_result"
    }
   ],
   "source": [
    "len(EXE)"
   ]
  },
  {
   "cell_type": "code",
   "execution_count": 52,
   "id": "30bcb701",
   "metadata": {},
   "outputs": [
    {
     "data": {
      "text/plain": [
       "10"
      ]
     },
     "execution_count": 52,
     "metadata": {},
     "output_type": "execute_result"
    }
   ],
   "source": [
    "Exe=EXE[0:10]\n",
    "len(Exe)"
   ]
  },
  {
   "cell_type": "code",
   "execution_count": 53,
   "id": "61d47ecc",
   "metadata": {},
   "outputs": [
    {
     "data": {
      "text/plain": [
       "'Hyderabad/Secunderabad'"
      ]
     },
     "execution_count": 53,
     "metadata": {},
     "output_type": "execute_result"
    }
   ],
   "source": [
    "loc=driver.find_element_by_xpath('//div[@class=\"entity loc\"]/p')\n",
    "loc\n",
    "loc.text"
   ]
  },
  {
   "cell_type": "code",
   "execution_count": 55,
   "id": "1c20d1a4",
   "metadata": {},
   "outputs": [
    {
     "data": {
      "text/plain": [
       "[<selenium.webdriver.remote.webelement.WebElement (session=\"74a775b3a73a774f97b7ad034667ca67\", element=\"77463454-9e20-4ce9-923b-e367fbc6c7c9\")>,\n",
       " <selenium.webdriver.remote.webelement.WebElement (session=\"74a775b3a73a774f97b7ad034667ca67\", element=\"4e7202fc-476f-482c-8d70-4387d28c300f\")>]"
      ]
     },
     "execution_count": 55,
     "metadata": {},
     "output_type": "execute_result"
    }
   ],
   "source": [
    "lo=driver.find_elements_by_xpath('//div[@class=\"entity loc\"]/p')\n",
    "lo[0:2]"
   ]
  },
  {
   "cell_type": "code",
   "execution_count": 57,
   "id": "ebe662a1",
   "metadata": {},
   "outputs": [
    {
     "data": {
      "text/plain": [
       "['Hyderabad/Secunderabad', 'Hyderabad/Secunderabad']"
      ]
     },
     "execution_count": 57,
     "metadata": {},
     "output_type": "execute_result"
    }
   ],
   "source": [
    "Loc=[]\n",
    "for i in lo:\n",
    "    Loc.append(i.text)\n",
    "Loc[0:2]"
   ]
  },
  {
   "cell_type": "code",
   "execution_count": 60,
   "id": "c1f06c19",
   "metadata": {},
   "outputs": [
    {
     "data": {
      "text/html": [
       "<div>\n",
       "<style scoped>\n",
       "    .dataframe tbody tr th:only-of-type {\n",
       "        vertical-align: middle;\n",
       "    }\n",
       "\n",
       "    .dataframe tbody tr th {\n",
       "        vertical-align: top;\n",
       "    }\n",
       "\n",
       "    .dataframe thead th {\n",
       "        text-align: right;\n",
       "    }\n",
       "</style>\n",
       "<table border=\"1\" class=\"dataframe\">\n",
       "  <thead>\n",
       "    <tr style=\"text-align: right;\">\n",
       "      <th></th>\n",
       "      <th>Job-Role</th>\n",
       "      <th>Company-Name</th>\n",
       "      <th>Experience-Required</th>\n",
       "    </tr>\n",
       "  </thead>\n",
       "  <tbody>\n",
       "    <tr>\n",
       "      <th>0</th>\n",
       "      <td>Principal Data Scientist</td>\n",
       "      <td>Sanofi India Ltd</td>\n",
       "      <td>5-8 years</td>\n",
       "    </tr>\n",
       "    <tr>\n",
       "      <th>1</th>\n",
       "      <td>Data Scientist</td>\n",
       "      <td>GENPACT India Private Limited</td>\n",
       "      <td>Not Disclosed</td>\n",
       "    </tr>\n",
       "    <tr>\n",
       "      <th>2</th>\n",
       "      <td>Data Scientist</td>\n",
       "      <td>GENPACT India Private Limited</td>\n",
       "      <td>5-8 Yrs</td>\n",
       "    </tr>\n",
       "    <tr>\n",
       "      <th>3</th>\n",
       "      <td>Job Opening For Data Scientist position with W...</td>\n",
       "      <td>Wipro Limited</td>\n",
       "      <td>Not Disclosed</td>\n",
       "    </tr>\n",
       "    <tr>\n",
       "      <th>4</th>\n",
       "      <td>Lead Data Scientist - OptumLabs</td>\n",
       "      <td>Optum Global Solutions (India) Private Limited</td>\n",
       "      <td>Analytical, Linux, SQL +7 more</td>\n",
       "    </tr>\n",
       "    <tr>\n",
       "      <th>5</th>\n",
       "      <td>Urgent hiring_Data Scientist_Tata Consultancy ...</td>\n",
       "      <td>Tata Consultancy Services Ltd.</td>\n",
       "      <td>7-10 Yrs</td>\n",
       "    </tr>\n",
       "    <tr>\n",
       "      <th>6</th>\n",
       "      <td>Urgent hiring_Data Scientist_Tata Consultancy ...</td>\n",
       "      <td>Tata Consultancy Services Ltd.</td>\n",
       "      <td>Not Disclosed</td>\n",
       "    </tr>\n",
       "    <tr>\n",
       "      <th>7</th>\n",
       "      <td>Senior Marketing Data Scientist</td>\n",
       "      <td>Thomson Reuters India Pvt Ltd</td>\n",
       "      <td>python, Artificial Intelligence, data scientis...</td>\n",
       "    </tr>\n",
       "    <tr>\n",
       "      <th>8</th>\n",
       "      <td>Senior Data Scientist</td>\n",
       "      <td>MetLife Global Operations Support Center Pvt. ...</td>\n",
       "      <td>5-8 Yrs</td>\n",
       "    </tr>\n",
       "    <tr>\n",
       "      <th>9</th>\n",
       "      <td>Immediate opening For Data Scientist @ Bangalo...</td>\n",
       "      <td>Teamlease Servcies limited</td>\n",
       "      <td>Not Disclosed</td>\n",
       "    </tr>\n",
       "  </tbody>\n",
       "</table>\n",
       "</div>"
      ],
      "text/plain": [
       "                                            Job-Role  \\\n",
       "0                           Principal Data Scientist   \n",
       "1                                     Data Scientist   \n",
       "2                                     Data Scientist   \n",
       "3  Job Opening For Data Scientist position with W...   \n",
       "4                    Lead Data Scientist - OptumLabs   \n",
       "5  Urgent hiring_Data Scientist_Tata Consultancy ...   \n",
       "6  Urgent hiring_Data Scientist_Tata Consultancy ...   \n",
       "7                    Senior Marketing Data Scientist   \n",
       "8                              Senior Data Scientist   \n",
       "9  Immediate opening For Data Scientist @ Bangalo...   \n",
       "\n",
       "                                        Company-Name  \\\n",
       "0                                   Sanofi India Ltd   \n",
       "1                      GENPACT India Private Limited   \n",
       "2                      GENPACT India Private Limited   \n",
       "3                                      Wipro Limited   \n",
       "4     Optum Global Solutions (India) Private Limited   \n",
       "5                     Tata Consultancy Services Ltd.   \n",
       "6                     Tata Consultancy Services Ltd.   \n",
       "7                      Thomson Reuters India Pvt Ltd   \n",
       "8  MetLife Global Operations Support Center Pvt. ...   \n",
       "9                         Teamlease Servcies limited   \n",
       "\n",
       "                                 Experience-Required  \n",
       "0                                          5-8 years  \n",
       "1                                      Not Disclosed  \n",
       "2                                            5-8 Yrs  \n",
       "3                                      Not Disclosed  \n",
       "4                     Analytical, Linux, SQL +7 more  \n",
       "5                                           7-10 Yrs  \n",
       "6                                      Not Disclosed  \n",
       "7  python, Artificial Intelligence, data scientis...  \n",
       "8                                            5-8 Yrs  \n",
       "9                                      Not Disclosed  "
      ]
     },
     "execution_count": 60,
     "metadata": {},
     "output_type": "execute_result"
    }
   ],
   "source": [
    "df=pd.DataFrame({'Job-Role':JOB,'Company-Name':NamE,'Experience-Required':Exe})\n",
    "df"
   ]
  },
  {
   "cell_type": "markdown",
   "id": "6a3d4855",
   "metadata": {},
   "source": [
    "Q10: Write a python program to scrape the salary data for Data Scientist designation.\n",
    "You have to scrape Company name, Number of salaries, Average salary, Minsalary, Max Salary.\n",
    "The above task will be, done as shown in the below steps:\n",
    "1. First get the webpage https://www.ambitionbox.com/\n",
    "2. Click on the salaries option as shown in the image.\n",
    "3. After reaching to the following webpage, In place of “Search Job Profile” enters “Data Scientist” and\n",
    "then click on “Data Scientist”.\n",
    "4. Scrape the data for the first 10 companies. Scrape the company name, total salary record, average\n",
    "salary, minimum salary, maximum salary, experience required.\n",
    "5. Store the data in a dataframe."
   ]
  },
  {
   "cell_type": "code",
   "execution_count": 61,
   "id": "6440e3f4",
   "metadata": {},
   "outputs": [],
   "source": [
    "driver = webdriver.Chrome(r\"C:\\Users\\SSIM STUDENT\\Desktop\\job\\DA\\chromedriver.exe\")\n",
    "time.sleep(2)\n",
    "driver.get('https://www.ambitionbox.com/')"
   ]
  },
  {
   "cell_type": "code",
   "execution_count": 62,
   "id": "d946023a",
   "metadata": {},
   "outputs": [],
   "source": [
    "button = driver.find_element_by_xpath(\"/html/body/div[1]/nav/nav/a[4]\")\n",
    "button.click()"
   ]
  },
  {
   "cell_type": "code",
   "execution_count": 63,
   "id": "abd6ab9e",
   "metadata": {},
   "outputs": [],
   "source": [
    "search = driver.find_element_by_xpath('/html/body/div/div/div/main/section[1]/div[2]/div[1]/span/input')\n",
    "search.send_keys('Data Scientist')"
   ]
  },
  {
   "cell_type": "code",
   "execution_count": 64,
   "id": "4da76040",
   "metadata": {},
   "outputs": [],
   "source": [
    "button = driver.find_element_by_xpath(\"/html/body/div/div/div/main/section[1]/div[2]/div[1]/i[1]\")\n",
    "button.click()"
   ]
  },
  {
   "cell_type": "code",
   "execution_count": 65,
   "id": "c58e4755",
   "metadata": {},
   "outputs": [],
   "source": [
    "companyname=[]\n",
    "totalsalaryrecord=[]\n",
    "averagesalary = []\n",
    "experiencerequired = []"
   ]
  },
  {
   "cell_type": "code",
   "execution_count": 66,
   "id": "0766c200",
   "metadata": {},
   "outputs": [
    {
     "data": {
      "text/plain": [
       "<selenium.webdriver.remote.webelement.WebElement (session=\"069412813f04d54d2682d7af6e46d5de\", element=\"a6294af5-73e2-4309-aef2-cb70cadc726f\")>"
      ]
     },
     "execution_count": 66,
     "metadata": {},
     "output_type": "execute_result"
    }
   ],
   "source": [
    "cp = driver.find_element_by_class_name('name')\n",
    "cp"
   ]
  },
  {
   "cell_type": "code",
   "execution_count": 67,
   "id": "205eccf9",
   "metadata": {},
   "outputs": [
    {
     "data": {
      "text/plain": [
       "'Google'"
      ]
     },
     "execution_count": 67,
     "metadata": {},
     "output_type": "execute_result"
    }
   ],
   "source": [
    "cp.text.split()[0]"
   ]
  },
  {
   "cell_type": "code",
   "execution_count": 69,
   "id": "24dee7c2",
   "metadata": {},
   "outputs": [
    {
     "data": {
      "text/plain": [
       "[<selenium.webdriver.remote.webelement.WebElement (session=\"069412813f04d54d2682d7af6e46d5de\", element=\"a6294af5-73e2-4309-aef2-cb70cadc726f\")>,\n",
       " <selenium.webdriver.remote.webelement.WebElement (session=\"069412813f04d54d2682d7af6e46d5de\", element=\"df6761f6-8d72-4b35-8bfc-3836858c1396\")>]"
      ]
     },
     "execution_count": 69,
     "metadata": {},
     "output_type": "execute_result"
    }
   ],
   "source": [
    "cp = driver.find_elements_by_class_name('name')\n",
    "c=cp[0:10]\n",
    "c[0:2]"
   ]
  },
  {
   "cell_type": "code",
   "execution_count": 70,
   "id": "215414d8",
   "metadata": {},
   "outputs": [
    {
     "data": {
      "text/plain": [
       "['Google',\n",
       " 'Microsoft',\n",
       " 'Goldman',\n",
       " 'Tekion',\n",
       " 'Amazon',\n",
       " 'Flipkart',\n",
       " 'Servicenow',\n",
       " 'PayPal',\n",
       " 'Walmart',\n",
       " 'Arcesium']"
      ]
     },
     "execution_count": 70,
     "metadata": {},
     "output_type": "execute_result"
    }
   ],
   "source": [
    "for i in c:\n",
    "    companyname.append(i.text.split()[0])\n",
    "companyname"
   ]
  },
  {
   "cell_type": "code",
   "execution_count": 73,
   "id": "307b2d76",
   "metadata": {},
   "outputs": [
    {
     "data": {
      "text/plain": [
       "<selenium.webdriver.remote.webelement.WebElement (session=\"069412813f04d54d2682d7af6e46d5de\", element=\"3dd90cf6-4180-4ca1-8d6f-679568ab4e19\")>"
      ]
     },
     "execution_count": 73,
     "metadata": {},
     "output_type": "execute_result"
    }
   ],
   "source": [
    "tsp=driver.find_element_by_class_name('salary-range-wrapper')\n",
    "tsp"
   ]
  },
  {
   "cell_type": "code",
   "execution_count": 74,
   "id": "7d4b1ef4",
   "metadata": {},
   "outputs": [
    {
     "data": {
      "text/plain": [
       "'   31.8L\\n   11.0L\\n   65.0L'"
      ]
     },
     "execution_count": 74,
     "metadata": {},
     "output_type": "execute_result"
    }
   ],
   "source": [
    "tsp.text.replace('₹','  ')"
   ]
  },
  {
   "cell_type": "code",
   "execution_count": 76,
   "id": "54253480",
   "metadata": {},
   "outputs": [
    {
     "data": {
      "text/plain": [
       "[<selenium.webdriver.remote.webelement.WebElement (session=\"069412813f04d54d2682d7af6e46d5de\", element=\"3dd90cf6-4180-4ca1-8d6f-679568ab4e19\")>,\n",
       " <selenium.webdriver.remote.webelement.WebElement (session=\"069412813f04d54d2682d7af6e46d5de\", element=\"7430f415-8127-45f7-aeac-fe951a5028b0\")>]"
      ]
     },
     "execution_count": 76,
     "metadata": {},
     "output_type": "execute_result"
    }
   ],
   "source": [
    "tsp=driver.find_elements_by_class_name('salary-range-wrapper')\n",
    "ts=tsp[0:10]\n",
    "ts[0:2]"
   ]
  },
  {
   "cell_type": "code",
   "execution_count": 77,
   "id": "d2385df8",
   "metadata": {},
   "outputs": [
    {
     "data": {
      "text/plain": [
       "['   31.8L\\n   11.0L\\n   65.0L',\n",
       " '   23.9L\\n   13.0L\\n   45.0L',\n",
       " '   23.0L\\n   12.0L\\n   34.0L',\n",
       " '   21.1L\\n   12.0L\\n   33.0L',\n",
       " '   20.9L\\n   8.0L\\n   45.0L',\n",
       " '   20.6L\\n   7.5L\\n   31.0L',\n",
       " '   20.4L\\n   13.0L\\n   28.0L',\n",
       " '   20.1L\\n   12.0L\\n   31.0L',\n",
       " '   19.9L\\n   11.4L\\n   32.5L',\n",
       " '   19.3L\\n   12.0L\\n   34.0L']"
      ]
     },
     "execution_count": 77,
     "metadata": {},
     "output_type": "execute_result"
    }
   ],
   "source": [
    "for i in ts:\n",
    "    totalsalaryrecord.append(i.text.replace('₹','  '))\n",
    "totalsalaryrecord"
   ]
  },
  {
   "cell_type": "code",
   "execution_count": 78,
   "id": "397635c0",
   "metadata": {},
   "outputs": [
    {
     "data": {
      "text/plain": [
       "<selenium.webdriver.remote.webelement.WebElement (session=\"069412813f04d54d2682d7af6e46d5de\", element=\"2461be21-d200-46ef-acba-73d0a747493b\")>"
      ]
     },
     "execution_count": 78,
     "metadata": {},
     "output_type": "execute_result"
    }
   ],
   "source": [
    "asa = driver.find_element_by_class_name('averageCtc')\n",
    "asa"
   ]
  },
  {
   "cell_type": "code",
   "execution_count": 79,
   "id": "2627003c",
   "metadata": {},
   "outputs": [
    {
     "data": {
      "text/plain": [
       "'   31.8L'"
      ]
     },
     "execution_count": 79,
     "metadata": {},
     "output_type": "execute_result"
    }
   ],
   "source": [
    "asa.text.replace('₹','  ')"
   ]
  },
  {
   "cell_type": "code",
   "execution_count": 81,
   "id": "ca037252",
   "metadata": {},
   "outputs": [
    {
     "data": {
      "text/plain": [
       "[<selenium.webdriver.remote.webelement.WebElement (session=\"069412813f04d54d2682d7af6e46d5de\", element=\"2461be21-d200-46ef-acba-73d0a747493b\")>,\n",
       " <selenium.webdriver.remote.webelement.WebElement (session=\"069412813f04d54d2682d7af6e46d5de\", element=\"00499699-0a78-40d7-994d-a99caf94697b\")>]"
      ]
     },
     "execution_count": 81,
     "metadata": {},
     "output_type": "execute_result"
    }
   ],
   "source": [
    "asa = driver.find_elements_by_class_name('averageCtc')\n",
    "asal = asa[0:10]\n",
    "asal[0:2]"
   ]
  },
  {
   "cell_type": "code",
   "execution_count": 82,
   "id": "8d07ae9f",
   "metadata": {},
   "outputs": [
    {
     "data": {
      "text/plain": [
       "['   31.8L',\n",
       " '   23.9L',\n",
       " '   23.0L',\n",
       " '   21.1L',\n",
       " '   20.9L',\n",
       " '   20.6L',\n",
       " '   20.4L',\n",
       " '   20.1L',\n",
       " '   19.9L',\n",
       " '   19.3L']"
      ]
     },
     "execution_count": 82,
     "metadata": {},
     "output_type": "execute_result"
    }
   ],
   "source": [
    "for i in asal:\n",
    "    averagesalary.append(i.text.replace('₹','  '))\n",
    "averagesalary"
   ]
  },
  {
   "cell_type": "code",
   "execution_count": 83,
   "id": "5a60f74c",
   "metadata": {},
   "outputs": [
    {
     "data": {
      "text/plain": [
       "<selenium.webdriver.remote.webelement.WebElement (session=\"069412813f04d54d2682d7af6e46d5de\", element=\"4c8d11da-de6a-4a9d-baa6-4b01e9743402\")>"
      ]
     },
     "execution_count": 83,
     "metadata": {},
     "output_type": "execute_result"
    }
   ],
   "source": [
    "sal=driver.find_element_by_xpath('/html/body/div/div/div/main/section[1]/div[2]/div[3]/div[2]/div[1]/div[2]/div/div[2]')\n",
    "sal"
   ]
  },
  {
   "cell_type": "code",
   "execution_count": 84,
   "id": "1e5a8fc7",
   "metadata": {},
   "outputs": [
    {
     "data": {
      "text/plain": [
       "'   11.0L\\n   65.0L'"
      ]
     },
     "execution_count": 84,
     "metadata": {},
     "output_type": "execute_result"
    }
   ],
   "source": [
    "sal.text.replace('₹','  ')"
   ]
  },
  {
   "cell_type": "code",
   "execution_count": 86,
   "id": "c2211785",
   "metadata": {},
   "outputs": [
    {
     "data": {
      "text/plain": [
       "[<selenium.webdriver.remote.webelement.WebElement (session=\"069412813f04d54d2682d7af6e46d5de\", element=\"4c8d11da-de6a-4a9d-baa6-4b01e9743402\")>,\n",
       " <selenium.webdriver.remote.webelement.WebElement (session=\"069412813f04d54d2682d7af6e46d5de\", element=\"433b3e88-6be6-4163-8b0c-29cda0020567\")>]"
      ]
     },
     "execution_count": 86,
     "metadata": {},
     "output_type": "execute_result"
    }
   ],
   "source": [
    "sal=driver.find_elements_by_xpath('//div[@class=\"salary-values\"]')\n",
    "sal[0:2]"
   ]
  },
  {
   "cell_type": "code",
   "execution_count": 93,
   "id": "fc618ff5",
   "metadata": {},
   "outputs": [
    {
     "data": {
      "text/plain": [
       "['   11.0L\\n   65.0L', '   13.0L\\n   45.0L']"
      ]
     },
     "execution_count": 93,
     "metadata": {},
     "output_type": "execute_result"
    }
   ],
   "source": [
    "salary=[]\n",
    "for i in sal:\n",
    "    salary.append(i.text.replace('₹','  '))\n",
    "salary[0:2]"
   ]
  },
  {
   "cell_type": "code",
   "execution_count": 99,
   "id": "a5b10d4e",
   "metadata": {},
   "outputs": [
    {
     "data": {
      "text/plain": [
       "[<selenium.webdriver.remote.webelement.WebElement (session=\"069412813f04d54d2682d7af6e46d5de\", element=\"451a8162-54c5-4255-a3ab-9a5c8dd84105\")>,\n",
       " <selenium.webdriver.remote.webelement.WebElement (session=\"069412813f04d54d2682d7af6e46d5de\", element=\"c09eeb19-e10e-47c1-aa5c-39e244eb544c\")>]"
      ]
     },
     "execution_count": 99,
     "metadata": {},
     "output_type": "execute_result"
    }
   ],
   "source": [
    "er=driver.find_elements_by_xpath('//div[@class=\"salaries sbold-list-header\"]')\n",
    "er[0:2]"
   ]
  },
  {
   "cell_type": "code",
   "execution_count": 100,
   "id": "fac6c1cd",
   "metadata": {},
   "outputs": [
    {
     "data": {
      "text/plain": [
       "['1-3', '1-4', '2', '2-4', '1-4', '1-4', '2-4', '1-2', '1-4', '1-2']"
      ]
     },
     "execution_count": 100,
     "metadata": {},
     "output_type": "execute_result"
    }
   ],
   "source": [
    "for i in er:\n",
    "    experiencerequired.append(i.text.split()[3])\n",
    "experiencerequired"
   ]
  },
  {
   "cell_type": "code",
   "execution_count": 101,
   "id": "1eb19c60",
   "metadata": {},
   "outputs": [
    {
     "data": {
      "text/plain": [
       "(10, 10, 10, 10, 10)"
      ]
     },
     "execution_count": 101,
     "metadata": {},
     "output_type": "execute_result"
    }
   ],
   "source": [
    "len(companyname),len(totalsalaryrecord),len(averagesalary),len(salary),len(experiencerequired)"
   ]
  },
  {
   "cell_type": "code",
   "execution_count": 102,
   "id": "db357c60",
   "metadata": {},
   "outputs": [
    {
     "data": {
      "text/html": [
       "<div>\n",
       "<style scoped>\n",
       "    .dataframe tbody tr th:only-of-type {\n",
       "        vertical-align: middle;\n",
       "    }\n",
       "\n",
       "    .dataframe tbody tr th {\n",
       "        vertical-align: top;\n",
       "    }\n",
       "\n",
       "    .dataframe thead th {\n",
       "        text-align: right;\n",
       "    }\n",
       "</style>\n",
       "<table border=\"1\" class=\"dataframe\">\n",
       "  <thead>\n",
       "    <tr style=\"text-align: right;\">\n",
       "      <th></th>\n",
       "      <th>Company Name</th>\n",
       "      <th>Total salary record</th>\n",
       "      <th>Average Salary</th>\n",
       "      <th>Min_Max Salary</th>\n",
       "      <th>Experience Required</th>\n",
       "    </tr>\n",
       "  </thead>\n",
       "  <tbody>\n",
       "    <tr>\n",
       "      <th>0</th>\n",
       "      <td>Google</td>\n",
       "      <td>31.8L\\n   11.0L\\n   65.0L</td>\n",
       "      <td>31.8L</td>\n",
       "      <td>11.0L\\n   65.0L</td>\n",
       "      <td>1-3</td>\n",
       "    </tr>\n",
       "    <tr>\n",
       "      <th>1</th>\n",
       "      <td>Microsoft</td>\n",
       "      <td>23.9L\\n   13.0L\\n   45.0L</td>\n",
       "      <td>23.9L</td>\n",
       "      <td>13.0L\\n   45.0L</td>\n",
       "      <td>1-4</td>\n",
       "    </tr>\n",
       "    <tr>\n",
       "      <th>2</th>\n",
       "      <td>Goldman</td>\n",
       "      <td>23.0L\\n   12.0L\\n   34.0L</td>\n",
       "      <td>23.0L</td>\n",
       "      <td>12.0L\\n   34.0L</td>\n",
       "      <td>2</td>\n",
       "    </tr>\n",
       "    <tr>\n",
       "      <th>3</th>\n",
       "      <td>Tekion</td>\n",
       "      <td>21.1L\\n   12.0L\\n   33.0L</td>\n",
       "      <td>21.1L</td>\n",
       "      <td>12.0L\\n   33.0L</td>\n",
       "      <td>2-4</td>\n",
       "    </tr>\n",
       "    <tr>\n",
       "      <th>4</th>\n",
       "      <td>Amazon</td>\n",
       "      <td>20.9L\\n   8.0L\\n   45.0L</td>\n",
       "      <td>20.9L</td>\n",
       "      <td>8.0L\\n   45.0L</td>\n",
       "      <td>1-4</td>\n",
       "    </tr>\n",
       "    <tr>\n",
       "      <th>5</th>\n",
       "      <td>Flipkart</td>\n",
       "      <td>20.6L\\n   7.5L\\n   31.0L</td>\n",
       "      <td>20.6L</td>\n",
       "      <td>7.5L\\n   31.0L</td>\n",
       "      <td>1-4</td>\n",
       "    </tr>\n",
       "    <tr>\n",
       "      <th>6</th>\n",
       "      <td>Servicenow</td>\n",
       "      <td>20.4L\\n   13.0L\\n   28.0L</td>\n",
       "      <td>20.4L</td>\n",
       "      <td>13.0L\\n   28.0L</td>\n",
       "      <td>2-4</td>\n",
       "    </tr>\n",
       "    <tr>\n",
       "      <th>7</th>\n",
       "      <td>PayPal</td>\n",
       "      <td>20.1L\\n   12.0L\\n   31.0L</td>\n",
       "      <td>20.1L</td>\n",
       "      <td>12.0L\\n   31.0L</td>\n",
       "      <td>1-2</td>\n",
       "    </tr>\n",
       "    <tr>\n",
       "      <th>8</th>\n",
       "      <td>Walmart</td>\n",
       "      <td>19.9L\\n   11.4L\\n   32.5L</td>\n",
       "      <td>19.9L</td>\n",
       "      <td>11.4L\\n   32.5L</td>\n",
       "      <td>1-4</td>\n",
       "    </tr>\n",
       "    <tr>\n",
       "      <th>9</th>\n",
       "      <td>Arcesium</td>\n",
       "      <td>19.3L\\n   12.0L\\n   34.0L</td>\n",
       "      <td>19.3L</td>\n",
       "      <td>12.0L\\n   34.0L</td>\n",
       "      <td>1-2</td>\n",
       "    </tr>\n",
       "  </tbody>\n",
       "</table>\n",
       "</div>"
      ],
      "text/plain": [
       "  Company Name           Total salary record Average Salary  \\\n",
       "0       Google     31.8L\\n   11.0L\\n   65.0L          31.8L   \n",
       "1    Microsoft     23.9L\\n   13.0L\\n   45.0L          23.9L   \n",
       "2      Goldman     23.0L\\n   12.0L\\n   34.0L          23.0L   \n",
       "3       Tekion     21.1L\\n   12.0L\\n   33.0L          21.1L   \n",
       "4       Amazon      20.9L\\n   8.0L\\n   45.0L          20.9L   \n",
       "5     Flipkart      20.6L\\n   7.5L\\n   31.0L          20.6L   \n",
       "6   Servicenow     20.4L\\n   13.0L\\n   28.0L          20.4L   \n",
       "7       PayPal     20.1L\\n   12.0L\\n   31.0L          20.1L   \n",
       "8      Walmart     19.9L\\n   11.4L\\n   32.5L          19.9L   \n",
       "9     Arcesium     19.3L\\n   12.0L\\n   34.0L          19.3L   \n",
       "\n",
       "       Min_Max Salary Experience Required  \n",
       "0     11.0L\\n   65.0L                 1-3  \n",
       "1     13.0L\\n   45.0L                 1-4  \n",
       "2     12.0L\\n   34.0L                   2  \n",
       "3     12.0L\\n   33.0L                 2-4  \n",
       "4      8.0L\\n   45.0L                 1-4  \n",
       "5      7.5L\\n   31.0L                 1-4  \n",
       "6     13.0L\\n   28.0L                 2-4  \n",
       "7     12.0L\\n   31.0L                 1-2  \n",
       "8     11.4L\\n   32.5L                 1-4  \n",
       "9     12.0L\\n   34.0L                 1-2  "
      ]
     },
     "execution_count": 102,
     "metadata": {},
     "output_type": "execute_result"
    }
   ],
   "source": [
    "salary_data=pd.DataFrame({'Company Name':companyname,'Total salary record':totalsalaryrecord,'Average Salary':averagesalary,'Min_Max Salary':salary,'Experience Required':experiencerequired})\n",
    "salary_data"
   ]
  },
  {
   "cell_type": "markdown",
   "id": "6c920e87",
   "metadata": {},
   "source": [
    "Q2: Write a python program to scrape data for “Data Scientist” Job position in “Bangalore” location. You\n",
    "have to scrape the job-title, job-location, company_name. You have to scrape first 10 jobs data.\n",
    "This task will be done in following steps:\n",
    "1. First get the webpage https://www.naukri.com/\n",
    "2. Enter “Data Scientist” in “Skill, Designations, Companies” field and enter “Bangalore” in “enter the\n",
    "location” field.\n",
    "3. Then click the search button.\n",
    "4. Then scrape the data for the first 10 jobs results you get.\n",
    "5. Finally create a dataframe of the scraped data."
   ]
  },
  {
   "cell_type": "code",
   "execution_count": 104,
   "id": "3bbc78ab",
   "metadata": {},
   "outputs": [],
   "source": [
    "driver = webdriver.Chrome(r\"C:\\Users\\SSIM STUDENT\\Desktop\\job\\DA\\chromedriver.exe\")\n",
    "time.sleep(2)"
   ]
  },
  {
   "cell_type": "code",
   "execution_count": 105,
   "id": "f3281cf8",
   "metadata": {},
   "outputs": [],
   "source": [
    "driver.get('https://www.naukri.com/')"
   ]
  },
  {
   "cell_type": "code",
   "execution_count": 106,
   "id": "fe11064e",
   "metadata": {},
   "outputs": [],
   "source": [
    "search_field_designation=driver.find_element_by_class_name(\"suggestor-input \")\n",
    "search_field_designation.send_keys(\"Data Scientist\")"
   ]
  },
  {
   "cell_type": "code",
   "execution_count": 107,
   "id": "a4068e19",
   "metadata": {},
   "outputs": [],
   "source": [
    "search_field_location=driver.find_element_by_xpath('/html/body/div/div[2]/div[3]/div/div/div[5]/div/div/div/input')\n",
    "search_field_location.send_keys(\"Bangalore\")"
   ]
  },
  {
   "cell_type": "code",
   "execution_count": 110,
   "id": "6b308c18",
   "metadata": {},
   "outputs": [],
   "source": [
    "search_button = driver.find_element_by_xpath(\"/html/body/div/div[2]/div[3]/div/div/div[6]\")\n",
    "search_button.click()"
   ]
  },
  {
   "cell_type": "code",
   "execution_count": 111,
   "id": "ef532eab",
   "metadata": {},
   "outputs": [],
   "source": [
    "Job_Role1=[]\n",
    "Comp_names1=[]\n",
    "Location_list1=[]"
   ]
  },
  {
   "cell_type": "code",
   "execution_count": 112,
   "id": "39845994",
   "metadata": {},
   "outputs": [
    {
     "data": {
      "text/plain": [
       "[<selenium.webdriver.remote.webelement.WebElement (session=\"3256be0098701367203bd13f31bf5163\", element=\"ed7c8fa2-2b36-4a8b-a1ec-8d575a0dc2bd\")>,\n",
       " <selenium.webdriver.remote.webelement.WebElement (session=\"3256be0098701367203bd13f31bf5163\", element=\"12a67631-1d84-448b-b07d-79ba8812c80b\")>]"
      ]
     },
     "execution_count": 112,
     "metadata": {},
     "output_type": "execute_result"
    }
   ],
   "source": [
    "title_tags=driver.find_elements_by_xpath(\"//a[@class='title fw500 ellipsis']\")\n",
    "title_tags[0:2]"
   ]
  },
  {
   "cell_type": "code",
   "execution_count": 113,
   "id": "313c5734",
   "metadata": {},
   "outputs": [
    {
     "data": {
      "text/plain": [
       "['AI Technologist Vacancy',\n",
       " 'Job Opening with Wipro For Data Scientist position']"
      ]
     },
     "execution_count": 113,
     "metadata": {},
     "output_type": "execute_result"
    }
   ],
   "source": [
    "for i in title_tags:\n",
    "    Job_Role1.append(i.text)\n",
    "Job_Role1[0:2]"
   ]
  },
  {
   "cell_type": "code",
   "execution_count": 114,
   "id": "47cb45d5",
   "metadata": {},
   "outputs": [],
   "source": [
    "Jl1= Job_Role1[0:10]"
   ]
  },
  {
   "cell_type": "code",
   "execution_count": 115,
   "id": "77bbd30e",
   "metadata": {},
   "outputs": [
    {
     "data": {
      "text/plain": [
       "[<selenium.webdriver.remote.webelement.WebElement (session=\"3256be0098701367203bd13f31bf5163\", element=\"da546690-c33b-4f5a-9ac4-c7d30883a070\")>,\n",
       " <selenium.webdriver.remote.webelement.WebElement (session=\"3256be0098701367203bd13f31bf5163\", element=\"c0836978-a28e-4877-ace5-2dc20cca5f29\")>]"
      ]
     },
     "execution_count": 115,
     "metadata": {},
     "output_type": "execute_result"
    }
   ],
   "source": [
    "Company_tags=driver.find_elements_by_xpath(\"//a[@class='subTitle ellipsis fleft']\")\n",
    "Company_tags[0:2]"
   ]
  },
  {
   "cell_type": "code",
   "execution_count": 117,
   "id": "668f4ffb",
   "metadata": {},
   "outputs": [
    {
     "data": {
      "text/plain": [
       "['Wipro',\n",
       " 'Wipro',\n",
       " 'Concentrix Daksh Services',\n",
       " 'Evalueserve',\n",
       " 'Genpact',\n",
       " 'Walmart',\n",
       " 'Walmart',\n",
       " 'Genpact',\n",
       " 'IHS Markit',\n",
       " 'Genpact']"
      ]
     },
     "execution_count": 117,
     "metadata": {},
     "output_type": "execute_result"
    }
   ],
   "source": [
    "for i in Company_tags:\n",
    "    Comp_names1.append(i.text)\n",
    "Comp_names1[0:10]"
   ]
  },
  {
   "cell_type": "code",
   "execution_count": 119,
   "id": "bc48f372",
   "metadata": {},
   "outputs": [],
   "source": [
    "Cl1=Comp_names1[0:10]"
   ]
  },
  {
   "cell_type": "code",
   "execution_count": 120,
   "id": "c719201f",
   "metadata": {},
   "outputs": [
    {
     "data": {
      "text/plain": [
       "[<selenium.webdriver.remote.webelement.WebElement (session=\"3256be0098701367203bd13f31bf5163\", element=\"1f90249b-ede0-4f88-b528-26d5d0422b34\")>,\n",
       " <selenium.webdriver.remote.webelement.WebElement (session=\"3256be0098701367203bd13f31bf5163\", element=\"4c035269-6072-43a1-a758-4b7ed59061b0\")>]"
      ]
     },
     "execution_count": 120,
     "metadata": {},
     "output_type": "execute_result"
    }
   ],
   "source": [
    "Location_lists=driver.find_elements_by_xpath(\"//li[@class='fleft grey-text br2 placeHolderLi location']/span\")\n",
    "Location_lists[0:2]"
   ]
  },
  {
   "cell_type": "code",
   "execution_count": 121,
   "id": "8d1b31d0",
   "metadata": {},
   "outputs": [
    {
     "data": {
      "text/plain": [
       "['Kolkata, Hyderabad/Secunderabad, Pune, Ahmedabad, Chennai, Bangalore/Bengaluru, Delhi / NCR, Mumbai (All Areas)',\n",
       " 'Kolkata, Hyderabad/Secunderabad, Chennai, Bangalore/Bengaluru, Delhi / NCR, Mumbai (All Areas)']"
      ]
     },
     "execution_count": 121,
     "metadata": {},
     "output_type": "execute_result"
    }
   ],
   "source": [
    "for i in Location_lists:\n",
    "    Location_list1.append(i.text)\n",
    "Location_list1[0:2]"
   ]
  },
  {
   "cell_type": "code",
   "execution_count": 123,
   "id": "8eaeb709",
   "metadata": {},
   "outputs": [],
   "source": [
    "Ll1=Location_list1[0:10]"
   ]
  },
  {
   "cell_type": "code",
   "execution_count": 124,
   "id": "6926cbc4",
   "metadata": {},
   "outputs": [
    {
     "data": {
      "text/plain": [
       "(10, 10, 10)"
      ]
     },
     "execution_count": 124,
     "metadata": {},
     "output_type": "execute_result"
    }
   ],
   "source": [
    "len(Jl1),len(Cl1),len(Ll1)"
   ]
  },
  {
   "cell_type": "code",
   "execution_count": 125,
   "id": "35166fed",
   "metadata": {},
   "outputs": [
    {
     "data": {
      "text/html": [
       "<div>\n",
       "<style scoped>\n",
       "    .dataframe tbody tr th:only-of-type {\n",
       "        vertical-align: middle;\n",
       "    }\n",
       "\n",
       "    .dataframe tbody tr th {\n",
       "        vertical-align: top;\n",
       "    }\n",
       "\n",
       "    .dataframe thead th {\n",
       "        text-align: right;\n",
       "    }\n",
       "</style>\n",
       "<table border=\"1\" class=\"dataframe\">\n",
       "  <thead>\n",
       "    <tr style=\"text-align: right;\">\n",
       "      <th></th>\n",
       "      <th>title</th>\n",
       "      <th>company</th>\n",
       "      <th>location</th>\n",
       "    </tr>\n",
       "  </thead>\n",
       "  <tbody>\n",
       "    <tr>\n",
       "      <th>0</th>\n",
       "      <td>AI Technologist Vacancy</td>\n",
       "      <td>Wipro</td>\n",
       "      <td>Kolkata, Hyderabad/Secunderabad, Pune, Ahmedab...</td>\n",
       "    </tr>\n",
       "    <tr>\n",
       "      <th>1</th>\n",
       "      <td>Job Opening with Wipro For Data Scientist posi...</td>\n",
       "      <td>Wipro</td>\n",
       "      <td>Kolkata, Hyderabad/Secunderabad, Chennai, Bang...</td>\n",
       "    </tr>\n",
       "    <tr>\n",
       "      <th>2</th>\n",
       "      <td>DATA Scientist with Fraud Analytics Experience</td>\n",
       "      <td>Concentrix Daksh Services</td>\n",
       "      <td>Bangalore/Bengaluru</td>\n",
       "    </tr>\n",
       "    <tr>\n",
       "      <th>3</th>\n",
       "      <td>Looking For Data Scientist ( Exp in R OR R Shiny)</td>\n",
       "      <td>Evalueserve</td>\n",
       "      <td>Bangalore/Bengaluru</td>\n",
       "    </tr>\n",
       "    <tr>\n",
       "      <th>4</th>\n",
       "      <td>Data Scientist</td>\n",
       "      <td>Genpact</td>\n",
       "      <td>Bangalore/Bengaluru</td>\n",
       "    </tr>\n",
       "    <tr>\n",
       "      <th>5</th>\n",
       "      <td>Senior Data Scientist</td>\n",
       "      <td>Walmart</td>\n",
       "      <td>Bangalore/Bengaluru</td>\n",
       "    </tr>\n",
       "    <tr>\n",
       "      <th>6</th>\n",
       "      <td>Senior Data Scientist</td>\n",
       "      <td>Walmart</td>\n",
       "      <td>Bangalore/Bengaluru</td>\n",
       "    </tr>\n",
       "    <tr>\n",
       "      <th>7</th>\n",
       "      <td>Data Scientist</td>\n",
       "      <td>Genpact</td>\n",
       "      <td>Bangalore/Bengaluru</td>\n",
       "    </tr>\n",
       "    <tr>\n",
       "      <th>8</th>\n",
       "      <td>Associate Director - Data Science</td>\n",
       "      <td>IHS Markit</td>\n",
       "      <td>Bangalore/Bengaluru</td>\n",
       "    </tr>\n",
       "    <tr>\n",
       "      <th>9</th>\n",
       "      <td>Data Scientist</td>\n",
       "      <td>Genpact</td>\n",
       "      <td>Hyderabad/Secunderabad, Bangalore/Bengaluru, D...</td>\n",
       "    </tr>\n",
       "  </tbody>\n",
       "</table>\n",
       "</div>"
      ],
      "text/plain": [
       "                                               title  \\\n",
       "0                            AI Technologist Vacancy   \n",
       "1  Job Opening with Wipro For Data Scientist posi...   \n",
       "2     DATA Scientist with Fraud Analytics Experience   \n",
       "3  Looking For Data Scientist ( Exp in R OR R Shiny)   \n",
       "4                                     Data Scientist   \n",
       "5                              Senior Data Scientist   \n",
       "6                              Senior Data Scientist   \n",
       "7                                     Data Scientist   \n",
       "8                  Associate Director - Data Science   \n",
       "9                                     Data Scientist   \n",
       "\n",
       "                     company  \\\n",
       "0                      Wipro   \n",
       "1                      Wipro   \n",
       "2  Concentrix Daksh Services   \n",
       "3                Evalueserve   \n",
       "4                    Genpact   \n",
       "5                    Walmart   \n",
       "6                    Walmart   \n",
       "7                    Genpact   \n",
       "8                 IHS Markit   \n",
       "9                    Genpact   \n",
       "\n",
       "                                            location  \n",
       "0  Kolkata, Hyderabad/Secunderabad, Pune, Ahmedab...  \n",
       "1  Kolkata, Hyderabad/Secunderabad, Chennai, Bang...  \n",
       "2                                Bangalore/Bengaluru  \n",
       "3                                Bangalore/Bengaluru  \n",
       "4                                Bangalore/Bengaluru  \n",
       "5                                Bangalore/Bengaluru  \n",
       "6                                Bangalore/Bengaluru  \n",
       "7                                Bangalore/Bengaluru  \n",
       "8                                Bangalore/Bengaluru  \n",
       "9  Hyderabad/Secunderabad, Bangalore/Bengaluru, D...  "
      ]
     },
     "execution_count": 125,
     "metadata": {},
     "output_type": "execute_result"
    }
   ],
   "source": [
    "jobs=pd.DataFrame({'title':Jl1,'company':Cl1,'location':Ll1})\n",
    "jobs"
   ]
  },
  {
   "cell_type": "markdown",
   "id": "855ab5ee",
   "metadata": {},
   "source": [
    "Q3: In this question you have to scrape data using the filters available on the webpage as shown below:\n",
    "You have to use the location and salary filter.\n",
    "You have to scrape data for “Data Scientist” designation for first 10 job results.\n",
    "You have to scrape the job-title, job-location, company name, experience required.\n",
    "The location filter to be used is “Delhi/NCR”. The salary filter to be used is “3-6” lakhs\n",
    "The task will be done as shown in the below steps:\n",
    "1. first get the webpage https://www.naukri.com/\n",
    "2. Enter “Data Scientist” in “Skill, Designations, and Companies” field.\n",
    "3. Then click the search button.\n",
    "4. Then apply the location filter and salary filter by checking the respective boxes\n",
    "5. Then scrape the data for the first 10 jobs results you get.\n",
    "6. Finally create a dataframe of the scraped data"
   ]
  },
  {
   "cell_type": "code",
   "execution_count": 63,
   "id": "16dce795",
   "metadata": {},
   "outputs": [],
   "source": [
    "driver = webdriver.Chrome(r\"C:\\Users\\SSIM STUDENT\\Desktop\\job\\DA\\chromedriver.exe\")\n",
    "time.sleep(2)"
   ]
  },
  {
   "cell_type": "code",
   "execution_count": 64,
   "id": "6068489d",
   "metadata": {},
   "outputs": [],
   "source": [
    "driver.get('https://www.naukri.com/')\n",
    "time.sleep(7)"
   ]
  },
  {
   "cell_type": "code",
   "execution_count": 65,
   "id": "971ca30b",
   "metadata": {},
   "outputs": [],
   "source": [
    "search_field_designation=driver.find_element_by_class_name(\"suggestor-input \")\n",
    "search_field_designation.send_keys(\"Data Scientist\")"
   ]
  },
  {
   "cell_type": "code",
   "execution_count": 66,
   "id": "9dfed4b6",
   "metadata": {},
   "outputs": [],
   "source": [
    "search_field_location=driver.find_element_by_xpath('/html/body/div/div[2]/div[3]/div/div/div[5]/div/div/div/input')\n",
    "search_field_location.send_keys(\"Delhi\")"
   ]
  },
  {
   "cell_type": "code",
   "execution_count": 67,
   "id": "18152d8f",
   "metadata": {},
   "outputs": [],
   "source": [
    "search_button = driver.find_element_by_xpath(\"/html/body/div/div[2]/div[3]/div/div/div[6]\")\n",
    "search_button.click()\n",
    "time.sleep(7)"
   ]
  },
  {
   "cell_type": "code",
   "execution_count": 68,
   "id": "7b622eba",
   "metadata": {},
   "outputs": [],
   "source": [
    "Job_Role2=[]\n",
    "Comp_names2=[]\n",
    "Location_list2=[]"
   ]
  },
  {
   "cell_type": "code",
   "execution_count": 82,
   "id": "be9d14d7",
   "metadata": {},
   "outputs": [],
   "source": [
    "button = driver.find_element_by_class_name(\"fw500\")\n",
    "button.click()"
   ]
  },
  {
   "cell_type": "code",
   "execution_count": null,
   "id": "ba35278b",
   "metadata": {},
   "outputs": [],
   "source": []
  }
 ],
 "metadata": {
  "kernelspec": {
   "display_name": "Python 3 (ipykernel)",
   "language": "python",
   "name": "python3"
  },
  "language_info": {
   "codemirror_mode": {
    "name": "ipython",
    "version": 3
   },
   "file_extension": ".py",
   "mimetype": "text/x-python",
   "name": "python",
   "nbconvert_exporter": "python",
   "pygments_lexer": "ipython3",
   "version": "3.9.7"
  }
 },
 "nbformat": 4,
 "nbformat_minor": 5
}
