{
 "cells": [
  {
   "cell_type": "code",
   "execution_count": 93,
   "id": "223c9d82",
   "metadata": {},
   "outputs": [
    {
     "name": "stdout",
     "output_type": "stream",
     "text": [
      "Requirement already satisfied: selenium in c:\\anaconda\\lib\\site-packages (3.141.0)Note: you may need to restart the kernel to use updated packages.\n",
      "Requirement already satisfied: urllib3 in c:\\anaconda\\lib\\site-packages (from selenium) (1.26.7)\n",
      "\n"
     ]
    }
   ],
   "source": [
    "pip install selenium"
   ]
  },
  {
   "cell_type": "markdown",
   "id": "5858a238",
   "metadata": {},
   "source": [
    "Q1: Write a python program to scrape data for “Data Analyst” Job position in “Bangalore” location. You\n",
    "have to scrape the job-title, job-location, company_name, experience_required. You have to scrape first 10\n",
    "jobs data.\n",
    "This task will be done in following steps:\n",
    "1. First get the webpage https://www.naukri.com/\n",
    "2. Enter “Data Analyst” in “Skill, Designations, Companies” field and enter “Bangalore” in “enter the\n",
    "location” field.\n",
    "3. Then click the search button.\n",
    "4. Then scrape the data for the first 10 jobs results you get.\n",
    "5. Finally create a dataframe of the scraped data.\n",
    "Note: All of the above steps have to be done in code. No step is to be done manually."
   ]
  },
  {
   "cell_type": "code",
   "execution_count": 94,
   "id": "afd04cc8",
   "metadata": {},
   "outputs": [],
   "source": [
    "import selenium\n",
    "import pandas as pd\n",
    "from selenium import webdriver\n",
    "import warnings\n",
    "warnings.filterwarnings(\"ignore\")\n",
    "import time"
   ]
  },
  {
   "cell_type": "code",
   "execution_count": 95,
   "id": "12dac6c5",
   "metadata": {},
   "outputs": [],
   "source": [
    "driver = webdriver.Chrome(r\"C:\\Users\\SSIM STUDENT\\Desktop\\job\\DA\\chromedriver.exe\")\n",
    "time.sleep(0)"
   ]
  },
  {
   "cell_type": "code",
   "execution_count": 96,
   "id": "b25bfe10",
   "metadata": {},
   "outputs": [],
   "source": [
    "driver.get('https://www.naukri.com/')"
   ]
  },
  {
   "cell_type": "code",
   "execution_count": 97,
   "id": "e2367519",
   "metadata": {},
   "outputs": [],
   "source": [
    "search_field_designation=driver.find_element_by_class_name(\"suggestor-input \")\n",
    "search_field_designation.send_keys(\"Data Analyst\")"
   ]
  },
  {
   "cell_type": "code",
   "execution_count": 98,
   "id": "575fc1fc",
   "metadata": {},
   "outputs": [],
   "source": [
    "search_field_location=driver.find_element_by_xpath('/html/body/div/div[2]/div[3]/div/div/div[5]/div/div/div/input')\n",
    "search_field_location.send_keys(\"Bangalore\")"
   ]
  },
  {
   "cell_type": "code",
   "execution_count": 99,
   "id": "a609725a",
   "metadata": {},
   "outputs": [],
   "source": [
    "search_button = driver.find_element_by_xpath(\"/html/body/div/div[2]/div[3]/div/div/div[6]\")\n",
    "search_button.click()"
   ]
  },
  {
   "cell_type": "code",
   "execution_count": 100,
   "id": "f437f9ca",
   "metadata": {},
   "outputs": [],
   "source": [
    "Job_Role=[]\n",
    "Comp_names=[]\n",
    "Experience_list=[]\n",
    "Location_list=[]"
   ]
  },
  {
   "cell_type": "code",
   "execution_count": 101,
   "id": "73320193",
   "metadata": {},
   "outputs": [
    {
     "data": {
      "text/plain": [
       "[<selenium.webdriver.remote.webelement.WebElement (session=\"ec70fb29dd4ca427dadef8d04ca89402\", element=\"b5855cf2-9407-44a6-bab2-fb9b36840045\")>,\n",
       " <selenium.webdriver.remote.webelement.WebElement (session=\"ec70fb29dd4ca427dadef8d04ca89402\", element=\"50097c34-62db-4bf6-b3f7-c9835ffc7e56\")>]"
      ]
     },
     "execution_count": 101,
     "metadata": {},
     "output_type": "execute_result"
    }
   ],
   "source": [
    "title_tags=driver.find_elements_by_xpath(\"//a[@class='title fw500 ellipsis']\")\n",
    "title_tags[0:2]"
   ]
  },
  {
   "cell_type": "code",
   "execution_count": 102,
   "id": "c56fd863",
   "metadata": {},
   "outputs": [
    {
     "data": {
      "text/plain": [
       "['Business Data Analyst', 'EY GDS Data Analyst-Finland based project']"
      ]
     },
     "execution_count": 102,
     "metadata": {},
     "output_type": "execute_result"
    }
   ],
   "source": [
    "for i in title_tags:\n",
    "    title=i.text\n",
    "    Job_Role.append(title)\n",
    "Job_Role[0:2]"
   ]
  },
  {
   "cell_type": "code",
   "execution_count": 103,
   "id": "e3874028",
   "metadata": {},
   "outputs": [],
   "source": [
    "Jl= Job_Role[0:10]"
   ]
  },
  {
   "cell_type": "code",
   "execution_count": 104,
   "id": "d4f69ec7",
   "metadata": {},
   "outputs": [
    {
     "data": {
      "text/plain": [
       "[<selenium.webdriver.remote.webelement.WebElement (session=\"ec70fb29dd4ca427dadef8d04ca89402\", element=\"34ec0cca-1997-4345-8b0f-67d303cc35aa\")>,\n",
       " <selenium.webdriver.remote.webelement.WebElement (session=\"ec70fb29dd4ca427dadef8d04ca89402\", element=\"657e33f8-fbfd-482a-8985-337b4b36c49a\")>]"
      ]
     },
     "execution_count": 104,
     "metadata": {},
     "output_type": "execute_result"
    }
   ],
   "source": [
    "Company_tags=driver.find_elements_by_xpath(\"//a[@class='subTitle ellipsis fleft']\")\n",
    "Company_tags[0:2]"
   ]
  },
  {
   "cell_type": "code",
   "execution_count": 105,
   "id": "e88a22d9",
   "metadata": {},
   "outputs": [
    {
     "data": {
      "text/plain": [
       "['NXP Semiconductors', 'EY']"
      ]
     },
     "execution_count": 105,
     "metadata": {},
     "output_type": "execute_result"
    }
   ],
   "source": [
    "for i in Company_tags:\n",
    "    company_lint=i.text\n",
    "    Comp_names.append(company_lint)\n",
    "Comp_names[0:2]"
   ]
  },
  {
   "cell_type": "code",
   "execution_count": 106,
   "id": "0b6ed552",
   "metadata": {},
   "outputs": [],
   "source": [
    "Cl=Comp_names[0:10]"
   ]
  },
  {
   "cell_type": "code",
   "execution_count": 107,
   "id": "48aaf8df",
   "metadata": {},
   "outputs": [
    {
     "data": {
      "text/plain": [
       "[<selenium.webdriver.remote.webelement.WebElement (session=\"ec70fb29dd4ca427dadef8d04ca89402\", element=\"cd623654-15fb-49dc-a108-26478ade93d5\")>,\n",
       " <selenium.webdriver.remote.webelement.WebElement (session=\"ec70fb29dd4ca427dadef8d04ca89402\", element=\"d6577a85-4539-4fe5-9dcc-6c0292aa4b60\")>]"
      ]
     },
     "execution_count": 107,
     "metadata": {},
     "output_type": "execute_result"
    }
   ],
   "source": [
    "Experience_lists=driver.find_elements_by_xpath(\"//li[@class='fleft grey-text br2 placeHolderLi experience']/span\")\n",
    "Experience_lists[0:2]"
   ]
  },
  {
   "cell_type": "code",
   "execution_count": 108,
   "id": "47a91894",
   "metadata": {},
   "outputs": [
    {
     "data": {
      "text/plain": [
       "['2-5 Yrs', '0-1 Yrs']"
      ]
     },
     "execution_count": 108,
     "metadata": {},
     "output_type": "execute_result"
    }
   ],
   "source": [
    "for i in Experience_lists:\n",
    "    Experience_lint=i.text\n",
    "    Experience_list.append(Experience_lint)\n",
    "Experience_list[0:2]"
   ]
  },
  {
   "cell_type": "code",
   "execution_count": 109,
   "id": "8a6b012f",
   "metadata": {},
   "outputs": [],
   "source": [
    "El=Experience_list[0:10]"
   ]
  },
  {
   "cell_type": "code",
   "execution_count": 110,
   "id": "b8163acc",
   "metadata": {},
   "outputs": [
    {
     "data": {
      "text/plain": [
       "[<selenium.webdriver.remote.webelement.WebElement (session=\"ec70fb29dd4ca427dadef8d04ca89402\", element=\"7eaa32a9-4be2-4505-9a82-936b7cea8a93\")>,\n",
       " <selenium.webdriver.remote.webelement.WebElement (session=\"ec70fb29dd4ca427dadef8d04ca89402\", element=\"c19fc3e9-fa39-4b18-82c6-838f8d18a37a\")>]"
      ]
     },
     "execution_count": 110,
     "metadata": {},
     "output_type": "execute_result"
    }
   ],
   "source": [
    "Location_lists=driver.find_elements_by_xpath(\"//li[@class='fleft grey-text br2 placeHolderLi location']/span\")\n",
    "Location_lists[0:2]"
   ]
  },
  {
   "cell_type": "code",
   "execution_count": 111,
   "id": "22c7575b",
   "metadata": {},
   "outputs": [
    {
     "data": {
      "text/plain": [
       "['Bangalore/Bengaluru', 'Bangalore/Bengaluru']"
      ]
     },
     "execution_count": 111,
     "metadata": {},
     "output_type": "execute_result"
    }
   ],
   "source": [
    "for i in Location_lists:\n",
    "    Location_lint=i.text\n",
    "    Location_list.append(Location_lint)\n",
    "Location_list[0:2]"
   ]
  },
  {
   "cell_type": "code",
   "execution_count": 112,
   "id": "83f6a743",
   "metadata": {},
   "outputs": [],
   "source": [
    "Ll=Location_list[0:10]"
   ]
  },
  {
   "cell_type": "code",
   "execution_count": 113,
   "id": "89330af6",
   "metadata": {},
   "outputs": [
    {
     "data": {
      "text/plain": [
       "(10, 10, 10, 10)"
      ]
     },
     "execution_count": 113,
     "metadata": {},
     "output_type": "execute_result"
    }
   ],
   "source": [
    "len(Jl),len(Cl),len(El),len(Ll)"
   ]
  },
  {
   "cell_type": "code",
   "execution_count": 114,
   "id": "83848dd5",
   "metadata": {},
   "outputs": [],
   "source": [
    "jobs=pd.DataFrame({'title':Jl,'company':Cl,'Experience_required':El,'location':Ll})"
   ]
  },
  {
   "cell_type": "code",
   "execution_count": 115,
   "id": "dc9f71ea",
   "metadata": {},
   "outputs": [
    {
     "data": {
      "text/html": [
       "<div>\n",
       "<style scoped>\n",
       "    .dataframe tbody tr th:only-of-type {\n",
       "        vertical-align: middle;\n",
       "    }\n",
       "\n",
       "    .dataframe tbody tr th {\n",
       "        vertical-align: top;\n",
       "    }\n",
       "\n",
       "    .dataframe thead th {\n",
       "        text-align: right;\n",
       "    }\n",
       "</style>\n",
       "<table border=\"1\" class=\"dataframe\">\n",
       "  <thead>\n",
       "    <tr style=\"text-align: right;\">\n",
       "      <th></th>\n",
       "      <th>title</th>\n",
       "      <th>company</th>\n",
       "      <th>Experience_required</th>\n",
       "      <th>location</th>\n",
       "    </tr>\n",
       "  </thead>\n",
       "  <tbody>\n",
       "    <tr>\n",
       "      <th>0</th>\n",
       "      <td>Business Data Analyst</td>\n",
       "      <td>NXP Semiconductors</td>\n",
       "      <td>2-5 Yrs</td>\n",
       "      <td>Bangalore/Bengaluru</td>\n",
       "    </tr>\n",
       "    <tr>\n",
       "      <th>1</th>\n",
       "      <td>EY GDS Data Analyst-Finland based project</td>\n",
       "      <td>EY</td>\n",
       "      <td>0-1 Yrs</td>\n",
       "      <td>Bangalore/Bengaluru</td>\n",
       "    </tr>\n",
       "    <tr>\n",
       "      <th>2</th>\n",
       "      <td>Data Analyst - Data and Analytics</td>\n",
       "      <td>Intel</td>\n",
       "      <td>3-6 Yrs</td>\n",
       "      <td>Bangalore/Bengaluru</td>\n",
       "    </tr>\n",
       "    <tr>\n",
       "      <th>3</th>\n",
       "      <td>Data Analyst - Data and Analytics</td>\n",
       "      <td>Intel</td>\n",
       "      <td>3-6 Yrs</td>\n",
       "      <td>Bangalore/Bengaluru</td>\n",
       "    </tr>\n",
       "    <tr>\n",
       "      <th>4</th>\n",
       "      <td>Data Analyst (CSD)</td>\n",
       "      <td>Siemens</td>\n",
       "      <td>2-6 Yrs</td>\n",
       "      <td>Bangalore/Bengaluru</td>\n",
       "    </tr>\n",
       "    <tr>\n",
       "      <th>5</th>\n",
       "      <td>Data Analyst - Data Science, 3 To 5 Years</td>\n",
       "      <td>Rise Finconnect Private Limited</td>\n",
       "      <td>2-6 Yrs</td>\n",
       "      <td>Bangalore/Bengaluru</td>\n",
       "    </tr>\n",
       "    <tr>\n",
       "      <th>6</th>\n",
       "      <td>Data Analyst / Business Analyst</td>\n",
       "      <td>METRO Cash &amp; Carry</td>\n",
       "      <td>3-8 Yrs</td>\n",
       "      <td>Bangalore/Bengaluru</td>\n",
       "    </tr>\n",
       "    <tr>\n",
       "      <th>7</th>\n",
       "      <td>Data Analyst</td>\n",
       "      <td>Cigna TTK</td>\n",
       "      <td>2-4 Yrs</td>\n",
       "      <td>Bangalore/Bengaluru</td>\n",
       "    </tr>\n",
       "    <tr>\n",
       "      <th>8</th>\n",
       "      <td>SAS/SQL - Healthcare Data Analyst - Bangalore</td>\n",
       "      <td>Genpact</td>\n",
       "      <td>7-10 Yrs</td>\n",
       "      <td>Bangalore/Bengaluru</td>\n",
       "    </tr>\n",
       "    <tr>\n",
       "      <th>9</th>\n",
       "      <td>Business &amp; Data Analyst - Alteryx (London)</td>\n",
       "      <td>Imaginative Brains LLP</td>\n",
       "      <td>5-10 Yrs</td>\n",
       "      <td>Bangalore/Bengaluru, Delhi / NCR, Mumbai (All ...</td>\n",
       "    </tr>\n",
       "  </tbody>\n",
       "</table>\n",
       "</div>"
      ],
      "text/plain": [
       "                                           title  \\\n",
       "0                          Business Data Analyst   \n",
       "1      EY GDS Data Analyst-Finland based project   \n",
       "2              Data Analyst - Data and Analytics   \n",
       "3              Data Analyst - Data and Analytics   \n",
       "4                             Data Analyst (CSD)   \n",
       "5      Data Analyst - Data Science, 3 To 5 Years   \n",
       "6                Data Analyst / Business Analyst   \n",
       "7                                   Data Analyst   \n",
       "8  SAS/SQL - Healthcare Data Analyst - Bangalore   \n",
       "9     Business & Data Analyst - Alteryx (London)   \n",
       "\n",
       "                           company Experience_required  \\\n",
       "0               NXP Semiconductors             2-5 Yrs   \n",
       "1                               EY             0-1 Yrs   \n",
       "2                            Intel             3-6 Yrs   \n",
       "3                            Intel             3-6 Yrs   \n",
       "4                          Siemens             2-6 Yrs   \n",
       "5  Rise Finconnect Private Limited             2-6 Yrs   \n",
       "6               METRO Cash & Carry             3-8 Yrs   \n",
       "7                        Cigna TTK             2-4 Yrs   \n",
       "8                          Genpact            7-10 Yrs   \n",
       "9           Imaginative Brains LLP            5-10 Yrs   \n",
       "\n",
       "                                            location  \n",
       "0                                Bangalore/Bengaluru  \n",
       "1                                Bangalore/Bengaluru  \n",
       "2                                Bangalore/Bengaluru  \n",
       "3                                Bangalore/Bengaluru  \n",
       "4                                Bangalore/Bengaluru  \n",
       "5                                Bangalore/Bengaluru  \n",
       "6                                Bangalore/Bengaluru  \n",
       "7                                Bangalore/Bengaluru  \n",
       "8                                Bangalore/Bengaluru  \n",
       "9  Bangalore/Bengaluru, Delhi / NCR, Mumbai (All ...  "
      ]
     },
     "execution_count": 115,
     "metadata": {},
     "output_type": "execute_result"
    }
   ],
   "source": [
    "jobs"
   ]
  },
  {
   "cell_type": "markdown",
   "id": "7ead5128",
   "metadata": {},
   "source": [
    "Q4:Scrape data of first 100 sunglasses listings on flipkart.com. You have to scrape four attributes:\n",
    "1. Brand\n",
    "2. Product Description\n",
    "3. Price\n",
    "The attributes which you have to scrape is ticked marked in the below image.\n",
    "To scrape the data you have to go through following steps:\n",
    "1. Go to Flipkart webpage by url : https://www.flipkart.com/\n",
    "2. Enter “sunglasses” in the search field where “search for products, brands and more” is written and\n",
    "click the search icon\n",
    "3. After that you will reach to the page having a lot of sunglasses. From this page you can scrap the\n",
    "required data as usual.\n",
    "4. After scraping data from the first page, go to the “Next” Button at the bottom other page , then\n",
    "click on it.\n",
    "5. Now scrape data from this page as usual\n",
    "6. Repeat this until you get data for 100 sunglasses.\n",
    "Note: That all of the above steps have to be done by coding only and not manually."
   ]
  },
  {
   "cell_type": "code",
   "execution_count": 117,
   "id": "ab117ee5",
   "metadata": {},
   "outputs": [],
   "source": [
    "driver = webdriver.Chrome(r\"C:\\Users\\SSIM STUDENT\\Desktop\\job\\DA\\chromedriver.exe\")\n",
    "time.sleep(2)"
   ]
  },
  {
   "cell_type": "code",
   "execution_count": 118,
   "id": "5229af45",
   "metadata": {},
   "outputs": [],
   "source": [
    "driver.get('https://www.flipkart.com/')"
   ]
  },
  {
   "cell_type": "code",
   "execution_count": 119,
   "id": "022eae49",
   "metadata": {},
   "outputs": [],
   "source": [
    "button = driver.find_element_by_xpath('//button[@class=\"_2KpZ6l _2doB4z\"]')\n",
    "button.click()"
   ]
  },
  {
   "cell_type": "code",
   "execution_count": 120,
   "id": "58218729",
   "metadata": {},
   "outputs": [],
   "source": [
    "field_desi = driver.find_element_by_class_name(\"_3704LK\")\n",
    "field_desi.send_keys('SunGlasses')"
   ]
  },
  {
   "cell_type": "code",
   "execution_count": 121,
   "id": "2dc58bda",
   "metadata": {},
   "outputs": [],
   "source": [
    "button = driver.find_element_by_xpath(\"/html/body/div[1]/div/div[1]/div[1]/div[2]/div[2]/form/div/button\")\n",
    "button.click()"
   ]
  },
  {
   "cell_type": "code",
   "execution_count": 122,
   "id": "a08bd1f7",
   "metadata": {},
   "outputs": [
    {
     "data": {
      "text/plain": [
       "[<selenium.webdriver.remote.webelement.WebElement (session=\"6bc32d3211bebdffc68d6b4c2a050532\", element=\"158a66e4-6b5c-4e6d-bce2-33e7c5ce8bbb\")>,\n",
       " <selenium.webdriver.remote.webelement.WebElement (session=\"6bc32d3211bebdffc68d6b4c2a050532\", element=\"46556f80-720b-4cc5-ac6c-5c182b19c522\")>]"
      ]
     },
     "execution_count": 122,
     "metadata": {},
     "output_type": "execute_result"
    }
   ],
   "source": [
    "brand = driver.find_elements_by_class_name(\"_2WkVRV\")\n",
    "brand[0:2]"
   ]
  },
  {
   "cell_type": "code",
   "execution_count": 123,
   "id": "8a3ddecd",
   "metadata": {},
   "outputs": [],
   "source": [
    "brands=[]"
   ]
  },
  {
   "cell_type": "code",
   "execution_count": 124,
   "id": "b6732423",
   "metadata": {},
   "outputs": [],
   "source": [
    "for i in brand :\n",
    "    brands.append(i.text)"
   ]
  },
  {
   "cell_type": "code",
   "execution_count": 125,
   "id": "97afca8f",
   "metadata": {},
   "outputs": [],
   "source": [
    "button = driver.find_element_by_class_name(\"_1LKTO3\")\n",
    "button.click()\n",
    "time.sleep(5)"
   ]
  },
  {
   "cell_type": "code",
   "execution_count": 126,
   "id": "22ca7946",
   "metadata": {},
   "outputs": [
    {
     "data": {
      "text/plain": [
       "[<selenium.webdriver.remote.webelement.WebElement (session=\"6bc32d3211bebdffc68d6b4c2a050532\", element=\"f995c6f9-6382-40e1-953d-9219462739db\")>,\n",
       " <selenium.webdriver.remote.webelement.WebElement (session=\"6bc32d3211bebdffc68d6b4c2a050532\", element=\"8370083d-6f88-43a8-b972-f4eded73003a\")>]"
      ]
     },
     "execution_count": 126,
     "metadata": {},
     "output_type": "execute_result"
    }
   ],
   "source": [
    "brand = driver.find_elements_by_class_name(\"_2WkVRV\")\n",
    "brand[0:2]"
   ]
  },
  {
   "cell_type": "code",
   "execution_count": 127,
   "id": "4830f0a9",
   "metadata": {},
   "outputs": [
    {
     "data": {
      "text/plain": [
       "['CRYSTAL CART', 'ROZZETTA CRAFT']"
      ]
     },
     "execution_count": 127,
     "metadata": {},
     "output_type": "execute_result"
    }
   ],
   "source": [
    "for i in brand :\n",
    "    brands.append(i.text)\n",
    "brands[0:2]"
   ]
  },
  {
   "cell_type": "code",
   "execution_count": 128,
   "id": "a7589b8c",
   "metadata": {},
   "outputs": [],
   "source": [
    "button = driver.find_element_by_class_name(\"_1LKTO3\")\n",
    "button.click()\n",
    "time.sleep(5)"
   ]
  },
  {
   "cell_type": "code",
   "execution_count": 129,
   "id": "f8c1a8b0",
   "metadata": {},
   "outputs": [
    {
     "data": {
      "text/plain": [
       "[<selenium.webdriver.remote.webelement.WebElement (session=\"6bc32d3211bebdffc68d6b4c2a050532\", element=\"a781017e-212e-45b1-9ba2-16f88479d264\")>,\n",
       " <selenium.webdriver.remote.webelement.WebElement (session=\"6bc32d3211bebdffc68d6b4c2a050532\", element=\"2b8237e9-1057-49fe-95f3-39147a1079ac\")>]"
      ]
     },
     "execution_count": 129,
     "metadata": {},
     "output_type": "execute_result"
    }
   ],
   "source": [
    "brand = driver.find_elements_by_class_name(\"_2WkVRV\")\n",
    "brand[0:2]"
   ]
  },
  {
   "cell_type": "code",
   "execution_count": 130,
   "id": "64a7b1f4",
   "metadata": {},
   "outputs": [
    {
     "data": {
      "text/plain": [
       "['CRYSTAL CART', 'ROZZETTA CRAFT']"
      ]
     },
     "execution_count": 130,
     "metadata": {},
     "output_type": "execute_result"
    }
   ],
   "source": [
    "for i in brand :\n",
    "    brands.append(i.text)\n",
    "brands[0:2]"
   ]
  },
  {
   "cell_type": "code",
   "execution_count": 131,
   "id": "f91b0864",
   "metadata": {},
   "outputs": [
    {
     "data": {
      "text/plain": [
       "120"
      ]
     },
     "execution_count": 131,
     "metadata": {},
     "output_type": "execute_result"
    }
   ],
   "source": [
    "len(brands)"
   ]
  },
  {
   "cell_type": "code",
   "execution_count": 132,
   "id": "b0677eab",
   "metadata": {},
   "outputs": [
    {
     "data": {
      "text/plain": [
       "[<selenium.webdriver.remote.webelement.WebElement (session=\"6bc32d3211bebdffc68d6b4c2a050532\", element=\"664fb331-b4a8-4ccc-9316-1a55cdcfd325\")>,\n",
       " <selenium.webdriver.remote.webelement.WebElement (session=\"6bc32d3211bebdffc68d6b4c2a050532\", element=\"f459a711-f04c-428d-b435-058c00d71c32\")>]"
      ]
     },
     "execution_count": 132,
     "metadata": {},
     "output_type": "execute_result"
    }
   ],
   "source": [
    "des = driver.find_elements_by_class_name(\"IRpwTa\")\n",
    "des[0:2]"
   ]
  },
  {
   "cell_type": "code",
   "execution_count": 133,
   "id": "cb225929",
   "metadata": {},
   "outputs": [
    {
     "data": {
      "text/plain": [
       "['UV Protection, Gradient Round Sunglasses (Free Size)',\n",
       " 'UV Protection Spectacle Sunglasses (Free Size)']"
      ]
     },
     "execution_count": 133,
     "metadata": {},
     "output_type": "execute_result"
    }
   ],
   "source": [
    "product=[]\n",
    "for i in des :\n",
    "    product.append(i.text)\n",
    "product[0:2]"
   ]
  },
  {
   "cell_type": "code",
   "execution_count": 134,
   "id": "56d9b23e",
   "metadata": {},
   "outputs": [
    {
     "data": {
      "text/plain": [
       "40"
      ]
     },
     "execution_count": 134,
     "metadata": {},
     "output_type": "execute_result"
    }
   ],
   "source": [
    "len(product)"
   ]
  },
  {
   "cell_type": "code",
   "execution_count": 135,
   "id": "c721ba32",
   "metadata": {},
   "outputs": [],
   "source": [
    "button = driver.find_element_by_class_name(\"_1LKTO3\")\n",
    "button.click()\n",
    "time.sleep(5)"
   ]
  },
  {
   "cell_type": "code",
   "execution_count": 136,
   "id": "14e736b9",
   "metadata": {},
   "outputs": [
    {
     "data": {
      "text/plain": [
       "[<selenium.webdriver.remote.webelement.WebElement (session=\"6bc32d3211bebdffc68d6b4c2a050532\", element=\"efcba884-e6cf-40b6-ae1d-6b70e9f7fb02\")>,\n",
       " <selenium.webdriver.remote.webelement.WebElement (session=\"6bc32d3211bebdffc68d6b4c2a050532\", element=\"b9943f51-a88f-4fca-8462-ef8c959a7e39\")>]"
      ]
     },
     "execution_count": 136,
     "metadata": {},
     "output_type": "execute_result"
    }
   ],
   "source": [
    "des = driver.find_elements_by_class_name(\"IRpwTa\")\n",
    "des[0:2]"
   ]
  },
  {
   "cell_type": "code",
   "execution_count": 137,
   "id": "44335846",
   "metadata": {},
   "outputs": [
    {
     "data": {
      "text/plain": [
       "['UV Protection, Gradient Round Sunglasses (Free Size)',\n",
       " 'UV Protection Spectacle Sunglasses (Free Size)']"
      ]
     },
     "execution_count": 137,
     "metadata": {},
     "output_type": "execute_result"
    }
   ],
   "source": [
    "for i in des :\n",
    "    product.append(i.text)\n",
    "product[0:2]"
   ]
  },
  {
   "cell_type": "code",
   "execution_count": 138,
   "id": "12c64a68",
   "metadata": {},
   "outputs": [
    {
     "data": {
      "text/plain": [
       "80"
      ]
     },
     "execution_count": 138,
     "metadata": {},
     "output_type": "execute_result"
    }
   ],
   "source": [
    "len(product)"
   ]
  },
  {
   "cell_type": "code",
   "execution_count": 139,
   "id": "1a3c2cdc",
   "metadata": {},
   "outputs": [],
   "source": [
    "button = driver.find_element_by_class_name(\"_1LKTO3\")\n",
    "button.click()\n",
    "time.sleep(5)"
   ]
  },
  {
   "cell_type": "code",
   "execution_count": 140,
   "id": "9f74bd3a",
   "metadata": {},
   "outputs": [
    {
     "data": {
      "text/plain": [
       "[<selenium.webdriver.remote.webelement.WebElement (session=\"6bc32d3211bebdffc68d6b4c2a050532\", element=\"25398f92-c694-4439-932d-fd4689bccb28\")>,\n",
       " <selenium.webdriver.remote.webelement.WebElement (session=\"6bc32d3211bebdffc68d6b4c2a050532\", element=\"73a83383-e2cb-47c3-ad40-4ef5e822007e\")>]"
      ]
     },
     "execution_count": 140,
     "metadata": {},
     "output_type": "execute_result"
    }
   ],
   "source": [
    "des = driver.find_elements_by_class_name(\"IRpwTa\")\n",
    "des[0:2]"
   ]
  },
  {
   "cell_type": "code",
   "execution_count": 141,
   "id": "96049117",
   "metadata": {},
   "outputs": [
    {
     "data": {
      "text/plain": [
       "['UV Protection, Gradient Round Sunglasses (Free Size)',\n",
       " 'UV Protection Spectacle Sunglasses (Free Size)']"
      ]
     },
     "execution_count": 141,
     "metadata": {},
     "output_type": "execute_result"
    }
   ],
   "source": [
    "for i in des :\n",
    "    product.append(i.text)\n",
    "product[0:2]"
   ]
  },
  {
   "cell_type": "code",
   "execution_count": 142,
   "id": "a55a6f96",
   "metadata": {},
   "outputs": [
    {
     "data": {
      "text/plain": [
       "120"
      ]
     },
     "execution_count": 142,
     "metadata": {},
     "output_type": "execute_result"
    }
   ],
   "source": [
    "len(product)"
   ]
  },
  {
   "cell_type": "code",
   "execution_count": 143,
   "id": "c8ad54e6",
   "metadata": {},
   "outputs": [
    {
     "data": {
      "text/plain": [
       "[<selenium.webdriver.remote.webelement.WebElement (session=\"6bc32d3211bebdffc68d6b4c2a050532\", element=\"faac4908-bd01-49e7-b05d-88bc410ea776\")>,\n",
       " <selenium.webdriver.remote.webelement.WebElement (session=\"6bc32d3211bebdffc68d6b4c2a050532\", element=\"defa7f8a-4989-4eee-b7cb-fc258295ad1e\")>]"
      ]
     },
     "execution_count": 143,
     "metadata": {},
     "output_type": "execute_result"
    }
   ],
   "source": [
    "pri =  driver.find_elements_by_class_name(\"_3bPFwb\")\n",
    "pri[0:2]"
   ]
  },
  {
   "cell_type": "code",
   "execution_count": 144,
   "id": "621bff3c",
   "metadata": {},
   "outputs": [
    {
     "data": {
      "text/plain": [
       "['₹398₹1,99980% off\\nFree delivery', '₹359₹1,99982% off\\nFree delivery']"
      ]
     },
     "execution_count": 144,
     "metadata": {},
     "output_type": "execute_result"
    }
   ],
   "source": [
    "price=[]\n",
    "for i in pri:\n",
    "    price.append(i.text)\n",
    "price[0:2]"
   ]
  },
  {
   "cell_type": "code",
   "execution_count": 145,
   "id": "c109db7e",
   "metadata": {},
   "outputs": [
    {
     "data": {
      "text/plain": [
       "[<selenium.webdriver.remote.webelement.WebElement (session=\"6bc32d3211bebdffc68d6b4c2a050532\", element=\"faac4908-bd01-49e7-b05d-88bc410ea776\")>,\n",
       " <selenium.webdriver.remote.webelement.WebElement (session=\"6bc32d3211bebdffc68d6b4c2a050532\", element=\"defa7f8a-4989-4eee-b7cb-fc258295ad1e\")>]"
      ]
     },
     "execution_count": 145,
     "metadata": {},
     "output_type": "execute_result"
    }
   ],
   "source": [
    "pr =  driver.find_elements_by_class_name(\"_3bPFwb\")\n",
    "pr[0:2]"
   ]
  },
  {
   "cell_type": "code",
   "execution_count": 146,
   "id": "672fdb1d",
   "metadata": {},
   "outputs": [
    {
     "data": {
      "text/plain": [
       "['  /-398  /-1,99980%', '  /-359  /-1,99982%']"
      ]
     },
     "execution_count": 146,
     "metadata": {},
     "output_type": "execute_result"
    }
   ],
   "source": [
    "price=[]\n",
    "for i in pri:\n",
    "    price.append(i.text.split()[0].replace('₹','  /-'))\n",
    "price [0:2]"
   ]
  },
  {
   "cell_type": "code",
   "execution_count": 147,
   "id": "f74823e1",
   "metadata": {},
   "outputs": [
    {
     "data": {
      "text/plain": [
       "40"
      ]
     },
     "execution_count": 147,
     "metadata": {},
     "output_type": "execute_result"
    }
   ],
   "source": [
    "len(price)"
   ]
  },
  {
   "cell_type": "code",
   "execution_count": 148,
   "id": "2154650c",
   "metadata": {},
   "outputs": [
    {
     "data": {
      "text/plain": [
       "[<selenium.webdriver.remote.webelement.WebElement (session=\"6bc32d3211bebdffc68d6b4c2a050532\", element=\"f7084f7d-07bf-4e04-a32e-842a10ec159c\")>,\n",
       " <selenium.webdriver.remote.webelement.WebElement (session=\"6bc32d3211bebdffc68d6b4c2a050532\", element=\"0d78f465-38bd-49bf-8b79-5a9fc83aa7cc\")>]"
      ]
     },
     "execution_count": 148,
     "metadata": {},
     "output_type": "execute_result"
    }
   ],
   "source": [
    "button = driver.find_element_by_class_name(\"_1LKTO3\")\n",
    "button.click()\n",
    "time.sleep(5)\n",
    "pri =  driver.find_elements_by_class_name(\"_3bPFwb\")\n",
    "pri[0:2]"
   ]
  },
  {
   "cell_type": "code",
   "execution_count": 149,
   "id": "472d03e3",
   "metadata": {},
   "outputs": [
    {
     "data": {
      "text/plain": [
       "['  /-398  /-1,99980%', '  /-359  /-1,99982%']"
      ]
     },
     "execution_count": 149,
     "metadata": {},
     "output_type": "execute_result"
    }
   ],
   "source": [
    "for i in pri:\n",
    "    price.append(i.text.split()[0].replace('₹','  /-'))\n",
    "price[0:2]"
   ]
  },
  {
   "cell_type": "code",
   "execution_count": 150,
   "id": "09d063e6",
   "metadata": {},
   "outputs": [
    {
     "data": {
      "text/plain": [
       "[<selenium.webdriver.remote.webelement.WebElement (session=\"6bc32d3211bebdffc68d6b4c2a050532\", element=\"8438add7-76db-4a6c-b4bd-ae23fa7d2a7d\")>,\n",
       " <selenium.webdriver.remote.webelement.WebElement (session=\"6bc32d3211bebdffc68d6b4c2a050532\", element=\"5afe5902-85c3-4986-ad3a-24196ea10f45\")>]"
      ]
     },
     "execution_count": 150,
     "metadata": {},
     "output_type": "execute_result"
    }
   ],
   "source": [
    "button = driver.find_element_by_class_name(\"_1LKTO3\")\n",
    "button.click()\n",
    "time.sleep(5)\n",
    "pri =  driver.find_elements_by_class_name(\"_3bPFwb\")\n",
    "pri[0:2]"
   ]
  },
  {
   "cell_type": "code",
   "execution_count": 151,
   "id": "97abac26",
   "metadata": {},
   "outputs": [
    {
     "data": {
      "text/plain": [
       "['  /-398  /-1,99980%', '  /-359  /-1,99982%']"
      ]
     },
     "execution_count": 151,
     "metadata": {},
     "output_type": "execute_result"
    }
   ],
   "source": [
    "for i in pri:\n",
    "    price.append(i.text.split()[0].replace('₹','  /-'))\n",
    "price[0:2]"
   ]
  },
  {
   "cell_type": "code",
   "execution_count": 152,
   "id": "7a9ba8af",
   "metadata": {},
   "outputs": [
    {
     "data": {
      "text/plain": [
       "120"
      ]
     },
     "execution_count": 152,
     "metadata": {},
     "output_type": "execute_result"
    }
   ],
   "source": [
    "len(price)"
   ]
  },
  {
   "cell_type": "code",
   "execution_count": 153,
   "id": "7e065c84",
   "metadata": {},
   "outputs": [],
   "source": [
    "Pr=price[0:100]"
   ]
  },
  {
   "cell_type": "code",
   "execution_count": 154,
   "id": "990462da",
   "metadata": {},
   "outputs": [
    {
     "data": {
      "text/plain": [
       "100"
      ]
     },
     "execution_count": 154,
     "metadata": {},
     "output_type": "execute_result"
    }
   ],
   "source": [
    "len(Pr)"
   ]
  },
  {
   "cell_type": "code",
   "execution_count": 155,
   "id": "dad798fc",
   "metadata": {},
   "outputs": [],
   "source": [
    "Pd=product[0:100]"
   ]
  },
  {
   "cell_type": "code",
   "execution_count": 156,
   "id": "03187bfb",
   "metadata": {},
   "outputs": [],
   "source": [
    "Br=brands[0:100]"
   ]
  },
  {
   "cell_type": "code",
   "execution_count": 157,
   "id": "1e1c3338",
   "metadata": {},
   "outputs": [
    {
     "data": {
      "text/plain": [
       "(100, 100, 100)"
      ]
     },
     "execution_count": 157,
     "metadata": {},
     "output_type": "execute_result"
    }
   ],
   "source": [
    "len(Pr),len(Pd),len(Br)"
   ]
  },
  {
   "cell_type": "code",
   "execution_count": 158,
   "id": "3cba0dd1",
   "metadata": {},
   "outputs": [
    {
     "data": {
      "text/html": [
       "<div>\n",
       "<style scoped>\n",
       "    .dataframe tbody tr th:only-of-type {\n",
       "        vertical-align: middle;\n",
       "    }\n",
       "\n",
       "    .dataframe tbody tr th {\n",
       "        vertical-align: top;\n",
       "    }\n",
       "\n",
       "    .dataframe thead th {\n",
       "        text-align: right;\n",
       "    }\n",
       "</style>\n",
       "<table border=\"1\" class=\"dataframe\">\n",
       "  <thead>\n",
       "    <tr style=\"text-align: right;\">\n",
       "      <th></th>\n",
       "      <th>Brand</th>\n",
       "      <th>ProductDescription</th>\n",
       "      <th>Cost</th>\n",
       "    </tr>\n",
       "  </thead>\n",
       "  <tbody>\n",
       "    <tr>\n",
       "      <th>0</th>\n",
       "      <td>CRYSTAL CART</td>\n",
       "      <td>UV Protection, Gradient Round Sunglasses (Free...</td>\n",
       "      <td>/-398  /-1,99980%</td>\n",
       "    </tr>\n",
       "    <tr>\n",
       "      <th>1</th>\n",
       "      <td>ROZZETTA CRAFT</td>\n",
       "      <td>UV Protection Spectacle Sunglasses (Free Size)</td>\n",
       "      <td>/-359  /-1,99982%</td>\n",
       "    </tr>\n",
       "    <tr>\n",
       "      <th>2</th>\n",
       "      <td>Mi</td>\n",
       "      <td>Polarized Aviator Sunglasses (Free Size)</td>\n",
       "      <td>/-649  /-1,19945%</td>\n",
       "    </tr>\n",
       "    <tr>\n",
       "      <th>3</th>\n",
       "      <td>Mi</td>\n",
       "      <td>Polarized Aviator Sunglasses (Free Size)</td>\n",
       "      <td>/-649  /-1,19945%</td>\n",
       "    </tr>\n",
       "    <tr>\n",
       "      <th>4</th>\n",
       "      <td>SRPM</td>\n",
       "      <td>UV Protection Wayfarer Sunglasses (50)</td>\n",
       "      <td>/-199  /-1,29984%</td>\n",
       "    </tr>\n",
       "    <tr>\n",
       "      <th>...</th>\n",
       "      <td>...</td>\n",
       "      <td>...</td>\n",
       "      <td>...</td>\n",
       "    </tr>\n",
       "    <tr>\n",
       "      <th>95</th>\n",
       "      <td>AISLIN</td>\n",
       "      <td>UV Protection, Gradient Round, Cat-eye Sunglas...</td>\n",
       "      <td>/-415  /-1,70075%</td>\n",
       "    </tr>\n",
       "    <tr>\n",
       "      <th>96</th>\n",
       "      <td>ROZZETTA CRAFT</td>\n",
       "      <td>Polarized, Riding Glasses Sports, Wrap-around ...</td>\n",
       "      <td>/-449  /-1,99977%</td>\n",
       "    </tr>\n",
       "    <tr>\n",
       "      <th>97</th>\n",
       "      <td>Mi</td>\n",
       "      <td>Polarized Wayfarer Sunglasses (Free Size)</td>\n",
       "      <td>/-599  /-99940%</td>\n",
       "    </tr>\n",
       "    <tr>\n",
       "      <th>98</th>\n",
       "      <td>New Specs</td>\n",
       "      <td>UV Protection Rectangular Sunglasses (Free Size)</td>\n",
       "      <td>/-264  /-2,59989%</td>\n",
       "    </tr>\n",
       "    <tr>\n",
       "      <th>99</th>\n",
       "      <td>CRYSTAL CART</td>\n",
       "      <td>Polarized, UV Protection Retro Square Sunglass...</td>\n",
       "      <td>/-616  /-1,99969%</td>\n",
       "    </tr>\n",
       "  </tbody>\n",
       "</table>\n",
       "<p>100 rows × 3 columns</p>\n",
       "</div>"
      ],
      "text/plain": [
       "             Brand                                 ProductDescription  \\\n",
       "0     CRYSTAL CART  UV Protection, Gradient Round Sunglasses (Free...   \n",
       "1   ROZZETTA CRAFT     UV Protection Spectacle Sunglasses (Free Size)   \n",
       "2               Mi           Polarized Aviator Sunglasses (Free Size)   \n",
       "3               Mi           Polarized Aviator Sunglasses (Free Size)   \n",
       "4             SRPM             UV Protection Wayfarer Sunglasses (50)   \n",
       "..             ...                                                ...   \n",
       "95          AISLIN  UV Protection, Gradient Round, Cat-eye Sunglas...   \n",
       "96  ROZZETTA CRAFT  Polarized, Riding Glasses Sports, Wrap-around ...   \n",
       "97              Mi          Polarized Wayfarer Sunglasses (Free Size)   \n",
       "98       New Specs   UV Protection Rectangular Sunglasses (Free Size)   \n",
       "99    CRYSTAL CART  Polarized, UV Protection Retro Square Sunglass...   \n",
       "\n",
       "                   Cost  \n",
       "0     /-398  /-1,99980%  \n",
       "1     /-359  /-1,99982%  \n",
       "2     /-649  /-1,19945%  \n",
       "3     /-649  /-1,19945%  \n",
       "4     /-199  /-1,29984%  \n",
       "..                  ...  \n",
       "95    /-415  /-1,70075%  \n",
       "96    /-449  /-1,99977%  \n",
       "97      /-599  /-99940%  \n",
       "98    /-264  /-2,59989%  \n",
       "99    /-616  /-1,99969%  \n",
       "\n",
       "[100 rows x 3 columns]"
      ]
     },
     "execution_count": 158,
     "metadata": {},
     "output_type": "execute_result"
    }
   ],
   "source": [
    "Sunglass=pd.DataFrame({'Brand':Br,'ProductDescription':Pd,'Cost':Pr})\n",
    "Sunglass"
   ]
  },
  {
   "cell_type": "markdown",
   "id": "8f8ca9d0",
   "metadata": {},
   "source": [
    "Q5: Scrape 100 reviews data from flipkart.com for iphone11 phone. This task will be done in following steps:\n",
    "\n",
    "First get the webpage https://www.flipkart.com/\n",
    "Enter “iphone 11” in “Search” field .\n",
    "Then click the search button. You will reach to the below shown webpage . As shown in the above page you have to scrape the tick marked attributes.These are:\n",
    "Rating\n",
    "Review summary\n",
    "Full review\n",
    "You have to scrape this data for first 100 reviews."
   ]
  },
  {
   "cell_type": "code",
   "execution_count": 159,
   "id": "8f416e97",
   "metadata": {},
   "outputs": [],
   "source": [
    "driver = webdriver.Chrome(r\"C:\\Users\\SSIM STUDENT\\Desktop\\job\\DA\\chromedriver.exe\")\n",
    "time.sleep(2)\n",
    "driver.get('https://www.flipkart.com/')\n",
    "time.sleep(7)"
   ]
  },
  {
   "cell_type": "code",
   "execution_count": 160,
   "id": "f31851e9",
   "metadata": {},
   "outputs": [],
   "source": [
    "button = driver.find_element_by_xpath(\"/html/body/div[2]/div/div/button\")\n",
    "button.click()\n",
    "time.sleep(3)"
   ]
  },
  {
   "cell_type": "code",
   "execution_count": 161,
   "id": "3636ca6b",
   "metadata": {},
   "outputs": [],
   "source": [
    "search = driver.find_element_by_class_name('_3704LK')\n",
    "search.send_keys('iphone 11')"
   ]
  },
  {
   "cell_type": "code",
   "execution_count": 162,
   "id": "24baccff",
   "metadata": {},
   "outputs": [],
   "source": [
    "button = driver.find_element_by_class_name(\"L0Z3Pu\")\n",
    "button.click()"
   ]
  },
  {
   "cell_type": "code",
   "execution_count": 163,
   "id": "3fcbabfb",
   "metadata": {},
   "outputs": [],
   "source": [
    "Rating = []\n",
    "Reiviewsumm = []\n",
    "FullReiview = []"
   ]
  },
  {
   "cell_type": "code",
   "execution_count": 164,
   "id": "ff801be8",
   "metadata": {},
   "outputs": [
    {
     "data": {
      "text/plain": [
       "[<selenium.webdriver.remote.webelement.WebElement (session=\"295200e1a97c304afee8f373a0a5bed4\", element=\"165bf141-a950-48c6-bd1b-7aa7801c46ac\")>,\n",
       " <selenium.webdriver.remote.webelement.WebElement (session=\"295200e1a97c304afee8f373a0a5bed4\", element=\"c0f4504e-d257-4039-aa27-ea869a34f62c\")>]"
      ]
     },
     "execution_count": 164,
     "metadata": {},
     "output_type": "execute_result"
    }
   ],
   "source": [
    "ra =  driver.find_elements_by_class_name(\"_3LWZlK\")\n",
    "ra[0:2]"
   ]
  },
  {
   "cell_type": "code",
   "execution_count": 165,
   "id": "0a8e3cee",
   "metadata": {},
   "outputs": [
    {
     "data": {
      "text/plain": [
       "['4.6', '4.6']"
      ]
     },
     "execution_count": 165,
     "metadata": {},
     "output_type": "execute_result"
    }
   ],
   "source": [
    "for i in ra:\n",
    "    Rating.append(i.text)\n",
    "Rating[0:2]"
   ]
  },
  {
   "cell_type": "code",
   "execution_count": 166,
   "id": "44a41f08",
   "metadata": {},
   "outputs": [
    {
     "data": {
      "text/plain": [
       "24"
      ]
     },
     "execution_count": 166,
     "metadata": {},
     "output_type": "execute_result"
    }
   ],
   "source": [
    "len(Rating)"
   ]
  },
  {
   "cell_type": "code",
   "execution_count": 167,
   "id": "1c832dba",
   "metadata": {},
   "outputs": [
    {
     "data": {
      "text/plain": [
       "[<selenium.webdriver.remote.webelement.WebElement (session=\"295200e1a97c304afee8f373a0a5bed4\", element=\"60df2262-d674-49cd-b8de-a3f3fffe1ef8\")>,\n",
       " <selenium.webdriver.remote.webelement.WebElement (session=\"295200e1a97c304afee8f373a0a5bed4\", element=\"2a2c31c7-25f7-471c-8252-3c0237df0779\")>]"
      ]
     },
     "execution_count": 167,
     "metadata": {},
     "output_type": "execute_result"
    }
   ],
   "source": [
    "rs = driver.find_elements_by_class_name('_2_R_DZ')\n",
    "rs[0:2]"
   ]
  },
  {
   "cell_type": "code",
   "execution_count": 168,
   "id": "b9ccaa20",
   "metadata": {},
   "outputs": [
    {
     "data": {
      "text/plain": [
       "['85,796 Ratings & 6,483 Reviews', '85,796 Ratings & 6,483 Reviews']"
      ]
     },
     "execution_count": 168,
     "metadata": {},
     "output_type": "execute_result"
    }
   ],
   "source": [
    "for i in rs:\n",
    "    Reiviewsumm.append(i.text)\n",
    "Reiviewsumm[0:2]"
   ]
  },
  {
   "cell_type": "code",
   "execution_count": 169,
   "id": "819870dd",
   "metadata": {},
   "outputs": [
    {
     "data": {
      "text/plain": [
       "24"
      ]
     },
     "execution_count": 169,
     "metadata": {},
     "output_type": "execute_result"
    }
   ],
   "source": [
    "len(Reiviewsumm)"
   ]
  },
  {
   "cell_type": "code",
   "execution_count": 172,
   "id": "22d01b2b",
   "metadata": {},
   "outputs": [],
   "source": [
    "button = driver.find_element_by_class_name(\"_2_R_DZ\")\n",
    "button.click()"
   ]
  },
  {
   "cell_type": "code",
   "execution_count": 171,
   "id": "ad224c00",
   "metadata": {},
   "outputs": [
    {
     "ename": "NoSuchElementException",
     "evalue": "Message: no such element: Unable to locate element: {\"method\":\"xpath\",\"selector\":\"/html/body/div[1]/div/div[3]/div[1]/div[2]/div[9]/div[6]/div/a/div\"}\n  (Session info: chrome=102.0.5005.115)\n",
     "output_type": "error",
     "traceback": [
      "\u001b[1;31m---------------------------------------------------------------------------\u001b[0m",
      "\u001b[1;31mNoSuchElementException\u001b[0m                    Traceback (most recent call last)",
      "\u001b[1;32mC:\\Users\\SSIMST~1\\AppData\\Local\\Temp/ipykernel_9724/1366366114.py\u001b[0m in \u001b[0;36m<module>\u001b[1;34m\u001b[0m\n\u001b[1;32m----> 1\u001b[1;33m \u001b[0mbutton\u001b[0m \u001b[1;33m=\u001b[0m \u001b[0mdriver\u001b[0m\u001b[1;33m.\u001b[0m\u001b[0mfind_element_by_xpath\u001b[0m\u001b[1;33m(\u001b[0m\u001b[1;34m\"/html/body/div[1]/div/div[3]/div[1]/div[2]/div[9]/div[6]/div/a/div\"\u001b[0m\u001b[1;33m)\u001b[0m\u001b[1;33m\u001b[0m\u001b[1;33m\u001b[0m\u001b[0m\n\u001b[0m\u001b[0;32m      2\u001b[0m \u001b[0mbutton\u001b[0m\u001b[1;33m.\u001b[0m\u001b[0mclick\u001b[0m\u001b[1;33m(\u001b[0m\u001b[1;33m)\u001b[0m\u001b[1;33m\u001b[0m\u001b[1;33m\u001b[0m\u001b[0m\n",
      "\u001b[1;32mC:\\Anaconda\\lib\\site-packages\\selenium\\webdriver\\remote\\webdriver.py\u001b[0m in \u001b[0;36mfind_element_by_xpath\u001b[1;34m(self, xpath)\u001b[0m\n\u001b[0;32m    392\u001b[0m             \u001b[0melement\u001b[0m \u001b[1;33m=\u001b[0m \u001b[0mdriver\u001b[0m\u001b[1;33m.\u001b[0m\u001b[0mfind_element_by_xpath\u001b[0m\u001b[1;33m(\u001b[0m\u001b[1;34m'//div/td[1]'\u001b[0m\u001b[1;33m)\u001b[0m\u001b[1;33m\u001b[0m\u001b[1;33m\u001b[0m\u001b[0m\n\u001b[0;32m    393\u001b[0m         \"\"\"\n\u001b[1;32m--> 394\u001b[1;33m         \u001b[1;32mreturn\u001b[0m \u001b[0mself\u001b[0m\u001b[1;33m.\u001b[0m\u001b[0mfind_element\u001b[0m\u001b[1;33m(\u001b[0m\u001b[0mby\u001b[0m\u001b[1;33m=\u001b[0m\u001b[0mBy\u001b[0m\u001b[1;33m.\u001b[0m\u001b[0mXPATH\u001b[0m\u001b[1;33m,\u001b[0m \u001b[0mvalue\u001b[0m\u001b[1;33m=\u001b[0m\u001b[0mxpath\u001b[0m\u001b[1;33m)\u001b[0m\u001b[1;33m\u001b[0m\u001b[1;33m\u001b[0m\u001b[0m\n\u001b[0m\u001b[0;32m    395\u001b[0m \u001b[1;33m\u001b[0m\u001b[0m\n\u001b[0;32m    396\u001b[0m     \u001b[1;32mdef\u001b[0m \u001b[0mfind_elements_by_xpath\u001b[0m\u001b[1;33m(\u001b[0m\u001b[0mself\u001b[0m\u001b[1;33m,\u001b[0m \u001b[0mxpath\u001b[0m\u001b[1;33m)\u001b[0m\u001b[1;33m:\u001b[0m\u001b[1;33m\u001b[0m\u001b[1;33m\u001b[0m\u001b[0m\n",
      "\u001b[1;32mC:\\Anaconda\\lib\\site-packages\\selenium\\webdriver\\remote\\webdriver.py\u001b[0m in \u001b[0;36mfind_element\u001b[1;34m(self, by, value)\u001b[0m\n\u001b[0;32m    974\u001b[0m                 \u001b[0mby\u001b[0m \u001b[1;33m=\u001b[0m \u001b[0mBy\u001b[0m\u001b[1;33m.\u001b[0m\u001b[0mCSS_SELECTOR\u001b[0m\u001b[1;33m\u001b[0m\u001b[1;33m\u001b[0m\u001b[0m\n\u001b[0;32m    975\u001b[0m                 \u001b[0mvalue\u001b[0m \u001b[1;33m=\u001b[0m \u001b[1;34m'[name=\"%s\"]'\u001b[0m \u001b[1;33m%\u001b[0m \u001b[0mvalue\u001b[0m\u001b[1;33m\u001b[0m\u001b[1;33m\u001b[0m\u001b[0m\n\u001b[1;32m--> 976\u001b[1;33m         return self.execute(Command.FIND_ELEMENT, {\n\u001b[0m\u001b[0;32m    977\u001b[0m             \u001b[1;34m'using'\u001b[0m\u001b[1;33m:\u001b[0m \u001b[0mby\u001b[0m\u001b[1;33m,\u001b[0m\u001b[1;33m\u001b[0m\u001b[1;33m\u001b[0m\u001b[0m\n\u001b[0;32m    978\u001b[0m             'value': value})['value']\n",
      "\u001b[1;32mC:\\Anaconda\\lib\\site-packages\\selenium\\webdriver\\remote\\webdriver.py\u001b[0m in \u001b[0;36mexecute\u001b[1;34m(self, driver_command, params)\u001b[0m\n\u001b[0;32m    319\u001b[0m         \u001b[0mresponse\u001b[0m \u001b[1;33m=\u001b[0m \u001b[0mself\u001b[0m\u001b[1;33m.\u001b[0m\u001b[0mcommand_executor\u001b[0m\u001b[1;33m.\u001b[0m\u001b[0mexecute\u001b[0m\u001b[1;33m(\u001b[0m\u001b[0mdriver_command\u001b[0m\u001b[1;33m,\u001b[0m \u001b[0mparams\u001b[0m\u001b[1;33m)\u001b[0m\u001b[1;33m\u001b[0m\u001b[1;33m\u001b[0m\u001b[0m\n\u001b[0;32m    320\u001b[0m         \u001b[1;32mif\u001b[0m \u001b[0mresponse\u001b[0m\u001b[1;33m:\u001b[0m\u001b[1;33m\u001b[0m\u001b[1;33m\u001b[0m\u001b[0m\n\u001b[1;32m--> 321\u001b[1;33m             \u001b[0mself\u001b[0m\u001b[1;33m.\u001b[0m\u001b[0merror_handler\u001b[0m\u001b[1;33m.\u001b[0m\u001b[0mcheck_response\u001b[0m\u001b[1;33m(\u001b[0m\u001b[0mresponse\u001b[0m\u001b[1;33m)\u001b[0m\u001b[1;33m\u001b[0m\u001b[1;33m\u001b[0m\u001b[0m\n\u001b[0m\u001b[0;32m    322\u001b[0m             response['value'] = self._unwrap_value(\n\u001b[0;32m    323\u001b[0m                 response.get('value', None))\n",
      "\u001b[1;32mC:\\Anaconda\\lib\\site-packages\\selenium\\webdriver\\remote\\errorhandler.py\u001b[0m in \u001b[0;36mcheck_response\u001b[1;34m(self, response)\u001b[0m\n\u001b[0;32m    240\u001b[0m                 \u001b[0malert_text\u001b[0m \u001b[1;33m=\u001b[0m \u001b[0mvalue\u001b[0m\u001b[1;33m[\u001b[0m\u001b[1;34m'alert'\u001b[0m\u001b[1;33m]\u001b[0m\u001b[1;33m.\u001b[0m\u001b[0mget\u001b[0m\u001b[1;33m(\u001b[0m\u001b[1;34m'text'\u001b[0m\u001b[1;33m)\u001b[0m\u001b[1;33m\u001b[0m\u001b[1;33m\u001b[0m\u001b[0m\n\u001b[0;32m    241\u001b[0m             \u001b[1;32mraise\u001b[0m \u001b[0mexception_class\u001b[0m\u001b[1;33m(\u001b[0m\u001b[0mmessage\u001b[0m\u001b[1;33m,\u001b[0m \u001b[0mscreen\u001b[0m\u001b[1;33m,\u001b[0m \u001b[0mstacktrace\u001b[0m\u001b[1;33m,\u001b[0m \u001b[0malert_text\u001b[0m\u001b[1;33m)\u001b[0m\u001b[1;33m\u001b[0m\u001b[1;33m\u001b[0m\u001b[0m\n\u001b[1;32m--> 242\u001b[1;33m         \u001b[1;32mraise\u001b[0m \u001b[0mexception_class\u001b[0m\u001b[1;33m(\u001b[0m\u001b[0mmessage\u001b[0m\u001b[1;33m,\u001b[0m \u001b[0mscreen\u001b[0m\u001b[1;33m,\u001b[0m \u001b[0mstacktrace\u001b[0m\u001b[1;33m)\u001b[0m\u001b[1;33m\u001b[0m\u001b[1;33m\u001b[0m\u001b[0m\n\u001b[0m\u001b[0;32m    243\u001b[0m \u001b[1;33m\u001b[0m\u001b[0m\n\u001b[0;32m    244\u001b[0m     \u001b[1;32mdef\u001b[0m \u001b[0m_value_or_default\u001b[0m\u001b[1;33m(\u001b[0m\u001b[0mself\u001b[0m\u001b[1;33m,\u001b[0m \u001b[0mobj\u001b[0m\u001b[1;33m,\u001b[0m \u001b[0mkey\u001b[0m\u001b[1;33m,\u001b[0m \u001b[0mdefault\u001b[0m\u001b[1;33m)\u001b[0m\u001b[1;33m:\u001b[0m\u001b[1;33m\u001b[0m\u001b[1;33m\u001b[0m\u001b[0m\n",
      "\u001b[1;31mNoSuchElementException\u001b[0m: Message: no such element: Unable to locate element: {\"method\":\"xpath\",\"selector\":\"/html/body/div[1]/div/div[3]/div[1]/div[2]/div[9]/div[6]/div/a/div\"}\n  (Session info: chrome=102.0.5005.115)\n"
     ]
    }
   ],
   "source": [
    "button = driver.find_elements_by_xpath(\"/html/body/div[1]/div/div[3]/div[1]/div[2]/div[9]/div[6]/div/a/div\")\n",
    "button.click()"
   ]
  },
  {
   "cell_type": "code",
   "execution_count": 173,
   "id": "6f660f4e",
   "metadata": {},
   "outputs": [
    {
     "ename": "NoSuchElementException",
     "evalue": "Message: no such element: Unable to locate element: {\"method\":\"xpath\",\"selector\":\"/html/body/div[1]/div/div[3]/div[1]/div[2]/div[9]/div[6]/div/div[4]/div[1]/div/div/div[2]/div\"}\n  (Session info: chrome=102.0.5005.115)\n",
     "output_type": "error",
     "traceback": [
      "\u001b[1;31m---------------------------------------------------------------------------\u001b[0m",
      "\u001b[1;31mNoSuchElementException\u001b[0m                    Traceback (most recent call last)",
      "\u001b[1;32mC:\\Users\\SSIMST~1\\AppData\\Local\\Temp/ipykernel_9724/726280181.py\u001b[0m in \u001b[0;36m<module>\u001b[1;34m\u001b[0m\n\u001b[1;32m----> 1\u001b[1;33m \u001b[0mfr\u001b[0m \u001b[1;33m=\u001b[0m \u001b[0mdriver\u001b[0m\u001b[1;33m.\u001b[0m\u001b[0mfind_element_by_xpath\u001b[0m\u001b[1;33m(\u001b[0m\u001b[1;34m'/html/body/div[1]/div/div[3]/div[1]/div[2]/div[9]/div[6]/div/div[4]/div[1]/div/div/div[2]/div'\u001b[0m\u001b[1;33m)\u001b[0m\u001b[1;33m\u001b[0m\u001b[1;33m\u001b[0m\u001b[0m\n\u001b[0m\u001b[0;32m      2\u001b[0m \u001b[0mfr\u001b[0m\u001b[1;33m\u001b[0m\u001b[1;33m\u001b[0m\u001b[0m\n",
      "\u001b[1;32mC:\\Anaconda\\lib\\site-packages\\selenium\\webdriver\\remote\\webdriver.py\u001b[0m in \u001b[0;36mfind_element_by_xpath\u001b[1;34m(self, xpath)\u001b[0m\n\u001b[0;32m    392\u001b[0m             \u001b[0melement\u001b[0m \u001b[1;33m=\u001b[0m \u001b[0mdriver\u001b[0m\u001b[1;33m.\u001b[0m\u001b[0mfind_element_by_xpath\u001b[0m\u001b[1;33m(\u001b[0m\u001b[1;34m'//div/td[1]'\u001b[0m\u001b[1;33m)\u001b[0m\u001b[1;33m\u001b[0m\u001b[1;33m\u001b[0m\u001b[0m\n\u001b[0;32m    393\u001b[0m         \"\"\"\n\u001b[1;32m--> 394\u001b[1;33m         \u001b[1;32mreturn\u001b[0m \u001b[0mself\u001b[0m\u001b[1;33m.\u001b[0m\u001b[0mfind_element\u001b[0m\u001b[1;33m(\u001b[0m\u001b[0mby\u001b[0m\u001b[1;33m=\u001b[0m\u001b[0mBy\u001b[0m\u001b[1;33m.\u001b[0m\u001b[0mXPATH\u001b[0m\u001b[1;33m,\u001b[0m \u001b[0mvalue\u001b[0m\u001b[1;33m=\u001b[0m\u001b[0mxpath\u001b[0m\u001b[1;33m)\u001b[0m\u001b[1;33m\u001b[0m\u001b[1;33m\u001b[0m\u001b[0m\n\u001b[0m\u001b[0;32m    395\u001b[0m \u001b[1;33m\u001b[0m\u001b[0m\n\u001b[0;32m    396\u001b[0m     \u001b[1;32mdef\u001b[0m \u001b[0mfind_elements_by_xpath\u001b[0m\u001b[1;33m(\u001b[0m\u001b[0mself\u001b[0m\u001b[1;33m,\u001b[0m \u001b[0mxpath\u001b[0m\u001b[1;33m)\u001b[0m\u001b[1;33m:\u001b[0m\u001b[1;33m\u001b[0m\u001b[1;33m\u001b[0m\u001b[0m\n",
      "\u001b[1;32mC:\\Anaconda\\lib\\site-packages\\selenium\\webdriver\\remote\\webdriver.py\u001b[0m in \u001b[0;36mfind_element\u001b[1;34m(self, by, value)\u001b[0m\n\u001b[0;32m    974\u001b[0m                 \u001b[0mby\u001b[0m \u001b[1;33m=\u001b[0m \u001b[0mBy\u001b[0m\u001b[1;33m.\u001b[0m\u001b[0mCSS_SELECTOR\u001b[0m\u001b[1;33m\u001b[0m\u001b[1;33m\u001b[0m\u001b[0m\n\u001b[0;32m    975\u001b[0m                 \u001b[0mvalue\u001b[0m \u001b[1;33m=\u001b[0m \u001b[1;34m'[name=\"%s\"]'\u001b[0m \u001b[1;33m%\u001b[0m \u001b[0mvalue\u001b[0m\u001b[1;33m\u001b[0m\u001b[1;33m\u001b[0m\u001b[0m\n\u001b[1;32m--> 976\u001b[1;33m         return self.execute(Command.FIND_ELEMENT, {\n\u001b[0m\u001b[0;32m    977\u001b[0m             \u001b[1;34m'using'\u001b[0m\u001b[1;33m:\u001b[0m \u001b[0mby\u001b[0m\u001b[1;33m,\u001b[0m\u001b[1;33m\u001b[0m\u001b[1;33m\u001b[0m\u001b[0m\n\u001b[0;32m    978\u001b[0m             'value': value})['value']\n",
      "\u001b[1;32mC:\\Anaconda\\lib\\site-packages\\selenium\\webdriver\\remote\\webdriver.py\u001b[0m in \u001b[0;36mexecute\u001b[1;34m(self, driver_command, params)\u001b[0m\n\u001b[0;32m    319\u001b[0m         \u001b[0mresponse\u001b[0m \u001b[1;33m=\u001b[0m \u001b[0mself\u001b[0m\u001b[1;33m.\u001b[0m\u001b[0mcommand_executor\u001b[0m\u001b[1;33m.\u001b[0m\u001b[0mexecute\u001b[0m\u001b[1;33m(\u001b[0m\u001b[0mdriver_command\u001b[0m\u001b[1;33m,\u001b[0m \u001b[0mparams\u001b[0m\u001b[1;33m)\u001b[0m\u001b[1;33m\u001b[0m\u001b[1;33m\u001b[0m\u001b[0m\n\u001b[0;32m    320\u001b[0m         \u001b[1;32mif\u001b[0m \u001b[0mresponse\u001b[0m\u001b[1;33m:\u001b[0m\u001b[1;33m\u001b[0m\u001b[1;33m\u001b[0m\u001b[0m\n\u001b[1;32m--> 321\u001b[1;33m             \u001b[0mself\u001b[0m\u001b[1;33m.\u001b[0m\u001b[0merror_handler\u001b[0m\u001b[1;33m.\u001b[0m\u001b[0mcheck_response\u001b[0m\u001b[1;33m(\u001b[0m\u001b[0mresponse\u001b[0m\u001b[1;33m)\u001b[0m\u001b[1;33m\u001b[0m\u001b[1;33m\u001b[0m\u001b[0m\n\u001b[0m\u001b[0;32m    322\u001b[0m             response['value'] = self._unwrap_value(\n\u001b[0;32m    323\u001b[0m                 response.get('value', None))\n",
      "\u001b[1;32mC:\\Anaconda\\lib\\site-packages\\selenium\\webdriver\\remote\\errorhandler.py\u001b[0m in \u001b[0;36mcheck_response\u001b[1;34m(self, response)\u001b[0m\n\u001b[0;32m    240\u001b[0m                 \u001b[0malert_text\u001b[0m \u001b[1;33m=\u001b[0m \u001b[0mvalue\u001b[0m\u001b[1;33m[\u001b[0m\u001b[1;34m'alert'\u001b[0m\u001b[1;33m]\u001b[0m\u001b[1;33m.\u001b[0m\u001b[0mget\u001b[0m\u001b[1;33m(\u001b[0m\u001b[1;34m'text'\u001b[0m\u001b[1;33m)\u001b[0m\u001b[1;33m\u001b[0m\u001b[1;33m\u001b[0m\u001b[0m\n\u001b[0;32m    241\u001b[0m             \u001b[1;32mraise\u001b[0m \u001b[0mexception_class\u001b[0m\u001b[1;33m(\u001b[0m\u001b[0mmessage\u001b[0m\u001b[1;33m,\u001b[0m \u001b[0mscreen\u001b[0m\u001b[1;33m,\u001b[0m \u001b[0mstacktrace\u001b[0m\u001b[1;33m,\u001b[0m \u001b[0malert_text\u001b[0m\u001b[1;33m)\u001b[0m\u001b[1;33m\u001b[0m\u001b[1;33m\u001b[0m\u001b[0m\n\u001b[1;32m--> 242\u001b[1;33m         \u001b[1;32mraise\u001b[0m \u001b[0mexception_class\u001b[0m\u001b[1;33m(\u001b[0m\u001b[0mmessage\u001b[0m\u001b[1;33m,\u001b[0m \u001b[0mscreen\u001b[0m\u001b[1;33m,\u001b[0m \u001b[0mstacktrace\u001b[0m\u001b[1;33m)\u001b[0m\u001b[1;33m\u001b[0m\u001b[1;33m\u001b[0m\u001b[0m\n\u001b[0m\u001b[0;32m    243\u001b[0m \u001b[1;33m\u001b[0m\u001b[0m\n\u001b[0;32m    244\u001b[0m     \u001b[1;32mdef\u001b[0m \u001b[0m_value_or_default\u001b[0m\u001b[1;33m(\u001b[0m\u001b[0mself\u001b[0m\u001b[1;33m,\u001b[0m \u001b[0mobj\u001b[0m\u001b[1;33m,\u001b[0m \u001b[0mkey\u001b[0m\u001b[1;33m,\u001b[0m \u001b[0mdefault\u001b[0m\u001b[1;33m)\u001b[0m\u001b[1;33m:\u001b[0m\u001b[1;33m\u001b[0m\u001b[1;33m\u001b[0m\u001b[0m\n",
      "\u001b[1;31mNoSuchElementException\u001b[0m: Message: no such element: Unable to locate element: {\"method\":\"xpath\",\"selector\":\"/html/body/div[1]/div/div[3]/div[1]/div[2]/div[9]/div[6]/div/div[4]/div[1]/div/div/div[2]/div\"}\n  (Session info: chrome=102.0.5005.115)\n"
     ]
    }
   ],
   "source": [
    "fr = driver.find_elements_by_xpath('/html/body/div[1]/div/div[3]/div[1]/div[2]/div[9]/div[6]/div/div[4]/div[1]/div/div/div[2]/div')\n",
    "fr"
   ]
  },
  {
   "cell_type": "markdown",
   "id": "16298ab9",
   "metadata": {},
   "source": [
    "Q6: Scrape data for first 100 sneakers you find when you visit flipkart.com and search for “sneakers” in the\n",
    "search field.\n",
    "You have to scrape 4 attributes of each sneaker:\n",
    "1. Brand\n",
    "2. Product Description\n",
    "3. Price\n",
    "As shown in the below image, you have to scrape the tick marked attributes."
   ]
  },
  {
   "cell_type": "code",
   "execution_count": 174,
   "id": "f5a38dce",
   "metadata": {},
   "outputs": [],
   "source": [
    "driver = webdriver.Chrome(r\"C:\\Users\\SSIM STUDENT\\Desktop\\job\\DA\\chromedriver.exe\")\n",
    "time.sleep(2)\n",
    "driver.get('https://www.flipkart.com/')\n",
    "time.sleep(5)"
   ]
  },
  {
   "cell_type": "code",
   "execution_count": 175,
   "id": "06ba8ac1",
   "metadata": {},
   "outputs": [],
   "source": [
    "button = driver.find_element_by_xpath(\"/html/body/div[2]/div/div/button\")\n",
    "button.click()"
   ]
  },
  {
   "cell_type": "code",
   "execution_count": 176,
   "id": "06956c70",
   "metadata": {},
   "outputs": [],
   "source": [
    "search = driver.find_element_by_class_name('_3704LK')\n",
    "search.send_keys('sneakers')"
   ]
  },
  {
   "cell_type": "code",
   "execution_count": 177,
   "id": "22076189",
   "metadata": {},
   "outputs": [],
   "source": [
    "button = driver.find_element_by_class_name(\"L0Z3Pu\")\n",
    "button.click()"
   ]
  },
  {
   "cell_type": "code",
   "execution_count": 178,
   "id": "508ab533",
   "metadata": {},
   "outputs": [
    {
     "data": {
      "text/plain": [
       "[<selenium.webdriver.remote.webelement.WebElement (session=\"36bcab3d87e1df59ac106b830b8f5f2d\", element=\"c25d4f11-b8fb-4870-a08f-0fa0b2558128\")>,\n",
       " <selenium.webdriver.remote.webelement.WebElement (session=\"36bcab3d87e1df59ac106b830b8f5f2d\", element=\"3de38d59-78b5-4160-9e75-6b97f05694bb\")>]"
      ]
     },
     "execution_count": 178,
     "metadata": {},
     "output_type": "execute_result"
    }
   ],
   "source": [
    "brand=[]\n",
    "\n",
    "br =  driver.find_elements_by_class_name(\"_2WkVRV\")\n",
    "br[0:2]"
   ]
  },
  {
   "cell_type": "code",
   "execution_count": 179,
   "id": "80a3a512",
   "metadata": {},
   "outputs": [
    {
     "data": {
      "text/plain": [
       "['Echor', 'Cresswell']"
      ]
     },
     "execution_count": 179,
     "metadata": {},
     "output_type": "execute_result"
    }
   ],
   "source": [
    "for i in br:\n",
    "    brand.append(i.text)\n",
    "brand[0:2]"
   ]
  },
  {
   "cell_type": "code",
   "execution_count": 180,
   "id": "6875cbd5",
   "metadata": {},
   "outputs": [
    {
     "data": {
      "text/plain": [
       "[<selenium.webdriver.remote.webelement.WebElement (session=\"36bcab3d87e1df59ac106b830b8f5f2d\", element=\"39458ef5-7758-4332-891c-279d4bbb3d8f\")>,\n",
       " <selenium.webdriver.remote.webelement.WebElement (session=\"36bcab3d87e1df59ac106b830b8f5f2d\", element=\"089fc141-671d-4794-a81d-bee313b3efbf\")>]"
      ]
     },
     "execution_count": 180,
     "metadata": {},
     "output_type": "execute_result"
    }
   ],
   "source": [
    "product =[]\n",
    "pd=  driver.find_elements_by_class_name(\"IRpwTa\")\n",
    "pd[0:2]"
   ]
  },
  {
   "cell_type": "code",
   "execution_count": 181,
   "id": "b1212c6a",
   "metadata": {},
   "outputs": [
    {
     "data": {
      "text/plain": [
       "[\"Men's Casual sneaker shoes running shoes walking shoes ...\",\n",
       " 'Black-Multicolor Casual Sport Training/Running Sneakers...']"
      ]
     },
     "execution_count": 181,
     "metadata": {},
     "output_type": "execute_result"
    }
   ],
   "source": [
    "for i in pd:\n",
    "    product.append(i.text)\n",
    "product[0:2]"
   ]
  },
  {
   "cell_type": "code",
   "execution_count": 182,
   "id": "4183b134",
   "metadata": {},
   "outputs": [
    {
     "data": {
      "text/plain": [
       "<selenium.webdriver.remote.webelement.WebElement (session=\"36bcab3d87e1df59ac106b830b8f5f2d\", element=\"c072ac8c-d7d8-4e46-b85b-31a41b1885c7\")>"
      ]
     },
     "execution_count": 182,
     "metadata": {},
     "output_type": "execute_result"
    }
   ],
   "source": [
    "price=[]\n",
    "ct=driver.find_element_by_class_name(\"_3bPFwb\")\n",
    "ct"
   ]
  },
  {
   "cell_type": "code",
   "execution_count": 183,
   "id": "94796aa4",
   "metadata": {},
   "outputs": [
    {
     "data": {
      "text/plain": [
       "'  509  1,49966%'"
      ]
     },
     "execution_count": 183,
     "metadata": {},
     "output_type": "execute_result"
    }
   ],
   "source": [
    "ct.text.split()[0].replace('₹','  ')"
   ]
  },
  {
   "cell_type": "code",
   "execution_count": 184,
   "id": "5965a2c7",
   "metadata": {},
   "outputs": [
    {
     "data": {
      "text/plain": [
       "'509'"
      ]
     },
     "execution_count": 184,
     "metadata": {},
     "output_type": "execute_result"
    }
   ],
   "source": [
    "ct.text.split()[0].replace('₹','  ').split()[0]"
   ]
  },
  {
   "cell_type": "code",
   "execution_count": 199,
   "id": "92abd27e",
   "metadata": {},
   "outputs": [
    {
     "data": {
      "text/plain": [
       "[<selenium.webdriver.remote.webelement.WebElement (session=\"36bcab3d87e1df59ac106b830b8f5f2d\", element=\"b2bbfb88-3815-4e6a-a591-bbbd6c56421b\")>]"
      ]
     },
     "execution_count": 199,
     "metadata": {},
     "output_type": "execute_result"
    }
   ],
   "source": [
    "ct=driver.find_elements_by_xpath('/html/body/div[1]/div/div[3]/div[1]/div[2]/div[2]/div/div[1]/div/div[2]/a[2]/div/div[3]/span')\n",
    "ct[0:2]"
   ]
  },
  {
   "cell_type": "code",
   "execution_count": 200,
   "id": "cee3013a",
   "metadata": {},
   "outputs": [
    {
     "ename": "AttributeError",
     "evalue": "'list' object has no attribute 'text'",
     "output_type": "error",
     "traceback": [
      "\u001b[1;31m---------------------------------------------------------------------------\u001b[0m",
      "\u001b[1;31mAttributeError\u001b[0m                            Traceback (most recent call last)",
      "\u001b[1;32mC:\\Users\\SSIMST~1\\AppData\\Local\\Temp/ipykernel_9724/3716174396.py\u001b[0m in \u001b[0;36m<module>\u001b[1;34m\u001b[0m\n\u001b[1;32m----> 1\u001b[1;33m \u001b[0mct\u001b[0m\u001b[1;33m.\u001b[0m\u001b[0mtext\u001b[0m\u001b[1;33m.\u001b[0m\u001b[0msplit\u001b[0m\u001b[1;33m(\u001b[0m\u001b[1;33m)\u001b[0m\u001b[1;33m[\u001b[0m\u001b[1;36m0\u001b[0m\u001b[1;33m]\u001b[0m\u001b[1;33m\u001b[0m\u001b[1;33m\u001b[0m\u001b[0m\n\u001b[0m",
      "\u001b[1;31mAttributeError\u001b[0m: 'list' object has no attribute 'text'"
     ]
    }
   ],
   "source": [
    "ct.text.split()[0]"
   ]
  },
  {
   "cell_type": "code",
   "execution_count": 191,
   "id": "6cc96cea",
   "metadata": {},
   "outputs": [
    {
     "data": {
      "text/plain": [
       "[<selenium.webdriver.remote.webelement.WebElement (session=\"36bcab3d87e1df59ac106b830b8f5f2d\", element=\"c072ac8c-d7d8-4e46-b85b-31a41b1885c7\")>,\n",
       " <selenium.webdriver.remote.webelement.WebElement (session=\"36bcab3d87e1df59ac106b830b8f5f2d\", element=\"ca5cd5ab-0d08-475f-9fee-328280ea91bc\")>]"
      ]
     },
     "execution_count": 191,
     "metadata": {},
     "output_type": "execute_result"
    }
   ],
   "source": [
    "price =[]\n",
    "ct=driver.find_elements_by_class_name(\"_3bPFwb\")\n",
    "ct[0:2]"
   ]
  },
  {
   "cell_type": "code",
   "execution_count": 192,
   "id": "d5fde962",
   "metadata": {},
   "outputs": [
    {
     "data": {
      "text/plain": [
       "['509', '1,499']"
      ]
     },
     "execution_count": 192,
     "metadata": {},
     "output_type": "execute_result"
    }
   ],
   "source": [
    "for i in ct:\n",
    "    price.append(i.text.split()[0].replace('₹','  ').split()[0])\n",
    "price[0:2]"
   ]
  },
  {
   "cell_type": "code",
   "execution_count": 193,
   "id": "439e6f1b",
   "metadata": {},
   "outputs": [
    {
     "data": {
      "text/plain": [
       "[<selenium.webdriver.remote.webelement.WebElement (session=\"36bcab3d87e1df59ac106b830b8f5f2d\", element=\"0f99347e-9f42-475d-a912-215d440d5ce9\")>,\n",
       " <selenium.webdriver.remote.webelement.WebElement (session=\"36bcab3d87e1df59ac106b830b8f5f2d\", element=\"7423199c-e021-4bde-8338-3e1e1ec488d3\")>]"
      ]
     },
     "execution_count": 193,
     "metadata": {},
     "output_type": "execute_result"
    }
   ],
   "source": [
    "discount =[]\n",
    "p=driver.find_elements_by_xpath('//div[@class=\"_3Ay6Sb\"]')\n",
    "p[0:2]"
   ]
  },
  {
   "cell_type": "code",
   "execution_count": 194,
   "id": "94b426d9",
   "metadata": {},
   "outputs": [
    {
     "data": {
      "text/plain": [
       "['66%', '57%']"
      ]
     },
     "execution_count": 194,
     "metadata": {},
     "output_type": "execute_result"
    }
   ],
   "source": [
    "for i in p:\n",
    "    discount.append(i.text.split()[0])\n",
    "discount[0:2]\n"
   ]
  },
  {
   "cell_type": "code",
   "execution_count": 195,
   "id": "484c43c4",
   "metadata": {},
   "outputs": [
    {
     "name": "stdout",
     "output_type": "stream",
     "text": [
      "40 40 40 40\n"
     ]
    }
   ],
   "source": [
    "print(len(discount),len(price),len(product),len(brand))"
   ]
  },
  {
   "cell_type": "code",
   "execution_count": 196,
   "id": "a97cb0ff",
   "metadata": {},
   "outputs": [
    {
     "ename": "AttributeError",
     "evalue": "'list' object has no attribute 'DataFrame'",
     "output_type": "error",
     "traceback": [
      "\u001b[1;31m---------------------------------------------------------------------------\u001b[0m",
      "\u001b[1;31mAttributeError\u001b[0m                            Traceback (most recent call last)",
      "\u001b[1;32mC:\\Users\\SSIMST~1\\AppData\\Local\\Temp/ipykernel_9724/2321013514.py\u001b[0m in \u001b[0;36m<module>\u001b[1;34m\u001b[0m\n\u001b[1;32m----> 1\u001b[1;33m \u001b[0mSneakers\u001b[0m\u001b[1;33m=\u001b[0m\u001b[0mpd\u001b[0m\u001b[1;33m.\u001b[0m\u001b[0mDataFrame\u001b[0m\u001b[1;33m(\u001b[0m\u001b[1;33m{\u001b[0m\u001b[1;34m'Brand'\u001b[0m\u001b[1;33m:\u001b[0m\u001b[0mbrand\u001b[0m\u001b[1;33m,\u001b[0m\u001b[1;34m'Product Description'\u001b[0m\u001b[1;33m:\u001b[0m\u001b[0mproduct\u001b[0m\u001b[1;33m,\u001b[0m\u001b[1;34m'Cost'\u001b[0m\u001b[1;33m:\u001b[0m\u001b[0mprice\u001b[0m\u001b[1;33m,\u001b[0m\u001b[1;34m'Discount %'\u001b[0m\u001b[1;33m:\u001b[0m\u001b[0mdiscount\u001b[0m\u001b[1;33m}\u001b[0m\u001b[1;33m)\u001b[0m\u001b[1;33m\u001b[0m\u001b[1;33m\u001b[0m\u001b[0m\n\u001b[0m\u001b[0;32m      2\u001b[0m \u001b[0mSneakers\u001b[0m\u001b[1;33m\u001b[0m\u001b[1;33m\u001b[0m\u001b[0m\n",
      "\u001b[1;31mAttributeError\u001b[0m: 'list' object has no attribute 'DataFrame'"
     ]
    }
   ],
   "source": [
    "Sneakers=pd.DataFrame({'Brand':brand,'Product Description':product,'Cost':price,'Discount %':discount})\n",
    "Sneakers"
   ]
  },
  {
   "cell_type": "markdown",
   "id": "a00a88fd",
   "metadata": {},
   "source": [
    "Q7: Go to the link - https://www.myntra.com/shoes Set second Price filter and Color filter to “Black”, as shown in the below image And then scrape First 100 shoes data you get. The data should include “Brand” of the shoes , Short Shoe description, price of the shoe as shown in the below image. Note: Applying the filter and scraping the data, everything should be done through code only and there should not be any manual step."
   ]
  },
  {
   "cell_type": "code",
   "execution_count": 201,
   "id": "65bf5858",
   "metadata": {},
   "outputs": [],
   "source": [
    "driver = webdriver.Chrome(r\"C:\\Users\\SSIM STUDENT\\Desktop\\job\\DA\\chromedriver.exe\")\n",
    "time.sleep(2)\n",
    "driver.get('https://www.myntra.com/shoes')"
   ]
  },
  {
   "cell_type": "code",
   "execution_count": 202,
   "id": "dc2017f6",
   "metadata": {},
   "outputs": [],
   "source": [
    "button = driver.find_element_by_xpath(\"/html/body/div[2]/div/div[1]/main/div[3]/div[1]/section/div/div[5]/ul/li[2]/label\")\n",
    "button.click()"
   ]
  },
  {
   "cell_type": "code",
   "execution_count": 203,
   "id": "4c3785ed",
   "metadata": {},
   "outputs": [],
   "source": [
    "button = driver.find_element_by_xpath(\"/html/body/div[2]/div/div[1]/main/div[3]/div[1]/section/div/div[6]/ul/li[1]/label\")\n",
    "button.click()"
   ]
  },
  {
   "cell_type": "code",
   "execution_count": 204,
   "id": "9bdd8372",
   "metadata": {},
   "outputs": [
    {
     "data": {
      "text/plain": [
       "<selenium.webdriver.remote.webelement.WebElement (session=\"a5389bee9a1525198806a605e59992ae\", element=\"fe245ca0-25c2-4f63-8ef1-4fd821be8503\")>"
      ]
     },
     "execution_count": 204,
     "metadata": {},
     "output_type": "execute_result"
    }
   ],
   "source": [
    "br=driver.find_element_by_class_name('product-brand')\n",
    "br"
   ]
  },
  {
   "cell_type": "code",
   "execution_count": 205,
   "id": "2e42c9dc",
   "metadata": {},
   "outputs": [
    {
     "data": {
      "text/plain": [
       "[<selenium.webdriver.remote.webelement.WebElement (session=\"a5389bee9a1525198806a605e59992ae\", element=\"fe245ca0-25c2-4f63-8ef1-4fd821be8503\")>,\n",
       " <selenium.webdriver.remote.webelement.WebElement (session=\"a5389bee9a1525198806a605e59992ae\", element=\"deaf6224-d3eb-4d29-96dc-ebc23378e80e\")>]"
      ]
     },
     "execution_count": 205,
     "metadata": {},
     "output_type": "execute_result"
    }
   ],
   "source": [
    "br=driver.find_elements_by_class_name('product-brand')\n",
    "br[0:2]"
   ]
  },
  {
   "cell_type": "code",
   "execution_count": 207,
   "id": "1b6be2e4",
   "metadata": {},
   "outputs": [
    {
     "data": {
      "text/plain": [
       "['Nike', 'Nike']"
      ]
     },
     "execution_count": 207,
     "metadata": {},
     "output_type": "execute_result"
    }
   ],
   "source": [
    "Brand1=[]\n",
    "for i in br:\n",
    "    Brand1.append(i.text)\n",
    "Brand1[0:2]"
   ]
  },
  {
   "cell_type": "code",
   "execution_count": 208,
   "id": "c5ac932e",
   "metadata": {},
   "outputs": [
    {
     "data": {
      "text/plain": [
       "50"
      ]
     },
     "execution_count": 208,
     "metadata": {},
     "output_type": "execute_result"
    }
   ],
   "source": [
    "len(Brand1)"
   ]
  },
  {
   "cell_type": "code",
   "execution_count": 209,
   "id": "79f9c0f3",
   "metadata": {},
   "outputs": [
    {
     "data": {
      "text/plain": [
       "[<selenium.webdriver.remote.webelement.WebElement (session=\"a5389bee9a1525198806a605e59992ae\", element=\"76048417-0499-4931-bfe8-0872260a2b2c\")>,\n",
       " <selenium.webdriver.remote.webelement.WebElement (session=\"a5389bee9a1525198806a605e59992ae\", element=\"d0a45c30-8416-4f5d-97a6-6465467ac6d5\")>]"
      ]
     },
     "execution_count": 209,
     "metadata": {},
     "output_type": "execute_result"
    }
   ],
   "source": [
    "s = driver.find_elements_by_xpath('//h4[@class=\"product-product\"]')\n",
    "s[0:2]"
   ]
  },
  {
   "cell_type": "code",
   "execution_count": 210,
   "id": "96dfae6e",
   "metadata": {},
   "outputs": [
    {
     "data": {
      "text/plain": [
       "<selenium.webdriver.remote.webelement.WebElement (session=\"a5389bee9a1525198806a605e59992ae\", element=\"76048417-0499-4931-bfe8-0872260a2b2c\")>"
      ]
     },
     "execution_count": 210,
     "metadata": {},
     "output_type": "execute_result"
    }
   ],
   "source": [
    "ssd = []\n",
    "ss = driver.find_element_by_xpath('//h4[@class=\"product-product\"]')\n",
    "ss"
   ]
  },
  {
   "cell_type": "code",
   "execution_count": 211,
   "id": "1eb3af2d",
   "metadata": {},
   "outputs": [
    {
     "data": {
      "text/plain": [
       "['Women Pegasus 39 Running Shoes', 'Women React Escape Running']"
      ]
     },
     "execution_count": 211,
     "metadata": {},
     "output_type": "execute_result"
    }
   ],
   "source": [
    "for i in s:\n",
    "    ssd.append(i.text)\n",
    "ssd[0:2]"
   ]
  },
  {
   "cell_type": "code",
   "execution_count": 212,
   "id": "6ce8335b",
   "metadata": {},
   "outputs": [
    {
     "data": {
      "text/plain": [
       "50"
      ]
     },
     "execution_count": 212,
     "metadata": {},
     "output_type": "execute_result"
    }
   ],
   "source": [
    "len(ssd)"
   ]
  },
  {
   "cell_type": "code",
   "execution_count": 213,
   "id": "d08e4db1",
   "metadata": {},
   "outputs": [
    {
     "data": {
      "text/plain": [
       "[<selenium.webdriver.remote.webelement.WebElement (session=\"a5389bee9a1525198806a605e59992ae\", element=\"7679a22f-2040-4537-9e16-1ef1a7c68fc4\")>,\n",
       " <selenium.webdriver.remote.webelement.WebElement (session=\"a5389bee9a1525198806a605e59992ae\", element=\"0235ef27-9c90-4cd7-9633-73821761bb75\")>]"
      ]
     },
     "execution_count": 213,
     "metadata": {},
     "output_type": "execute_result"
    }
   ],
   "source": [
    "price1=[]\n",
    "cost=driver.find_elements_by_class_name('product-price')\n",
    "cost[0:2]"
   ]
  },
  {
   "cell_type": "code",
   "execution_count": 214,
   "id": "dfd98303",
   "metadata": {},
   "outputs": [
    {
     "data": {
      "text/plain": [
       "['Rs. 10495', 'Rs. 8046Rs. 11495(30% OFF)']"
      ]
     },
     "execution_count": 214,
     "metadata": {},
     "output_type": "execute_result"
    }
   ],
   "source": [
    "for i in cost:\n",
    "    price1.append(i.text)\n",
    "price1[0:2]"
   ]
  },
  {
   "cell_type": "code",
   "execution_count": 215,
   "id": "8f7bd0c1",
   "metadata": {},
   "outputs": [
    {
     "data": {
      "text/plain": [
       "40"
      ]
     },
     "execution_count": 215,
     "metadata": {},
     "output_type": "execute_result"
    }
   ],
   "source": [
    "len(price)"
   ]
  },
  {
   "cell_type": "code",
   "execution_count": 216,
   "id": "3d20a43c",
   "metadata": {},
   "outputs": [],
   "source": [
    "button = driver.find_element_by_xpath('/html/body/div[2]/div/div[1]/main/div[3]/div[2]/div/div[2]/section/div[2]/ul/li[12]/a')\n",
    "button.click()"
   ]
  },
  {
   "cell_type": "code",
   "execution_count": 217,
   "id": "947f7e8f",
   "metadata": {},
   "outputs": [
    {
     "data": {
      "text/plain": [
       "[<selenium.webdriver.remote.webelement.WebElement (session=\"a5389bee9a1525198806a605e59992ae\", element=\"c04ce097-5a99-4a6e-897a-1194c41d73c4\")>,\n",
       " <selenium.webdriver.remote.webelement.WebElement (session=\"a5389bee9a1525198806a605e59992ae\", element=\"b2020ee5-8c42-4106-8803-145ffd89a0c3\")>]"
      ]
     },
     "execution_count": 217,
     "metadata": {},
     "output_type": "execute_result"
    }
   ],
   "source": [
    "b=driver.find_elements_by_class_name('product-brand')\n",
    "b[0:2]"
   ]
  },
  {
   "cell_type": "code",
   "execution_count": 218,
   "id": "b406e888",
   "metadata": {},
   "outputs": [
    {
     "data": {
      "text/plain": [
       "['Nike', 'Nike']"
      ]
     },
     "execution_count": 218,
     "metadata": {},
     "output_type": "execute_result"
    }
   ],
   "source": [
    "for i in b:\n",
    "    Brand1.append(i.text)\n",
    "Brand1[0:2]"
   ]
  },
  {
   "cell_type": "code",
   "execution_count": 219,
   "id": "28995b2f",
   "metadata": {},
   "outputs": [
    {
     "data": {
      "text/plain": [
       "100"
      ]
     },
     "execution_count": 219,
     "metadata": {},
     "output_type": "execute_result"
    }
   ],
   "source": [
    "len(Brand1)\n"
   ]
  },
  {
   "cell_type": "code",
   "execution_count": 220,
   "id": "16327b00",
   "metadata": {},
   "outputs": [
    {
     "data": {
      "text/plain": [
       "[<selenium.webdriver.remote.webelement.WebElement (session=\"a5389bee9a1525198806a605e59992ae\", element=\"b7c68c4f-f323-4b21-b7db-57ad6f07dc3a\")>,\n",
       " <selenium.webdriver.remote.webelement.WebElement (session=\"a5389bee9a1525198806a605e59992ae\", element=\"93167247-d4c9-4a77-a66e-4aa425b654d9\")>]"
      ]
     },
     "execution_count": 220,
     "metadata": {},
     "output_type": "execute_result"
    }
   ],
   "source": [
    "s = driver.find_elements_by_xpath('//h4[@class=\"product-product\"]')\n",
    "s[0:2]"
   ]
  },
  {
   "cell_type": "code",
   "execution_count": 221,
   "id": "eccfb7d3",
   "metadata": {},
   "outputs": [
    {
     "data": {
      "text/plain": [
       "['Women Pegasus 39 Running Shoes', 'Women React Escape Running']"
      ]
     },
     "execution_count": 221,
     "metadata": {},
     "output_type": "execute_result"
    }
   ],
   "source": [
    "for i in s:\n",
    "    ssd.append(i.text)\n",
    "ssd[0:2]"
   ]
  },
  {
   "cell_type": "code",
   "execution_count": 222,
   "id": "8a2e2fc6",
   "metadata": {},
   "outputs": [
    {
     "data": {
      "text/plain": [
       "100"
      ]
     },
     "execution_count": 222,
     "metadata": {},
     "output_type": "execute_result"
    }
   ],
   "source": [
    "len(ssd)"
   ]
  },
  {
   "cell_type": "code",
   "execution_count": 223,
   "id": "5220a472",
   "metadata": {},
   "outputs": [
    {
     "data": {
      "text/plain": [
       "[<selenium.webdriver.remote.webelement.WebElement (session=\"a5389bee9a1525198806a605e59992ae\", element=\"be65a98c-3278-4942-88af-7f088b46654a\")>,\n",
       " <selenium.webdriver.remote.webelement.WebElement (session=\"a5389bee9a1525198806a605e59992ae\", element=\"6412a109-77c8-432b-a622-6ce8f27fd0b9\")>]"
      ]
     },
     "execution_count": 223,
     "metadata": {},
     "output_type": "execute_result"
    }
   ],
   "source": [
    "cost=driver.find_elements_by_class_name('product-price')\n",
    "cost[0:2]"
   ]
  },
  {
   "cell_type": "code",
   "execution_count": 224,
   "id": "8ad9b943",
   "metadata": {},
   "outputs": [
    {
     "data": {
      "text/plain": [
       "['Rs. 10495', 'Rs. 8046Rs. 11495(30% OFF)']"
      ]
     },
     "execution_count": 224,
     "metadata": {},
     "output_type": "execute_result"
    }
   ],
   "source": [
    "for i in cost:\n",
    "    price1.append(i.text)\n",
    "price1[0:2]"
   ]
  },
  {
   "cell_type": "code",
   "execution_count": 225,
   "id": "300c9d9c",
   "metadata": {},
   "outputs": [
    {
     "data": {
      "text/plain": [
       "(100, 100, 100)"
      ]
     },
     "execution_count": 225,
     "metadata": {},
     "output_type": "execute_result"
    }
   ],
   "source": [
    "len(Brand1),len(ssd),len(price1)"
   ]
  },
  {
   "cell_type": "code",
   "execution_count": 226,
   "id": "f18632b7",
   "metadata": {},
   "outputs": [
    {
     "ename": "AttributeError",
     "evalue": "'list' object has no attribute 'DataFrame'",
     "output_type": "error",
     "traceback": [
      "\u001b[1;31m---------------------------------------------------------------------------\u001b[0m",
      "\u001b[1;31mAttributeError\u001b[0m                            Traceback (most recent call last)",
      "\u001b[1;32mC:\\Users\\SSIMST~1\\AppData\\Local\\Temp/ipykernel_9724/2809625628.py\u001b[0m in \u001b[0;36m<module>\u001b[1;34m\u001b[0m\n\u001b[1;32m----> 1\u001b[1;33m \u001b[0mdf\u001b[0m\u001b[1;33m=\u001b[0m\u001b[0mpd\u001b[0m\u001b[1;33m.\u001b[0m\u001b[0mDataFrame\u001b[0m\u001b[1;33m(\u001b[0m\u001b[1;33m{\u001b[0m\u001b[1;34m'Brand'\u001b[0m\u001b[1;33m:\u001b[0m\u001b[0mBrand1\u001b[0m\u001b[1;33m,\u001b[0m\u001b[1;34m'ShortDescription'\u001b[0m\u001b[1;33m:\u001b[0m\u001b[0mssd\u001b[0m\u001b[1;33m,\u001b[0m\u001b[1;34m'Price'\u001b[0m\u001b[1;33m:\u001b[0m\u001b[0mprice1\u001b[0m\u001b[1;33m}\u001b[0m\u001b[1;33m)\u001b[0m\u001b[1;33m\u001b[0m\u001b[1;33m\u001b[0m\u001b[0m\n\u001b[0m\u001b[0;32m      2\u001b[0m \u001b[0mdf\u001b[0m\u001b[1;33m\u001b[0m\u001b[1;33m\u001b[0m\u001b[0m\n",
      "\u001b[1;31mAttributeError\u001b[0m: 'list' object has no attribute 'DataFrame'"
     ]
    }
   ],
   "source": [
    "df=pd.DataFrame({'Brand':Brand1,'ShortDescription':ssd,'Price':price1})\n",
    "df"
   ]
  },
  {
   "cell_type": "markdown",
   "id": "92286b63",
   "metadata": {},
   "source": [
    "Q8: Go to webpage https://www.amazon.in/ Enter “Laptop” in the search field and then click the search icon. Then set CPU Type filter to “Intel Core i7” as shown in the below image: After setting the filters scrape first 10 laptops data. You have to scrape 3 attributesfor each laptop:\n",
    "\n",
    "1.Title\n",
    "2.Ratings\n",
    "3.Price Note: All the steps required during scraping should be done through code only and not manually."
   ]
  },
  {
   "cell_type": "code",
   "execution_count": 227,
   "id": "10aade56",
   "metadata": {},
   "outputs": [],
   "source": [
    "driver = webdriver.Chrome(r\"C:\\Users\\SSIM STUDENT\\Desktop\\job\\DA\\chromedriver.exe\")\n",
    "time.sleep(2)"
   ]
  },
  {
   "cell_type": "code",
   "execution_count": 228,
   "id": "e030312a",
   "metadata": {},
   "outputs": [],
   "source": [
    "driver.get('https://www.amazon.in/')"
   ]
  },
  {
   "cell_type": "code",
   "execution_count": 229,
   "id": "e740df6d",
   "metadata": {},
   "outputs": [],
   "source": [
    "search = driver.find_element_by_xpath('/html/body/div[1]/header/div/div[1]/div[2]/div/form/div[2]/div[1]/input')\n",
    "search.send_keys('Laptop')"
   ]
  },
  {
   "cell_type": "code",
   "execution_count": 230,
   "id": "32b7933c",
   "metadata": {},
   "outputs": [],
   "source": [
    "button = driver.find_element_by_xpath(\"/html/body/div[1]/header/div/div[1]/div[2]/div/form/div[3]/div/span/input\")\n",
    "button.click()"
   ]
  },
  {
   "cell_type": "code",
   "execution_count": 232,
   "id": "22e7f2c5",
   "metadata": {},
   "outputs": [
    {
     "ename": "AttributeError",
     "evalue": "'list' object has no attribute 'click'",
     "output_type": "error",
     "traceback": [
      "\u001b[1;31m---------------------------------------------------------------------------\u001b[0m",
      "\u001b[1;31mAttributeError\u001b[0m                            Traceback (most recent call last)",
      "\u001b[1;32mC:\\Users\\SSIMST~1\\AppData\\Local\\Temp/ipykernel_9724/204276383.py\u001b[0m in \u001b[0;36m<module>\u001b[1;34m\u001b[0m\n\u001b[0;32m      1\u001b[0m \u001b[0mfil\u001b[0m \u001b[1;33m=\u001b[0m \u001b[0mdriver\u001b[0m\u001b[1;33m.\u001b[0m\u001b[0mfind_elements_by_xpath\u001b[0m\u001b[1;33m(\u001b[0m\u001b[1;34m'/html/body/div[1]/div[2]/div[1]/div[2]/div/div[3]/span/div[1]/div/div/div[6]/ul[4]/li[14]/span/a/div/label/i'\u001b[0m\u001b[1;33m)\u001b[0m\u001b[1;33m\u001b[0m\u001b[1;33m\u001b[0m\u001b[0m\n\u001b[1;32m----> 2\u001b[1;33m \u001b[0mfil\u001b[0m\u001b[1;33m.\u001b[0m\u001b[0mclick\u001b[0m\u001b[1;33m(\u001b[0m\u001b[1;33m)\u001b[0m\u001b[1;33m\u001b[0m\u001b[1;33m\u001b[0m\u001b[0m\n\u001b[0m",
      "\u001b[1;31mAttributeError\u001b[0m: 'list' object has no attribute 'click'"
     ]
    }
   ],
   "source": [
    "fil = driver.find_elements_by_xpath('/html/body/div[1]/div[2]/div[1]/div[2]/div/div[3]/span/div[1]/div/div/div[6]/ul[4]/li[14]/span/a/div/label/i')\n",
    "fil.click()"
   ]
  },
  {
   "cell_type": "code",
   "execution_count": 233,
   "id": "0b49cc89",
   "metadata": {},
   "outputs": [
    {
     "data": {
      "text/plain": [
       "<selenium.webdriver.remote.webelement.WebElement (session=\"b02b800618ccdcbfa8c18df40d6987e8\", element=\"25414232-aba9-4b84-8334-62d3e022c887\")>"
      ]
     },
     "execution_count": 233,
     "metadata": {},
     "output_type": "execute_result"
    }
   ],
   "source": [
    "tit=driver.find_element_by_xpath('//h2[@class=\"a-size-mini a-spacing-none a-color-base s-line-clamp-2\"]')\n",
    "tit"
   ]
  },
  {
   "cell_type": "code",
   "execution_count": 234,
   "id": "14d40720",
   "metadata": {},
   "outputs": [
    {
     "data": {
      "text/plain": [
       "'HP Pavilion 14 12th Gen Intel Core i5 16GB SDRAM/512GB SSD 14 inch(35.6cm) FHD,IPS,Micro-Edge Display/Intel UHD Graphics/B&O/Win 11/Alexa Built-in/Backlit KB/FPR/MSO 2021/Natural Silver, 14-dv2014TU'"
      ]
     },
     "execution_count": 234,
     "metadata": {},
     "output_type": "execute_result"
    }
   ],
   "source": [
    "tit.text"
   ]
  },
  {
   "cell_type": "code",
   "execution_count": 235,
   "id": "7c8e8a2a",
   "metadata": {},
   "outputs": [
    {
     "data": {
      "text/plain": [
       "[<selenium.webdriver.remote.webelement.WebElement (session=\"b02b800618ccdcbfa8c18df40d6987e8\", element=\"25414232-aba9-4b84-8334-62d3e022c887\")>]"
      ]
     },
     "execution_count": 235,
     "metadata": {},
     "output_type": "execute_result"
    }
   ],
   "source": [
    "tit=driver.find_elements_by_xpath('//h2[@class=\"a-size-mini a-spacing-none a-color-base s-line-clamp-2\"]')\n",
    "title=tit[0:1]\n",
    "title"
   ]
  },
  {
   "cell_type": "code",
   "execution_count": 236,
   "id": "59f9883f",
   "metadata": {},
   "outputs": [
    {
     "data": {
      "text/plain": [
       "['HP Pavilion 14 12th Gen Intel Core i5 16GB SDRAM/512GB SSD 14 inch(35.6cm) FHD,IPS,Micro-Edge Display/Intel UHD Graphics/B&O/Win 11/Alexa Built-in/Backlit KB/FPR/MSO 2021/Natural Silver, 14-dv2014TU']"
      ]
     },
     "execution_count": 236,
     "metadata": {},
     "output_type": "execute_result"
    }
   ],
   "source": [
    "Title=[]\n",
    "for i in title:\n",
    "    Title.append(i.text)\n",
    "Title[0:2]"
   ]
  },
  {
   "cell_type": "code",
   "execution_count": 237,
   "id": "3e5e115b",
   "metadata": {},
   "outputs": [
    {
     "data": {
      "text/plain": [
       "[<selenium.webdriver.remote.webelement.WebElement (session=\"b02b800618ccdcbfa8c18df40d6987e8\", element=\"a095e88a-a6a1-4335-a3df-4cc92bd9ddaa\")>]"
      ]
     },
     "execution_count": 237,
     "metadata": {},
     "output_type": "execute_result"
    }
   ],
   "source": [
    "ratee = driver.find_elements_by_xpath('/html/body/div[1]/div[2]/div[1]/div[1]/div/span[3]/div[2]/div[3]/div/div/div/div/div/div/div/div[2]/div/div/div[2]/div/span[1]/span/a/i[1]')\n",
    "ratee"
   ]
  },
  {
   "cell_type": "code",
   "execution_count": 238,
   "id": "543a7329",
   "metadata": {},
   "outputs": [
    {
     "data": {
      "text/plain": [
       "['']"
      ]
     },
     "execution_count": 238,
     "metadata": {},
     "output_type": "execute_result"
    }
   ],
   "source": [
    "Rating=[]\n",
    "for i in ratee:\n",
    "    Rating.append(i.text)\n",
    "Rating"
   ]
  },
  {
   "cell_type": "code",
   "execution_count": 240,
   "id": "5074dfad",
   "metadata": {},
   "outputs": [
    {
     "ename": "AttributeError",
     "evalue": "'list' object has no attribute 'text'",
     "output_type": "error",
     "traceback": [
      "\u001b[1;31m---------------------------------------------------------------------------\u001b[0m",
      "\u001b[1;31mAttributeError\u001b[0m                            Traceback (most recent call last)",
      "\u001b[1;32mC:\\Users\\SSIMST~1\\AppData\\Local\\Temp/ipykernel_9724/4109443417.py\u001b[0m in \u001b[0;36m<module>\u001b[1;34m\u001b[0m\n\u001b[1;32m----> 1\u001b[1;33m \u001b[0mRating\u001b[0m\u001b[1;33m.\u001b[0m\u001b[0mtext\u001b[0m\u001b[1;33m\u001b[0m\u001b[1;33m\u001b[0m\u001b[0m\n\u001b[0m",
      "\u001b[1;31mAttributeError\u001b[0m: 'list' object has no attribute 'text'"
     ]
    }
   ],
   "source": [
    "Rating.text"
   ]
  },
  {
   "cell_type": "code",
   "execution_count": 241,
   "id": "6d3b2f94",
   "metadata": {},
   "outputs": [
    {
     "data": {
      "text/plain": [
       "(1, 1)"
      ]
     },
     "execution_count": 241,
     "metadata": {},
     "output_type": "execute_result"
    }
   ],
   "source": [
    "len(Title),len(Rating)"
   ]
  },
  {
   "cell_type": "code",
   "execution_count": 242,
   "id": "6f7ddb8f",
   "metadata": {},
   "outputs": [
    {
     "ename": "AttributeError",
     "evalue": "'list' object has no attribute 'DataFrame'",
     "output_type": "error",
     "traceback": [
      "\u001b[1;31m---------------------------------------------------------------------------\u001b[0m",
      "\u001b[1;31mAttributeError\u001b[0m                            Traceback (most recent call last)",
      "\u001b[1;32mC:\\Users\\SSIMST~1\\AppData\\Local\\Temp/ipykernel_9724/1965461050.py\u001b[0m in \u001b[0;36m<module>\u001b[1;34m\u001b[0m\n\u001b[1;32m----> 1\u001b[1;33m \u001b[0mdf\u001b[0m\u001b[1;33m=\u001b[0m\u001b[0mpd\u001b[0m\u001b[1;33m.\u001b[0m\u001b[0mDataFrame\u001b[0m\u001b[1;33m(\u001b[0m\u001b[1;33m{\u001b[0m\u001b[1;34m'Title'\u001b[0m\u001b[1;33m:\u001b[0m\u001b[0mtitle\u001b[0m\u001b[1;33m,\u001b[0m\u001b[1;34m'Rating'\u001b[0m\u001b[1;33m:\u001b[0m\u001b[0mRating\u001b[0m\u001b[1;33m}\u001b[0m\u001b[1;33m)\u001b[0m\u001b[1;33m\u001b[0m\u001b[1;33m\u001b[0m\u001b[0m\n\u001b[0m\u001b[0;32m      2\u001b[0m \u001b[0mdf\u001b[0m\u001b[1;33m\u001b[0m\u001b[1;33m\u001b[0m\u001b[0m\n",
      "\u001b[1;31mAttributeError\u001b[0m: 'list' object has no attribute 'DataFrame'"
     ]
    }
   ],
   "source": [
    "df=pd.DataFrame({'Title':title,'Rating':Rating})\n",
    "df"
   ]
  },
  {
   "cell_type": "markdown",
   "id": "a487a364",
   "metadata": {},
   "source": [
    "Q9: Write a python program to scrape data for first 10 job results for Data Scientist Designation in Noida location. You have to scrape company name, No. of days ago when job was posted, Rating of the company. This task will be done in following steps:\n",
    "\n",
    "1.First get the webpage https://www.ambitionbox.com/\n",
    "2.Click on the Job option as shown in the image\n",
    "3.After reaching to the next webpage, In place of “Search by Designations, Companies, Skills” enter “Data Scientist” and click on search button.\n",
    "4.You will reach to the following web page click on location and in place of “Search location” enter “Noida” and select location “Noida”.\n",
    "5.Then scrape the data for the first 10 jobs results you get on the above shown page.\n",
    "6.Finally create a dataframe of the scraped data. Note: All the steps required during scraping should be done through code only and not manually."
   ]
  },
  {
   "cell_type": "code",
   "execution_count": 243,
   "id": "11369127",
   "metadata": {},
   "outputs": [],
   "source": [
    "driver = webdriver.Chrome(r\"C:\\Users\\SSIM STUDENT\\Desktop\\job\\DA\\chromedriver.exe\")\n",
    "time.sleep(2)\n",
    "driver.get('https://www.ambitionbox.com/')"
   ]
  },
  {
   "cell_type": "code",
   "execution_count": 244,
   "id": "a4aaffa9",
   "metadata": {},
   "outputs": [],
   "source": [
    "button = driver.find_element_by_xpath(\"/html/body/div[1]/nav/nav/a[6]\")\n",
    "button.click()"
   ]
  },
  {
   "cell_type": "code",
   "execution_count": 245,
   "id": "2da780f0",
   "metadata": {},
   "outputs": [],
   "source": [
    "search = driver.find_element_by_xpath('/html/body/div/div/div/div[2]/div[1]/div[1]/div/div/div/div/span/input')\n",
    "search.send_keys('Data Scientist')"
   ]
  },
  {
   "cell_type": "code",
   "execution_count": 246,
   "id": "e40ab56c",
   "metadata": {},
   "outputs": [],
   "source": [
    "button = driver.find_element_by_xpath(\"/html/body/div/div/div/div[2]/div[1]/div[1]/div/div/div/button\")\n",
    "button.click()"
   ]
  },
  {
   "cell_type": "code",
   "execution_count": 247,
   "id": "fc76b0f2",
   "metadata": {},
   "outputs": [],
   "source": [
    "button = driver.find_element_by_xpath(\"/html/body/div/div/div/div[2]/div[1]/div[2]/div[1]/div/div/div/div[2]/div[1]/p\")\n",
    "button.click()"
   ]
  },
  {
   "cell_type": "code",
   "execution_count": 248,
   "id": "87e0ca6f",
   "metadata": {},
   "outputs": [],
   "source": [
    "button = driver.find_element_by_xpath(\"/html/body/div/div/div/div[2]/div[1]/div[2]/div[1]/div/div/div/div[2]/div[2]/div/div[3]/div[1]/div[5]/div/label\")\n",
    "button.click()"
   ]
  },
  {
   "cell_type": "code",
   "execution_count": 249,
   "id": "5b66ec01",
   "metadata": {},
   "outputs": [
    {
     "data": {
      "text/plain": [
       "'Principal Data Scientist'"
      ]
     },
     "execution_count": 249,
     "metadata": {},
     "output_type": "execute_result"
    }
   ],
   "source": [
    "tit=driver.find_element_by_xpath('//a[@class=\"title noclick\"]')\n",
    "tit\n",
    "tit.text"
   ]
  },
  {
   "cell_type": "code",
   "execution_count": 250,
   "id": "030bd73f",
   "metadata": {},
   "outputs": [
    {
     "data": {
      "text/plain": [
       "[<selenium.webdriver.remote.webelement.WebElement (session=\"70f4e6c3dbc21b10705864830d3b513b\", element=\"55417628-7983-455c-8a44-74ca76bb5e74\")>,\n",
       " <selenium.webdriver.remote.webelement.WebElement (session=\"70f4e6c3dbc21b10705864830d3b513b\", element=\"e6e2919e-0760-4746-97bd-70fe0d31b2fc\")>]"
      ]
     },
     "execution_count": 250,
     "metadata": {},
     "output_type": "execute_result"
    }
   ],
   "source": [
    "title=driver.find_elements_by_xpath('//a[@class=\"title noclick\"]')\n",
    "title[0:2]"
   ]
  },
  {
   "cell_type": "code",
   "execution_count": 251,
   "id": "acd3c87f",
   "metadata": {},
   "outputs": [
    {
     "data": {
      "text/plain": [
       "['Principal Data Scientist',\n",
       " 'Data Scientist',\n",
       " 'Data Scientist',\n",
       " 'Job Opening For Data Scientist position with Wipro - Bangalore',\n",
       " 'Lead Data Scientist - OptumLabs',\n",
       " 'Urgent hiring_Data Scientist_Tata Consultancy Services(Tcs)',\n",
       " 'Urgent hiring_Data Scientist_Tata Consultancy Services(Tcs)Pan India',\n",
       " 'Senior Marketing Data Scientist',\n",
       " 'Senior Data Scientist',\n",
       " 'Immediate opening For Data Scientist @ Bangalore/Hyderabad /Mumbai']"
      ]
     },
     "execution_count": 251,
     "metadata": {},
     "output_type": "execute_result"
    }
   ],
   "source": [
    "JOB=[]\n",
    "for i in title:\n",
    "    JOB.append(i.text)\n",
    "JOB"
   ]
  },
  {
   "cell_type": "code",
   "execution_count": 252,
   "id": "3cb9121e",
   "metadata": {},
   "outputs": [
    {
     "data": {
      "text/plain": [
       "<selenium.webdriver.remote.webelement.WebElement (session=\"70f4e6c3dbc21b10705864830d3b513b\", element=\"e2a302a4-ee49-4105-b919-8a9072560a86\")>"
      ]
     },
     "execution_count": 252,
     "metadata": {},
     "output_type": "execute_result"
    }
   ],
   "source": [
    "comp=driver.find_element_by_xpath('//p[@class=\"company body-medium\"]')\n",
    "comp"
   ]
  },
  {
   "cell_type": "code",
   "execution_count": 253,
   "id": "fa3bcd1c",
   "metadata": {},
   "outputs": [
    {
     "data": {
      "text/plain": [
       "'Sanofi India Ltd'"
      ]
     },
     "execution_count": 253,
     "metadata": {},
     "output_type": "execute_result"
    }
   ],
   "source": [
    "comp.text"
   ]
  },
  {
   "cell_type": "code",
   "execution_count": 254,
   "id": "e6e5a684",
   "metadata": {},
   "outputs": [
    {
     "data": {
      "text/plain": [
       "[<selenium.webdriver.remote.webelement.WebElement (session=\"70f4e6c3dbc21b10705864830d3b513b\", element=\"e2a302a4-ee49-4105-b919-8a9072560a86\")>,\n",
       " <selenium.webdriver.remote.webelement.WebElement (session=\"70f4e6c3dbc21b10705864830d3b513b\", element=\"4272986d-b1e6-4fff-ae39-9c5cd5fddb66\")>]"
      ]
     },
     "execution_count": 254,
     "metadata": {},
     "output_type": "execute_result"
    }
   ],
   "source": [
    "company=driver.find_elements_by_xpath('//p[@class=\"company body-medium\"]')\n",
    "company[0:2]\n"
   ]
  },
  {
   "cell_type": "code",
   "execution_count": 255,
   "id": "c201197a",
   "metadata": {},
   "outputs": [
    {
     "data": {
      "text/plain": [
       "['Sanofi India Ltd', 'GENPACT India Private Limited']"
      ]
     },
     "execution_count": 255,
     "metadata": {},
     "output_type": "execute_result"
    }
   ],
   "source": [
    "NamE=[]\n",
    "for i in company:\n",
    "    NamE.append(i.text)\n",
    "NamE[0:2]"
   ]
  },
  {
   "cell_type": "code",
   "execution_count": 256,
   "id": "e4c4e5cc",
   "metadata": {},
   "outputs": [
    {
     "data": {
      "text/plain": [
       "'5-8 years'"
      ]
     },
     "execution_count": 256,
     "metadata": {},
     "output_type": "execute_result"
    }
   ],
   "source": [
    "exep=driver.find_element_by_xpath('//div[@class=\"entity\"]/p[1]')\n",
    "exep\n",
    "exep.text"
   ]
  },
  {
   "cell_type": "code",
   "execution_count": 257,
   "id": "8aaab246",
   "metadata": {},
   "outputs": [
    {
     "data": {
      "text/plain": [
       "[<selenium.webdriver.remote.webelement.WebElement (session=\"70f4e6c3dbc21b10705864830d3b513b\", element=\"10ba0158-eea3-496a-b678-09b0522f999d\")>,\n",
       " <selenium.webdriver.remote.webelement.WebElement (session=\"70f4e6c3dbc21b10705864830d3b513b\", element=\"768b8aa7-7a31-47e2-832b-998be67d6d30\")>]"
      ]
     },
     "execution_count": 257,
     "metadata": {},
     "output_type": "execute_result"
    }
   ],
   "source": [
    "exep_req=driver.find_elements_by_xpath('//div[@class=\"entity\"]/p[1]')\n",
    "exep_req[0:2]"
   ]
  },
  {
   "cell_type": "code",
   "execution_count": 258,
   "id": "2ffe72e3",
   "metadata": {},
   "outputs": [
    {
     "data": {
      "text/plain": [
       "['5-8 years', 'Not Disclosed']"
      ]
     },
     "execution_count": 258,
     "metadata": {},
     "output_type": "execute_result"
    }
   ],
   "source": [
    "EXE=[]\n",
    "for i in exep_req:\n",
    "    EXE.append(i.text)\n",
    "EXE[0:2]"
   ]
  },
  {
   "cell_type": "code",
   "execution_count": 259,
   "id": "6a984564",
   "metadata": {},
   "outputs": [
    {
     "data": {
      "text/plain": [
       "32"
      ]
     },
     "execution_count": 259,
     "metadata": {},
     "output_type": "execute_result"
    }
   ],
   "source": [
    "len(EXE)"
   ]
  },
  {
   "cell_type": "code",
   "execution_count": 260,
   "id": "30bcb701",
   "metadata": {},
   "outputs": [
    {
     "data": {
      "text/plain": [
       "10"
      ]
     },
     "execution_count": 260,
     "metadata": {},
     "output_type": "execute_result"
    }
   ],
   "source": [
    "Exe=EXE[0:10]\n",
    "len(Exe)"
   ]
  },
  {
   "cell_type": "code",
   "execution_count": 261,
   "id": "61d47ecc",
   "metadata": {},
   "outputs": [
    {
     "data": {
      "text/plain": [
       "'Hyderabad/Secunderabad'"
      ]
     },
     "execution_count": 261,
     "metadata": {},
     "output_type": "execute_result"
    }
   ],
   "source": [
    "loc=driver.find_element_by_xpath('//div[@class=\"entity loc\"]/p')\n",
    "loc\n",
    "loc.text"
   ]
  },
  {
   "cell_type": "code",
   "execution_count": 262,
   "id": "1c20d1a4",
   "metadata": {},
   "outputs": [
    {
     "data": {
      "text/plain": [
       "[<selenium.webdriver.remote.webelement.WebElement (session=\"70f4e6c3dbc21b10705864830d3b513b\", element=\"a47ab38c-3461-4057-a3ea-e9bdcc07e5d8\")>,\n",
       " <selenium.webdriver.remote.webelement.WebElement (session=\"70f4e6c3dbc21b10705864830d3b513b\", element=\"166905db-d8f1-43dc-a3b9-e8f7c61cdbaa\")>]"
      ]
     },
     "execution_count": 262,
     "metadata": {},
     "output_type": "execute_result"
    }
   ],
   "source": [
    "lo=driver.find_elements_by_xpath('//div[@class=\"entity loc\"]/p')\n",
    "lo[0:2]"
   ]
  },
  {
   "cell_type": "code",
   "execution_count": 263,
   "id": "ebe662a1",
   "metadata": {},
   "outputs": [
    {
     "data": {
      "text/plain": [
       "['Hyderabad/Secunderabad', 'Hyderabad/Secunderabad']"
      ]
     },
     "execution_count": 263,
     "metadata": {},
     "output_type": "execute_result"
    }
   ],
   "source": [
    "Loc=[]\n",
    "for i in lo:\n",
    "    Loc.append(i.text)\n",
    "Loc[0:2]"
   ]
  },
  {
   "cell_type": "code",
   "execution_count": 264,
   "id": "c1f06c19",
   "metadata": {},
   "outputs": [
    {
     "ename": "AttributeError",
     "evalue": "'list' object has no attribute 'DataFrame'",
     "output_type": "error",
     "traceback": [
      "\u001b[1;31m---------------------------------------------------------------------------\u001b[0m",
      "\u001b[1;31mAttributeError\u001b[0m                            Traceback (most recent call last)",
      "\u001b[1;32mC:\\Users\\SSIMST~1\\AppData\\Local\\Temp/ipykernel_9724/311897404.py\u001b[0m in \u001b[0;36m<module>\u001b[1;34m\u001b[0m\n\u001b[1;32m----> 1\u001b[1;33m \u001b[0mdf\u001b[0m\u001b[1;33m=\u001b[0m\u001b[0mpd\u001b[0m\u001b[1;33m.\u001b[0m\u001b[0mDataFrame\u001b[0m\u001b[1;33m(\u001b[0m\u001b[1;33m{\u001b[0m\u001b[1;34m'Job-Role'\u001b[0m\u001b[1;33m:\u001b[0m\u001b[0mJOB\u001b[0m\u001b[1;33m,\u001b[0m\u001b[1;34m'Company-Name'\u001b[0m\u001b[1;33m:\u001b[0m\u001b[0mNamE\u001b[0m\u001b[1;33m,\u001b[0m\u001b[1;34m'Experience-Required'\u001b[0m\u001b[1;33m:\u001b[0m\u001b[0mExe\u001b[0m\u001b[1;33m}\u001b[0m\u001b[1;33m)\u001b[0m\u001b[1;33m\u001b[0m\u001b[1;33m\u001b[0m\u001b[0m\n\u001b[0m\u001b[0;32m      2\u001b[0m \u001b[0mdf\u001b[0m\u001b[1;33m\u001b[0m\u001b[1;33m\u001b[0m\u001b[0m\n",
      "\u001b[1;31mAttributeError\u001b[0m: 'list' object has no attribute 'DataFrame'"
     ]
    }
   ],
   "source": [
    "df=pd.DataFrame({'Job-Role':JOB,'Company-Name':NamE,'Experience-Required':Exe})\n",
    "df"
   ]
  },
  {
   "cell_type": "markdown",
   "id": "6a3d4855",
   "metadata": {},
   "source": [
    "Q10: Write a python program to scrape the salary data for Data Scientist designation.\n",
    "You have to scrape Company name, Number of salaries, Average salary, Minsalary, Max Salary.\n",
    "The above task will be, done as shown in the below steps:\n",
    "1. First get the webpage https://www.ambitionbox.com/\n",
    "2. Click on the salaries option as shown in the image.\n",
    "3. After reaching to the following webpage, In place of “Search Job Profile” enters “Data Scientist” and\n",
    "then click on “Data Scientist”.\n",
    "4. Scrape the data for the first 10 companies. Scrape the company name, total salary record, average\n",
    "salary, minimum salary, maximum salary, experience required.\n",
    "5. Store the data in a dataframe."
   ]
  },
  {
   "cell_type": "code",
   "execution_count": 265,
   "id": "6440e3f4",
   "metadata": {},
   "outputs": [],
   "source": [
    "driver = webdriver.Chrome(r\"C:\\Users\\SSIM STUDENT\\Desktop\\job\\DA\\chromedriver.exe\")\n",
    "time.sleep(2)\n",
    "driver.get('https://www.ambitionbox.com/')"
   ]
  },
  {
   "cell_type": "code",
   "execution_count": 266,
   "id": "d946023a",
   "metadata": {},
   "outputs": [],
   "source": [
    "button = driver.find_element_by_xpath(\"/html/body/div[1]/nav/nav/a[4]\")\n",
    "button.click()"
   ]
  },
  {
   "cell_type": "code",
   "execution_count": 267,
   "id": "abd6ab9e",
   "metadata": {},
   "outputs": [],
   "source": [
    "search = driver.find_element_by_xpath('/html/body/div/div/div/main/section[1]/div[2]/div[1]/span/input')\n",
    "search.send_keys('Data Scientist')"
   ]
  },
  {
   "cell_type": "code",
   "execution_count": 268,
   "id": "4da76040",
   "metadata": {},
   "outputs": [],
   "source": [
    "button = driver.find_element_by_xpath(\"/html/body/div/div/div/main/section[1]/div[2]/div[1]/i[1]\")\n",
    "button.click()"
   ]
  },
  {
   "cell_type": "code",
   "execution_count": 269,
   "id": "c58e4755",
   "metadata": {},
   "outputs": [],
   "source": [
    "companyname=[]\n",
    "totalsalaryrecord=[]\n",
    "averagesalary = []\n",
    "experiencerequired = []"
   ]
  },
  {
   "cell_type": "code",
   "execution_count": 270,
   "id": "0766c200",
   "metadata": {},
   "outputs": [
    {
     "data": {
      "text/plain": [
       "<selenium.webdriver.remote.webelement.WebElement (session=\"25e6004a755dec5c9b469b851a76489c\", element=\"8c71a512-7702-40cb-9704-87b20c0b224a\")>"
      ]
     },
     "execution_count": 270,
     "metadata": {},
     "output_type": "execute_result"
    }
   ],
   "source": [
    "cp = driver.find_element_by_class_name('name')\n",
    "cp"
   ]
  },
  {
   "cell_type": "code",
   "execution_count": 271,
   "id": "205eccf9",
   "metadata": {},
   "outputs": [
    {
     "data": {
      "text/plain": [
       "'Google'"
      ]
     },
     "execution_count": 271,
     "metadata": {},
     "output_type": "execute_result"
    }
   ],
   "source": [
    "cp.text.split()[0]"
   ]
  },
  {
   "cell_type": "code",
   "execution_count": 272,
   "id": "24dee7c2",
   "metadata": {},
   "outputs": [
    {
     "data": {
      "text/plain": [
       "[<selenium.webdriver.remote.webelement.WebElement (session=\"25e6004a755dec5c9b469b851a76489c\", element=\"8c71a512-7702-40cb-9704-87b20c0b224a\")>,\n",
       " <selenium.webdriver.remote.webelement.WebElement (session=\"25e6004a755dec5c9b469b851a76489c\", element=\"4288ad37-b560-4e1e-ab5d-3d07543e1415\")>]"
      ]
     },
     "execution_count": 272,
     "metadata": {},
     "output_type": "execute_result"
    }
   ],
   "source": [
    "cp = driver.find_elements_by_class_name('name')\n",
    "c=cp[0:10]\n",
    "c[0:2]"
   ]
  },
  {
   "cell_type": "code",
   "execution_count": 273,
   "id": "215414d8",
   "metadata": {},
   "outputs": [
    {
     "data": {
      "text/plain": [
       "['Google',\n",
       " 'Microsoft',\n",
       " 'Goldman',\n",
       " 'Tekion',\n",
       " 'Amazon',\n",
       " 'Flipkart',\n",
       " 'Servicenow',\n",
       " 'PayPal',\n",
       " 'Walmart',\n",
       " 'Arcesium']"
      ]
     },
     "execution_count": 273,
     "metadata": {},
     "output_type": "execute_result"
    }
   ],
   "source": [
    "for i in c:\n",
    "    companyname.append(i.text.split()[0])\n",
    "companyname"
   ]
  },
  {
   "cell_type": "code",
   "execution_count": 274,
   "id": "307b2d76",
   "metadata": {},
   "outputs": [
    {
     "data": {
      "text/plain": [
       "<selenium.webdriver.remote.webelement.WebElement (session=\"25e6004a755dec5c9b469b851a76489c\", element=\"1450f150-840f-4a96-97cb-ee6fa1fcb87e\")>"
      ]
     },
     "execution_count": 274,
     "metadata": {},
     "output_type": "execute_result"
    }
   ],
   "source": [
    "tsp=driver.find_element_by_class_name('salary-range-wrapper')\n",
    "tsp"
   ]
  },
  {
   "cell_type": "code",
   "execution_count": 275,
   "id": "7d4b1ef4",
   "metadata": {},
   "outputs": [
    {
     "data": {
      "text/plain": [
       "'   31.8L\\n   11.0L\\n   65.0L'"
      ]
     },
     "execution_count": 275,
     "metadata": {},
     "output_type": "execute_result"
    }
   ],
   "source": [
    "tsp.text.replace('₹','  ')"
   ]
  },
  {
   "cell_type": "code",
   "execution_count": 276,
   "id": "54253480",
   "metadata": {},
   "outputs": [
    {
     "data": {
      "text/plain": [
       "[<selenium.webdriver.remote.webelement.WebElement (session=\"25e6004a755dec5c9b469b851a76489c\", element=\"1450f150-840f-4a96-97cb-ee6fa1fcb87e\")>,\n",
       " <selenium.webdriver.remote.webelement.WebElement (session=\"25e6004a755dec5c9b469b851a76489c\", element=\"b983bffd-8514-424f-a6c9-73e67cfc1294\")>]"
      ]
     },
     "execution_count": 276,
     "metadata": {},
     "output_type": "execute_result"
    }
   ],
   "source": [
    "tsp=driver.find_elements_by_class_name('salary-range-wrapper')\n",
    "ts=tsp[0:10]\n",
    "ts[0:2]"
   ]
  },
  {
   "cell_type": "code",
   "execution_count": 277,
   "id": "d2385df8",
   "metadata": {},
   "outputs": [
    {
     "data": {
      "text/plain": [
       "['   31.8L\\n   11.0L\\n   65.0L',\n",
       " '   23.9L\\n   13.0L\\n   45.0L',\n",
       " '   23.0L\\n   12.0L\\n   34.0L',\n",
       " '   21.1L\\n   12.0L\\n   33.0L',\n",
       " '   20.9L\\n   8.0L\\n   45.0L',\n",
       " '   20.6L\\n   7.5L\\n   31.0L',\n",
       " '   20.4L\\n   13.0L\\n   28.0L',\n",
       " '   20.1L\\n   12.0L\\n   31.0L',\n",
       " '   19.9L\\n   11.4L\\n   32.5L',\n",
       " '   19.3L\\n   12.0L\\n   34.0L']"
      ]
     },
     "execution_count": 277,
     "metadata": {},
     "output_type": "execute_result"
    }
   ],
   "source": [
    "for i in ts:\n",
    "    totalsalaryrecord.append(i.text.replace('₹','  '))\n",
    "totalsalaryrecord"
   ]
  },
  {
   "cell_type": "code",
   "execution_count": 278,
   "id": "397635c0",
   "metadata": {},
   "outputs": [
    {
     "data": {
      "text/plain": [
       "<selenium.webdriver.remote.webelement.WebElement (session=\"25e6004a755dec5c9b469b851a76489c\", element=\"daca18a8-2f32-4927-a155-5f92c28faa9e\")>"
      ]
     },
     "execution_count": 278,
     "metadata": {},
     "output_type": "execute_result"
    }
   ],
   "source": [
    "asa = driver.find_element_by_class_name('averageCtc')\n",
    "asa"
   ]
  },
  {
   "cell_type": "code",
   "execution_count": 279,
   "id": "2627003c",
   "metadata": {},
   "outputs": [
    {
     "data": {
      "text/plain": [
       "'   31.8L'"
      ]
     },
     "execution_count": 279,
     "metadata": {},
     "output_type": "execute_result"
    }
   ],
   "source": [
    "asa.text.replace('₹','  ')"
   ]
  },
  {
   "cell_type": "code",
   "execution_count": 280,
   "id": "ca037252",
   "metadata": {},
   "outputs": [
    {
     "data": {
      "text/plain": [
       "[<selenium.webdriver.remote.webelement.WebElement (session=\"25e6004a755dec5c9b469b851a76489c\", element=\"daca18a8-2f32-4927-a155-5f92c28faa9e\")>,\n",
       " <selenium.webdriver.remote.webelement.WebElement (session=\"25e6004a755dec5c9b469b851a76489c\", element=\"eb6279a4-8b4e-41ea-8f86-5d5cd96e6f5c\")>]"
      ]
     },
     "execution_count": 280,
     "metadata": {},
     "output_type": "execute_result"
    }
   ],
   "source": [
    "asa = driver.find_elements_by_class_name('averageCtc')\n",
    "asal = asa[0:10]\n",
    "asal[0:2]"
   ]
  },
  {
   "cell_type": "code",
   "execution_count": 281,
   "id": "8d07ae9f",
   "metadata": {},
   "outputs": [
    {
     "data": {
      "text/plain": [
       "['   31.8L',\n",
       " '   23.9L',\n",
       " '   23.0L',\n",
       " '   21.1L',\n",
       " '   20.9L',\n",
       " '   20.6L',\n",
       " '   20.4L',\n",
       " '   20.1L',\n",
       " '   19.9L',\n",
       " '   19.3L']"
      ]
     },
     "execution_count": 281,
     "metadata": {},
     "output_type": "execute_result"
    }
   ],
   "source": [
    "for i in asal:\n",
    "    averagesalary.append(i.text.replace('₹','  '))\n",
    "averagesalary"
   ]
  },
  {
   "cell_type": "code",
   "execution_count": 282,
   "id": "5a60f74c",
   "metadata": {},
   "outputs": [
    {
     "data": {
      "text/plain": [
       "<selenium.webdriver.remote.webelement.WebElement (session=\"25e6004a755dec5c9b469b851a76489c\", element=\"faac2ce6-266b-47af-a813-0495384b0d46\")>"
      ]
     },
     "execution_count": 282,
     "metadata": {},
     "output_type": "execute_result"
    }
   ],
   "source": [
    "sal=driver.find_element_by_xpath('/html/body/div/div/div/main/section[1]/div[2]/div[3]/div[2]/div[1]/div[2]/div/div[2]')\n",
    "sal"
   ]
  },
  {
   "cell_type": "code",
   "execution_count": 283,
   "id": "1e5a8fc7",
   "metadata": {},
   "outputs": [
    {
     "data": {
      "text/plain": [
       "'   11.0L\\n   65.0L'"
      ]
     },
     "execution_count": 283,
     "metadata": {},
     "output_type": "execute_result"
    }
   ],
   "source": [
    "sal.text.replace('₹','  ')"
   ]
  },
  {
   "cell_type": "code",
   "execution_count": 284,
   "id": "c2211785",
   "metadata": {},
   "outputs": [
    {
     "data": {
      "text/plain": [
       "[<selenium.webdriver.remote.webelement.WebElement (session=\"25e6004a755dec5c9b469b851a76489c\", element=\"faac2ce6-266b-47af-a813-0495384b0d46\")>,\n",
       " <selenium.webdriver.remote.webelement.WebElement (session=\"25e6004a755dec5c9b469b851a76489c\", element=\"7446f01e-6c90-4245-b4b2-a0b809292a3d\")>]"
      ]
     },
     "execution_count": 284,
     "metadata": {},
     "output_type": "execute_result"
    }
   ],
   "source": [
    "sal=driver.find_elements_by_xpath('//div[@class=\"salary-values\"]')\n",
    "sal[0:2]"
   ]
  },
  {
   "cell_type": "code",
   "execution_count": 285,
   "id": "fc618ff5",
   "metadata": {},
   "outputs": [
    {
     "data": {
      "text/plain": [
       "['   11.0L\\n   65.0L', '   13.0L\\n   45.0L']"
      ]
     },
     "execution_count": 285,
     "metadata": {},
     "output_type": "execute_result"
    }
   ],
   "source": [
    "salary=[]\n",
    "for i in sal:\n",
    "    salary.append(i.text.replace('₹','  '))\n",
    "salary[0:2]"
   ]
  },
  {
   "cell_type": "code",
   "execution_count": 286,
   "id": "a5b10d4e",
   "metadata": {},
   "outputs": [
    {
     "data": {
      "text/plain": [
       "[<selenium.webdriver.remote.webelement.WebElement (session=\"25e6004a755dec5c9b469b851a76489c\", element=\"e15af2f0-0cb9-42cd-97e0-8ea03543594c\")>,\n",
       " <selenium.webdriver.remote.webelement.WebElement (session=\"25e6004a755dec5c9b469b851a76489c\", element=\"ca088245-d67f-4940-9a94-c3190165aeaa\")>]"
      ]
     },
     "execution_count": 286,
     "metadata": {},
     "output_type": "execute_result"
    }
   ],
   "source": [
    "er=driver.find_elements_by_xpath('//div[@class=\"salaries sbold-list-header\"]')\n",
    "er[0:2]"
   ]
  },
  {
   "cell_type": "code",
   "execution_count": 287,
   "id": "fac6c1cd",
   "metadata": {},
   "outputs": [
    {
     "data": {
      "text/plain": [
       "['1-3', '1-4', '2', '2-4', '1-4', '1-4', '2-4', '1-2', '1-4', '1-2']"
      ]
     },
     "execution_count": 287,
     "metadata": {},
     "output_type": "execute_result"
    }
   ],
   "source": [
    "for i in er:\n",
    "    experiencerequired.append(i.text.split()[3])\n",
    "experiencerequired"
   ]
  },
  {
   "cell_type": "code",
   "execution_count": 288,
   "id": "1eb19c60",
   "metadata": {},
   "outputs": [
    {
     "data": {
      "text/plain": [
       "(10, 10, 10, 10, 10)"
      ]
     },
     "execution_count": 288,
     "metadata": {},
     "output_type": "execute_result"
    }
   ],
   "source": [
    "len(companyname),len(totalsalaryrecord),len(averagesalary),len(salary),len(experiencerequired)"
   ]
  },
  {
   "cell_type": "code",
   "execution_count": 289,
   "id": "db357c60",
   "metadata": {},
   "outputs": [
    {
     "ename": "AttributeError",
     "evalue": "'list' object has no attribute 'DataFrame'",
     "output_type": "error",
     "traceback": [
      "\u001b[1;31m---------------------------------------------------------------------------\u001b[0m",
      "\u001b[1;31mAttributeError\u001b[0m                            Traceback (most recent call last)",
      "\u001b[1;32mC:\\Users\\SSIMST~1\\AppData\\Local\\Temp/ipykernel_9724/684584945.py\u001b[0m in \u001b[0;36m<module>\u001b[1;34m\u001b[0m\n\u001b[1;32m----> 1\u001b[1;33m \u001b[0msalary_data\u001b[0m\u001b[1;33m=\u001b[0m\u001b[0mpd\u001b[0m\u001b[1;33m.\u001b[0m\u001b[0mDataFrame\u001b[0m\u001b[1;33m(\u001b[0m\u001b[1;33m{\u001b[0m\u001b[1;34m'Company Name'\u001b[0m\u001b[1;33m:\u001b[0m\u001b[0mcompanyname\u001b[0m\u001b[1;33m,\u001b[0m\u001b[1;34m'Total salary record'\u001b[0m\u001b[1;33m:\u001b[0m\u001b[0mtotalsalaryrecord\u001b[0m\u001b[1;33m,\u001b[0m\u001b[1;34m'Average Salary'\u001b[0m\u001b[1;33m:\u001b[0m\u001b[0maveragesalary\u001b[0m\u001b[1;33m,\u001b[0m\u001b[1;34m'Min_Max Salary'\u001b[0m\u001b[1;33m:\u001b[0m\u001b[0msalary\u001b[0m\u001b[1;33m,\u001b[0m\u001b[1;34m'Experience Required'\u001b[0m\u001b[1;33m:\u001b[0m\u001b[0mexperiencerequired\u001b[0m\u001b[1;33m}\u001b[0m\u001b[1;33m)\u001b[0m\u001b[1;33m\u001b[0m\u001b[1;33m\u001b[0m\u001b[0m\n\u001b[0m\u001b[0;32m      2\u001b[0m \u001b[0msalary_data\u001b[0m\u001b[1;33m\u001b[0m\u001b[1;33m\u001b[0m\u001b[0m\n",
      "\u001b[1;31mAttributeError\u001b[0m: 'list' object has no attribute 'DataFrame'"
     ]
    }
   ],
   "source": [
    "salary_data=pd.DataFrame({'Company Name':companyname,'Total salary record':totalsalaryrecord,'Average Salary':averagesalary,'Min_Max Salary':salary,'Experience Required':experiencerequired})\n",
    "salary_data"
   ]
  },
  {
   "cell_type": "markdown",
   "id": "6c920e87",
   "metadata": {},
   "source": [
    "Q2: Write a python program to scrape data for “Data Scientist” Job position in “Bangalore” location. You\n",
    "have to scrape the job-title, job-location, company_name. You have to scrape first 10 jobs data.\n",
    "This task will be done in following steps:\n",
    "1. First get the webpage https://www.naukri.com/\n",
    "2. Enter “Data Scientist” in “Skill, Designations, Companies” field and enter “Bangalore” in “enter the\n",
    "location” field.\n",
    "3. Then click the search button.\n",
    "4. Then scrape the data for the first 10 jobs results you get.\n",
    "5. Finally create a dataframe of the scraped data."
   ]
  },
  {
   "cell_type": "code",
   "execution_count": 290,
   "id": "3bbc78ab",
   "metadata": {},
   "outputs": [],
   "source": [
    "driver = webdriver.Chrome(r\"C:\\Users\\SSIM STUDENT\\Desktop\\job\\DA\\chromedriver.exe\")\n",
    "time.sleep(2)"
   ]
  },
  {
   "cell_type": "code",
   "execution_count": 291,
   "id": "f3281cf8",
   "metadata": {},
   "outputs": [],
   "source": [
    "driver.get('https://www.naukri.com/')"
   ]
  },
  {
   "cell_type": "code",
   "execution_count": 292,
   "id": "fe11064e",
   "metadata": {},
   "outputs": [],
   "source": [
    "search_field_designation=driver.find_element_by_class_name(\"suggestor-input \")\n",
    "search_field_designation.send_keys(\"Data Scientist\")"
   ]
  },
  {
   "cell_type": "code",
   "execution_count": 293,
   "id": "a4068e19",
   "metadata": {},
   "outputs": [],
   "source": [
    "search_field_location=driver.find_element_by_xpath('/html/body/div/div[2]/div[3]/div/div/div[5]/div/div/div/input')\n",
    "search_field_location.send_keys(\"Bangalore\")"
   ]
  },
  {
   "cell_type": "code",
   "execution_count": 294,
   "id": "6b308c18",
   "metadata": {},
   "outputs": [],
   "source": [
    "search_button = driver.find_element_by_xpath(\"/html/body/div/div[2]/div[3]/div/div/div[6]\")\n",
    "search_button.click()"
   ]
  },
  {
   "cell_type": "code",
   "execution_count": 295,
   "id": "ef532eab",
   "metadata": {},
   "outputs": [],
   "source": [
    "Job_Role1=[]\n",
    "Comp_names1=[]\n",
    "Location_list1=[]"
   ]
  },
  {
   "cell_type": "code",
   "execution_count": 296,
   "id": "39845994",
   "metadata": {},
   "outputs": [
    {
     "data": {
      "text/plain": [
       "[<selenium.webdriver.remote.webelement.WebElement (session=\"e264ae597ac3a4a071dddf882c540115\", element=\"a2b0830e-06a8-4810-b49d-5334855b5403\")>,\n",
       " <selenium.webdriver.remote.webelement.WebElement (session=\"e264ae597ac3a4a071dddf882c540115\", element=\"f5071c1f-0f6c-48ad-b4a2-0282c29d2384\")>]"
      ]
     },
     "execution_count": 296,
     "metadata": {},
     "output_type": "execute_result"
    }
   ],
   "source": [
    "title_tags=driver.find_elements_by_xpath(\"//a[@class='title fw500 ellipsis']\")\n",
    "title_tags[0:2]"
   ]
  },
  {
   "cell_type": "code",
   "execution_count": 297,
   "id": "313c5734",
   "metadata": {},
   "outputs": [
    {
     "data": {
      "text/plain": [
       "['Senior Data Scientist', 'Data Science - Engineering Manager']"
      ]
     },
     "execution_count": 297,
     "metadata": {},
     "output_type": "execute_result"
    }
   ],
   "source": [
    "for i in title_tags:\n",
    "    Job_Role1.append(i.text)\n",
    "Job_Role1[0:2]"
   ]
  },
  {
   "cell_type": "code",
   "execution_count": 298,
   "id": "47cb45d5",
   "metadata": {},
   "outputs": [],
   "source": [
    "Jl1= Job_Role1[0:10]"
   ]
  },
  {
   "cell_type": "code",
   "execution_count": 299,
   "id": "77bbd30e",
   "metadata": {},
   "outputs": [
    {
     "data": {
      "text/plain": [
       "[<selenium.webdriver.remote.webelement.WebElement (session=\"e264ae597ac3a4a071dddf882c540115\", element=\"14b6a8c1-4725-4ab3-9d20-9524a803f8f9\")>,\n",
       " <selenium.webdriver.remote.webelement.WebElement (session=\"e264ae597ac3a4a071dddf882c540115\", element=\"892a361a-3343-4864-bf9a-592bce447251\")>]"
      ]
     },
     "execution_count": 299,
     "metadata": {},
     "output_type": "execute_result"
    }
   ],
   "source": [
    "Company_tags=driver.find_elements_by_xpath(\"//a[@class='subTitle ellipsis fleft']\")\n",
    "Company_tags[0:2]"
   ]
  },
  {
   "cell_type": "code",
   "execution_count": 300,
   "id": "668f4ffb",
   "metadata": {},
   "outputs": [
    {
     "data": {
      "text/plain": [
       "['Baker Hughes',\n",
       " 'Paytm',\n",
       " 'Wipro',\n",
       " 'Wipro',\n",
       " 'Concentrix Daksh Services',\n",
       " 'Applied Materials',\n",
       " 'Applied Materials',\n",
       " 'Applied Materials',\n",
       " 'Applied Materials',\n",
       " 'Schneider Electric']"
      ]
     },
     "execution_count": 300,
     "metadata": {},
     "output_type": "execute_result"
    }
   ],
   "source": [
    "for i in Company_tags:\n",
    "    Comp_names1.append(i.text)\n",
    "Comp_names1[0:10]"
   ]
  },
  {
   "cell_type": "code",
   "execution_count": 301,
   "id": "bc48f372",
   "metadata": {},
   "outputs": [],
   "source": [
    "Cl1=Comp_names1[0:10]"
   ]
  },
  {
   "cell_type": "code",
   "execution_count": 302,
   "id": "c719201f",
   "metadata": {},
   "outputs": [
    {
     "data": {
      "text/plain": [
       "[<selenium.webdriver.remote.webelement.WebElement (session=\"e264ae597ac3a4a071dddf882c540115\", element=\"84567e4d-0a8d-4507-a788-0424c1c3add0\")>,\n",
       " <selenium.webdriver.remote.webelement.WebElement (session=\"e264ae597ac3a4a071dddf882c540115\", element=\"e82624da-d1d6-48b9-9d14-41d8c72e0ae7\")>]"
      ]
     },
     "execution_count": 302,
     "metadata": {},
     "output_type": "execute_result"
    }
   ],
   "source": [
    "Location_lists=driver.find_elements_by_xpath(\"//li[@class='fleft grey-text br2 placeHolderLi location']/span\")\n",
    "Location_lists[0:2]"
   ]
  },
  {
   "cell_type": "code",
   "execution_count": 303,
   "id": "8d1b31d0",
   "metadata": {},
   "outputs": [
    {
     "data": {
      "text/plain": [
       "['Mumbai, Bangalore/Bengaluru', 'Noida, Mumbai, Bangalore/Bengaluru']"
      ]
     },
     "execution_count": 303,
     "metadata": {},
     "output_type": "execute_result"
    }
   ],
   "source": [
    "for i in Location_lists:\n",
    "    Location_list1.append(i.text)\n",
    "Location_list1[0:2]"
   ]
  },
  {
   "cell_type": "code",
   "execution_count": 304,
   "id": "8eaeb709",
   "metadata": {},
   "outputs": [],
   "source": [
    "Ll1=Location_list1[0:10]"
   ]
  },
  {
   "cell_type": "code",
   "execution_count": 305,
   "id": "6926cbc4",
   "metadata": {},
   "outputs": [
    {
     "data": {
      "text/plain": [
       "(10, 10, 10)"
      ]
     },
     "execution_count": 305,
     "metadata": {},
     "output_type": "execute_result"
    }
   ],
   "source": [
    "len(Jl1),len(Cl1),len(Ll1)"
   ]
  },
  {
   "cell_type": "code",
   "execution_count": 306,
   "id": "35166fed",
   "metadata": {},
   "outputs": [
    {
     "ename": "AttributeError",
     "evalue": "'list' object has no attribute 'DataFrame'",
     "output_type": "error",
     "traceback": [
      "\u001b[1;31m---------------------------------------------------------------------------\u001b[0m",
      "\u001b[1;31mAttributeError\u001b[0m                            Traceback (most recent call last)",
      "\u001b[1;32mC:\\Users\\SSIMST~1\\AppData\\Local\\Temp/ipykernel_9724/3098040299.py\u001b[0m in \u001b[0;36m<module>\u001b[1;34m\u001b[0m\n\u001b[1;32m----> 1\u001b[1;33m \u001b[0mjobs\u001b[0m\u001b[1;33m=\u001b[0m\u001b[0mpd\u001b[0m\u001b[1;33m.\u001b[0m\u001b[0mDataFrame\u001b[0m\u001b[1;33m(\u001b[0m\u001b[1;33m{\u001b[0m\u001b[1;34m'title'\u001b[0m\u001b[1;33m:\u001b[0m\u001b[0mJl1\u001b[0m\u001b[1;33m,\u001b[0m\u001b[1;34m'company'\u001b[0m\u001b[1;33m:\u001b[0m\u001b[0mCl1\u001b[0m\u001b[1;33m,\u001b[0m\u001b[1;34m'location'\u001b[0m\u001b[1;33m:\u001b[0m\u001b[0mLl1\u001b[0m\u001b[1;33m}\u001b[0m\u001b[1;33m)\u001b[0m\u001b[1;33m\u001b[0m\u001b[1;33m\u001b[0m\u001b[0m\n\u001b[0m\u001b[0;32m      2\u001b[0m \u001b[0mjobs\u001b[0m\u001b[1;33m\u001b[0m\u001b[1;33m\u001b[0m\u001b[0m\n",
      "\u001b[1;31mAttributeError\u001b[0m: 'list' object has no attribute 'DataFrame'"
     ]
    }
   ],
   "source": [
    "jobs=pd.DataFrame({'title':Jl1,'company':Cl1,'location':Ll1})\n",
    "jobs"
   ]
  },
  {
   "cell_type": "markdown",
   "id": "855ab5ee",
   "metadata": {},
   "source": [
    "Q3: In this question you have to scrape data using the filters available on the webpage as shown below:\n",
    "You have to use the location and salary filter.\n",
    "You have to scrape data for “Data Scientist” designation for first 10 job results.\n",
    "You have to scrape the job-title, job-location, company name, experience required.\n",
    "The location filter to be used is “Delhi/NCR”. The salary filter to be used is “3-6” lakhs\n",
    "The task will be done as shown in the below steps:\n",
    "1. first get the webpage https://www.naukri.com/\n",
    "2. Enter “Data Scientist” in “Skill, Designations, and Companies” field.\n",
    "3. Then click the search button.\n",
    "4. Then apply the location filter and salary filter by checking the respective boxes\n",
    "5. Then scrape the data for the first 10 jobs results you get.\n",
    "6. Finally create a dataframe of the scraped data"
   ]
  },
  {
   "cell_type": "code",
   "execution_count": 307,
   "id": "16dce795",
   "metadata": {},
   "outputs": [],
   "source": [
    "driver = webdriver.Chrome(r\"C:\\Users\\SSIM STUDENT\\Desktop\\job\\DA\\chromedriver.exe\")\n",
    "time.sleep(2)"
   ]
  },
  {
   "cell_type": "code",
   "execution_count": 308,
   "id": "6068489d",
   "metadata": {},
   "outputs": [],
   "source": [
    "driver.get('https://www.naukri.com/')\n",
    "time.sleep(7)"
   ]
  },
  {
   "cell_type": "code",
   "execution_count": 309,
   "id": "971ca30b",
   "metadata": {},
   "outputs": [],
   "source": [
    "search_field_designation=driver.find_element_by_class_name(\"suggestor-input \")\n",
    "search_field_designation.send_keys(\"Data Scientist\")"
   ]
  },
  {
   "cell_type": "code",
   "execution_count": 310,
   "id": "9dfed4b6",
   "metadata": {},
   "outputs": [],
   "source": [
    "search_field_location=driver.find_element_by_xpath('/html/body/div/div[2]/div[3]/div/div/div[5]/div/div/div/input')\n",
    "search_field_location.send_keys(\"Delhi\")"
   ]
  },
  {
   "cell_type": "code",
   "execution_count": 311,
   "id": "18152d8f",
   "metadata": {},
   "outputs": [],
   "source": [
    "search_button = driver.find_element_by_xpath(\"/html/body/div/div[2]/div[3]/div/div/div[6]\")\n",
    "search_button.click()\n",
    "time.sleep(7)"
   ]
  },
  {
   "cell_type": "code",
   "execution_count": 312,
   "id": "7b622eba",
   "metadata": {},
   "outputs": [],
   "source": [
    "Job_Role2=[]\n",
    "Comp_names2=[]\n",
    "Location_list2=[]"
   ]
  },
  {
   "cell_type": "code",
   "execution_count": 313,
   "id": "be9d14d7",
   "metadata": {},
   "outputs": [],
   "source": [
    "button = driver.find_element_by_class_name(\"fw500\")\n",
    "button.click()"
   ]
  },
  {
   "cell_type": "code",
   "execution_count": null,
   "id": "ba35278b",
   "metadata": {},
   "outputs": [],
   "source": []
  },
  {
   "cell_type": "code",
   "execution_count": null,
   "id": "f22468ce",
   "metadata": {},
   "outputs": [],
   "source": []
  }
 ],
 "metadata": {
  "kernelspec": {
   "display_name": "Python 3 (ipykernel)",
   "language": "python",
   "name": "python3"
  },
  "language_info": {
   "codemirror_mode": {
    "name": "ipython",
    "version": 3
   },
   "file_extension": ".py",
   "mimetype": "text/x-python",
   "name": "python",
   "nbconvert_exporter": "python",
   "pygments_lexer": "ipython3",
   "version": "3.9.7"
  }
 },
 "nbformat": 4,
 "nbformat_minor": 5
}
